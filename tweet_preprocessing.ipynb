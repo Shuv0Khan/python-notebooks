{
 "cells": [
  {
   "cell_type": "markdown",
   "metadata": {},
   "source": [
    "### Pre-processing Bios\n",
    "\n",
    "The file contains the userids and bios of twitter users. Suitable techniques from below are used to clean and prepare the data.\n",
    "\n",
    "#### Tweet Cleaning Strategy (in order of recommended execution) -\n",
    "1. **Lowercase** the bios\n",
    "2. **Duplicates** removed.\n",
    "3. **Remove links** and any \"Quick Links: \" text.\n",
    "4. **html** code check, remove if found in the dataset.\n",
    "5. **Tabs** replaced with whitespace.\n",
    "6. **Emoji** to text, ascii emoji to text. Replace consecutive same emoji with a single one. If accuracy suffers then removed.\n",
    "7. **Mentions** remove or replace with mask *USER* depending on accuracy.\n",
    "8. **HashTags** convertion to valid words if possible. If not possible remove or replaced with mask *HASHTAG* depending on accuracy.\n",
    "9. **Special quotation** marks replaced with proper ones.\n",
    "10. **Contraction mapping** and short forms (u, lol etc.) expansion.\n",
    "11. **Consecutive letters** if 3 or more then replaced with only 2 (*heeyyyy* to *heeyy*).\n",
    "12. **Acronyms** expansion.\n",
    "13. **English letters, digits, valid punctuations** kept, everything else removed. \n",
    "14. **Break Alphanumeric words** by adding space between letters and numbers (assuming missing space mistake).\n",
    "15. **Stopwords** removed depending on the hit on accuracy (may be important for emotions?).\n",
    "16. **Space between words and punctuations**. Must be after ascii emoji to text is done and unnecessary ones removed.\n",
    "17. **Spelling correction** based on valid dictionary.\n",
    "18. **POS** generation, tokenization\n",
    "19. **Lemmatization** depending on accuracy.\n",
    "20. **Remove multiple spaces**.\n",
    "21. **Empty sentences** removed from dataset."
   ]
  },
  {
   "cell_type": "code",
   "execution_count": 1,
   "metadata": {},
   "outputs": [
    {
     "name": "stderr",
     "output_type": "stream",
     "text": [
      "[nltk_data] Downloading package stopwords to\n",
      "[nltk_data]     C:\\Users\\shuvo\\AppData\\Roaming\\nltk_data...\n",
      "[nltk_data]   Package stopwords is already up-to-date!\n",
      "[nltk_data] Downloading package punkt to\n",
      "[nltk_data]     C:\\Users\\shuvo\\AppData\\Roaming\\nltk_data...\n",
      "[nltk_data]   Package punkt is already up-to-date!\n",
      "[nltk_data] Downloading package averaged_perceptron_tagger to\n",
      "[nltk_data]     C:\\Users\\shuvo\\AppData\\Roaming\\nltk_data...\n",
      "[nltk_data]   Package averaged_perceptron_tagger is already up-to-\n",
      "[nltk_data]       date!\n"
     ]
    }
   ],
   "source": [
    "import pandas as pd\n",
    "from pathlib import Path\n",
    "from ekphrasis.classes.segmenter import Segmenter\n",
    "import re\n",
    "import nltk\n",
    "nltk.download(\"stopwords\")\n",
    "nltk.download('punkt')\n",
    "nltk.download('averaged_perceptron_tagger')\n",
    "from nltk.corpus import stopwords, wordnet\n",
    "from nltk.stem.porter import PorterStemmer\n",
    "import emoji\n",
    "from tqdm.auto import tqdm\n",
    "from collections import defaultdict\n",
    "import time\n",
    "\n",
    "pd.options.plotting.backend = \"plotly\"\n",
    "pd.options.display.max_colwidth=160"
   ]
  },
  {
   "cell_type": "markdown",
   "metadata": {},
   "source": [
    "### Utility Functions"
   ]
  },
  {
   "cell_type": "markdown",
   "metadata": {},
   "source": [
    "#### Contraction Mapping\n",
    "\n",
    "Dictionary containing valid english contractions from wikipedia."
   ]
  },
  {
   "cell_type": "code",
   "execution_count": 2,
   "metadata": {},
   "outputs": [],
   "source": [
    "contraction_mapping = {\n",
    "    \"ain't\": \"is not\", \"aren't\": \"are not\",\"can't\": \"cannot\", \"'cause\": \"because\",\n",
    "    \"could've\": \"could have\", \"couldn't\": \"could not\", \"didn't\": \"did not\",  \n",
    "    \"doesn't\": \"does not\", \"don't\": \"do not\", \"hadn't\": \"had not\", \"hasn't\": \"has not\",\n",
    "    \"haven't\": \"have not\", \"he'd\": \"he would\",\"he'll\": \"he will\", \"he's\": \"he is\",\n",
    "    \"how'd\": \"how did\", \"how'd'y\": \"how do you\", \"how'll\": \"how will\", \"how's\": \"how is\",\n",
    "    \"I'd\": \"I would\", \"I'd've\": \"I would have\", \"I'll\": \"I will\", \"I'll've\": \"I will have\",\n",
    "    \"I'm\": \"I am\", \"I've\": \"I have\", \"i'd\": \"i would\", \"i'd've\": \"i would have\",\n",
    "    \"i'll\": \"i will\",  \"i'll've\": \"i will have\",\"i'm\": \"i am\", \"i've\": \"i have\",\n",
    "    \"isn't\": \"is not\", \"it'd\": \"it would\", \"it'd've\": \"it would have\", \"it'll\": \"it will\",\n",
    "    \"it'll've\": \"it will have\", \"it's\": \"it is\", \"let's\": \"let us\", \"ma'am\": \"madam\",\n",
    "    \"mayn't\": \"may not\", \"might've\": \"might have\",\"mightn't\": \"might not\",\n",
    "    \"mightn't've\": \"might not have\", \"must've\": \"must have\", \"mustn't\": \"must not\",\n",
    "    \"mustn't've\": \"must not have\", \"needn't\": \"need not\", \"needn't've\": \"need not have\",\n",
    "    \"o'clock\": \"of the clock\", \"oughtn't\": \"ought not\", \"oughtn't've\": \"ought not have\",\n",
    "    \"shan't\": \"shall not\", \"sha'n't\": \"shall not\", \"shan't've\": \"shall not have\",\n",
    "    \"she'd\": \"she would\", \"she'd've\": \"she would have\", \"she'll\": \"she will\", \n",
    "    \"she'll've\": \"she will have\", \"she's\": \"she is\", \"should've\": \"should have\",\n",
    "    \"shouldn't\": \"should not\", \"shouldn't've\": \"should not have\", \"so've\": \"so have\",\n",
    "    \"so's\": \"so as\", \"this's\": \"this is\",\"that'd\": \"that would\", \"that'd've\": \"that would have\",\n",
    "    \"that's\": \"that is\", \"there'd\": \"there would\", \"there'd've\": \"there would have\",\n",
    "    \"there's\": \"there is\", \"here's\": \"here is\",\"they'd\": \"they would\",\n",
    "    \"they'd've\": \"they would have\", \"they'll\": \"they will\", \"they'll've\": \"they will have\",\n",
    "    \"they're\": \"they are\", \"they've\": \"they have\", \"to've\": \"to have\",\n",
    "    \"wasn't\": \"was not\", \"we'd\": \"we would\", \"we'd've\": \"we would have\", \"we'll\": \"we will\",\n",
    "    \"we'll've\": \"we will have\", \"we're\": \"we are\", \"we've\": \"we have\", \"weren't\": \"were not\",\n",
    "    \"what'll\": \"what will\", \"what'll've\": \"what will have\", \"what're\": \"what are\",\n",
    "    \"what's\": \"what is\", \"what've\": \"what have\", \"when's\": \"when is\", \"when've\": \"when have\",\n",
    "    \"where'd\": \"where did\", \"where's\": \"where is\", \"where've\": \"where have\",\n",
    "    \"who'll\": \"who will\", \"who'll've\": \"who will have\", \"who's\": \"who is\", \n",
    "    \"who've\": \"who have\", \"why's\": \"why is\", \"why've\": \"why have\", \"will've\": \"will have\",\n",
    "    \"won't\": \"will not\", \"won't've\": \"will not have\", \"would've\": \"would have\",\n",
    "    \"wouldn't\": \"would not\", \"wouldn't've\": \"would not have\", \"y'all\": \"you all\",\n",
    "    \"y'all'd\": \"you all would\", \"y'all'd've\": \"you all would have\",\"y'all're\": \"you all are\",\n",
    "    \"y'all've\": \"you all have\",\"you'd\": \"you would\", \"you'd've\": \"you would have\",\n",
    "    \"you'll\": \"you will\", \"you'll've\": \"you will have\", \"you're\": \"you are\",\n",
    "    \"you've\": \"you have\", 'u.s':'america', 'e.g':'for example'\n",
    "}"
   ]
  },
  {
   "cell_type": "markdown",
   "metadata": {},
   "source": [
    "#### Text Processing"
   ]
  },
  {
   "cell_type": "code",
   "execution_count": 3,
   "metadata": {},
   "outputs": [],
   "source": [
    "# Regex patterns.\n",
    "url_regx             = r\"(quick\\s*link[s*]\\s*:\\s*)*((http://)[^ ]*|(https://)[^ ]*|( www\\.)[^ ]*)\"\n",
    "user_regx            = r'@[^\\s]+'\n",
    "hashtag_regx         = r'#[^\\s]+'\n",
    "special_quotes_regx  = r'[’|‘|´|`]+'\n",
    "alpha_regx           = r\"[^a-zA-Z':_]\"\n",
    "valid_punc_regx      = r\"([\\\"\\.\\,\\?\\!\\&\\%\\$\\/\\-+])\"\n",
    "break_alphanum_regx  = r'([0-9]+)'\n",
    "sequence_regx        = r\"([a-zA-Z])\\1\\1+\"\n",
    "seq_replace_regx     = r\"\\1\\1\"\n",
    "# is_empty_str_regx    = r'.*[a-zA-Z0-9]+.*'\n",
    "is_empty_str_regx    = r'.*[a-zA-Z]+.*'"
   ]
  },
  {
   "cell_type": "code",
   "execution_count": 4,
   "metadata": {},
   "outputs": [
    {
     "name": "stdout",
     "output_type": "stream",
     "text": [
      "Reading twitter - 1grams ...\n",
      "Reading twitter - 2grams ...\n"
     ]
    },
    {
     "name": "stderr",
     "output_type": "stream",
     "text": [
      "C:\\Users\\shuvo\\AppData\\Local\\Packages\\PythonSoftwareFoundation.Python.3.9_qbz5n2kfra8p0\\LocalCache\\local-packages\\Python39\\site-packages\\ekphrasis\\classes\\exmanager.py:14: FutureWarning: Possible nested set at position 42\n",
      "  regexes = {k.lower(): re.compile(self.expressions[k]) for k, v in\n"
     ]
    }
   ],
   "source": [
    "stop_words = set(nltk.corpus.stopwords.words('english'))\n",
    "seg_tw = Segmenter(corpus=\"twitter\")\n",
    "lemmatizer = nltk.stem.WordNetLemmatizer()\n",
    "\n",
    "tag_map = defaultdict(lambda : wordnet.NOUN)\n",
    "tag_map['J'] = wordnet.ADJ\n",
    "tag_map['V'] = wordnet.VERB\n",
    "tag_map['R'] = wordnet.ADV"
   ]
  },
  {
   "cell_type": "code",
   "execution_count": 5,
   "id": "5dbad782",
   "metadata": {
    "execution": {
     "iopub.execute_input": "2022-03-14T23:55:27.330644Z",
     "iopub.status.busy": "2022-03-14T23:55:27.330002Z",
     "iopub.status.idle": "2022-03-14T23:55:27.336376Z",
     "shell.execute_reply": "2022-03-14T23:55:27.335831Z",
     "shell.execute_reply.started": "2022-03-14T23:45:14.762722Z"
    },
    "executionInfo": {
     "elapsed": 2,
     "status": "ok",
     "timestamp": 1646923551592,
     "user": {
      "displayName": "Abu Naweem Khan",
      "photoUrl": "https://lh3.googleusercontent.com/a/default-user=s64",
      "userId": "03056090282051064294"
     },
     "user_tz": 300
    },
    "id": "v-zn9AEdyhBM",
    "papermill": {
     "duration": 0.061141,
     "end_time": "2022-03-14T23:55:27.336519",
     "exception": false,
     "start_time": "2022-03-14T23:55:27.275378",
     "status": "completed"
    },
    "tags": []
   },
   "outputs": [],
   "source": [
    "def process_text(s):\n",
    "    # Remove links\n",
    "    s = re.sub(url_regx, ' ', s)\n",
    "\n",
    "    # Replace tabs with whitespace\n",
    "    s = s.replace('\\t', ' ')\n",
    "\n",
    "    # Replace @USERNAME to ' '.\n",
    "    s = re.sub(user_regx, ' ', s)\n",
    "    \n",
    "    # Replace 3 or more consecutive letters by 2 letter.\n",
    "    s = re.sub(sequence_regx, seq_replace_regx, s)\n",
    "\n",
    "    # Replace #HASHTAG to ' '\n",
    "    tags = re.findall(hashtag_regx, s)\n",
    "    for tag in tags:\n",
    "        seg_tag = seg_tw.segment(tag[1:])\n",
    "        s = s.replace(tag, seg_tag)\n",
    "\n",
    "    # Replace special quotes\n",
    "    s = re.sub(special_quotes_regx, \"'\", s)\n",
    "\n",
    "    # Demojize all emojis.\n",
    "    s = emoji.demojize(s, delimiters=(' :', ': '))\n",
    "\n",
    "    # Remove all non-english alphabets and invalid punctuations.\n",
    "    s = re.sub(alpha_regx, \" \", s)\n",
    "\n",
    "    # Emojize\n",
    "    s = emoji.emojize(s)\n",
    "\n",
    "    # Remove : and _ as Emojize step is done\n",
    "    s = re.sub(r'[:_]', ' ', s)\n",
    "\n",
    "    # If no alphabet/digits remain\n",
    "    if re.match(is_empty_str_regx, s) is None:\n",
    "        return ''\n",
    "    \n",
    "    \n",
    "    # Tokenize\n",
    "    # tokens = nltk.word_tokenize(s) # breaks contractions into 2 words\n",
    "    tokens = s.split()\n",
    "\n",
    "    valid_bag = []\n",
    "    for w in tokens:\n",
    "        # Remove stopwords\n",
    "        # if w in stop_words:\n",
    "            # continue\n",
    "        \n",
    "        # Contraction Mapping\n",
    "        if w in contraction_mapping:\n",
    "            valid_bag.extend(contraction_mapping[w].split())\n",
    "            continue\n",
    "\n",
    "        valid_bag.append(w)\n",
    "\n",
    "    # At least 2 words or 1 word and 1 punctuation\n",
    "    if len(valid_bag) < 2:\n",
    "        return ''\n",
    "\n",
    "    s = ' '.join(valid_bag)\n",
    "\n",
    "    return s\n",
    "    \n",
    "    \"\"\"\n",
    "    valid_bag = []\n",
    "\n",
    "    tokens = nltk.word_tokenize(s)\n",
    "\n",
    "    for token, tag in nltk.pos_tag(tokens):\n",
    "        lemma = lemmatizer.lemmatize(token, tag_map[tag[0]])\n",
    "        # print(f'{token} - {tag[0]} - {tag_map[tag[0]]} - {lemma}')\n",
    "        valid_bag.append(lemma)\n",
    "  \n",
    "    return ' '.join(valid_bag)\n",
    "    \"\"\"\n"
   ]
  },
  {
   "cell_type": "markdown",
   "id": "0720c47c",
   "metadata": {
    "id": "yHCLPY1k44UL",
    "papermill": {
     "duration": 0.049018,
     "end_time": "2022-03-14T23:55:30.975617",
     "exception": false,
     "start_time": "2022-03-14T23:55:30.926599",
     "status": "completed"
    },
    "tags": []
   },
   "source": [
    "#### Processing dataset"
   ]
  },
  {
   "cell_type": "markdown",
   "id": "133b87be",
   "metadata": {
    "id": "z7XxeTb0EFue",
    "papermill": {
     "duration": 0.047924,
     "end_time": "2022-03-14T23:55:31.072375",
     "exception": false,
     "start_time": "2022-03-14T23:55:31.024451",
     "status": "completed"
    },
    "tags": []
   },
   "source": [
    "There is line ending issues in the word file. If directly read using pandas, it causes multiple lines to be considered as the same line. Manual loading of the file is required.\n",
    "\n",
    "**Step 1:** Taking advantage of this we are removing empty bios and converting to lowercase."
   ]
  },
  {
   "cell_type": "code",
   "execution_count": 6,
   "metadata": {},
   "outputs": [],
   "source": [
    "user_bios = Path('..\\\\TweetApp\\\\data\\\\all_user_bios.csv')\n",
    "predictions = Path('..\\\\TweetApp\\\\data\\\\users_bio_distilbert.csv')\n",
    "\n",
    "if not user_bios.is_file():\n",
    "    raise Exception(\"User Bios file not found\")\n",
    "\n",
    "if not predictions.is_file():\n",
    "    raise Exception(\"DistilBERT predicted bios not found\")\n"
   ]
  },
  {
   "cell_type": "markdown",
   "metadata": {},
   "source": [
    "Take Bios with only Negative emotions as predicted by DistilBERT"
   ]
  },
  {
   "cell_type": "code",
   "execution_count": 7,
   "metadata": {},
   "outputs": [
    {
     "name": "stderr",
     "output_type": "stream",
     "text": [
      "1741916it [00:01, 911997.98it/s]\n"
     ]
    },
    {
     "data": {
      "text/plain": [
       "690001"
      ]
     },
     "execution_count": 7,
     "metadata": {},
     "output_type": "execute_result"
    }
   ],
   "source": [
    "negative_ids = defaultdict(str)\n",
    "negative_tags = ['anger', 'sadness', 'fear', 'surprise']\n",
    "\n",
    "with open(predictions, 'r') as f:\n",
    "    for line in tqdm(f):\n",
    "        parts = line.strip().split(',')\n",
    "        if parts[len(parts) - 1] in negative_tags:\n",
    "            negative_ids[parts[0]] = parts[len(parts) - 1]\n",
    "\n",
    "len(negative_ids)"
   ]
  },
  {
   "cell_type": "code",
   "execution_count": 8,
   "id": "e0249981",
   "metadata": {
    "execution": {
     "iopub.execute_input": "2022-03-14T23:55:31.175683Z",
     "iopub.status.busy": "2022-03-14T23:55:31.174957Z",
     "iopub.status.idle": "2022-03-14T23:55:38.701323Z",
     "shell.execute_reply": "2022-03-14T23:55:38.701818Z",
     "shell.execute_reply.started": "2022-03-14T23:45:17.370385Z"
    },
    "executionInfo": {
     "elapsed": 10188,
     "status": "ok",
     "timestamp": 1646881738485,
     "user": {
      "displayName": "Abu Naweem Khan",
      "photoUrl": "https://lh3.googleusercontent.com/a/default-user=s64",
      "userId": "03056090282051064294"
     },
     "user_tz": 300
    },
    "id": "ukzw9cjNEXJe",
    "papermill": {
     "duration": 7.581639,
     "end_time": "2022-03-14T23:55:38.702007",
     "exception": false,
     "start_time": "2022-03-14T23:55:31.120368",
     "status": "completed"
    },
    "tags": []
   },
   "outputs": [
    {
     "data": {
      "text/plain": [
       "1128830"
      ]
     },
     "execution_count": 8,
     "metadata": {},
     "output_type": "execute_result"
    }
   ],
   "source": [
    "ids = []\n",
    "bios = []\n",
    "with open(user_bios, mode='r', encoding='utf-8') as fin:\n",
    "    for l in fin:\n",
    "        l = l.strip()\n",
    "        parts = l.split('\\t')\n",
    "\n",
    "        # Empty string or only id and no bio\n",
    "        if len(parts) < 2 or len(parts[1]) == 0:\n",
    "            continue\n",
    "\n",
    "        if parts[0] not in negative_ids:\n",
    "            continue\n",
    "\n",
    "        ids.append(parts[0])\n",
    "\n",
    "        # Lowercase bios and remove extra spaces for duplicate bio detection\n",
    "        l = parts[1].lower()\n",
    "        l = re.sub(r'( )\\1+', ' ', l).strip()\n",
    "        bios.append(l)\n",
    "\n",
    "len(bios)"
   ]
  },
  {
   "cell_type": "markdown",
   "id": "8e2c99bf",
   "metadata": {
    "id": "byyUr391m_WD",
    "papermill": {
     "duration": 0.048074,
     "end_time": "2022-03-14T23:55:38.799117",
     "exception": false,
     "start_time": "2022-03-14T23:55:38.751043",
     "status": "completed"
    },
    "tags": []
   },
   "source": [
    "**Step 2:** Duplicates removed"
   ]
  },
  {
   "cell_type": "code",
   "execution_count": 9,
   "id": "5eafcff0",
   "metadata": {
    "execution": {
     "iopub.execute_input": "2022-03-14T23:55:38.898310Z",
     "iopub.status.busy": "2022-03-14T23:55:38.897341Z",
     "iopub.status.idle": "2022-03-14T23:55:45.500156Z",
     "shell.execute_reply": "2022-03-14T23:55:45.500608Z",
     "shell.execute_reply.started": "2022-03-14T23:45:24.170758Z"
    },
    "executionInfo": {
     "elapsed": 12108,
     "status": "ok",
     "timestamp": 1646881760016,
     "user": {
      "displayName": "Abu Naweem Khan",
      "photoUrl": "https://lh3.googleusercontent.com/a/default-user=s64",
      "userId": "03056090282051064294"
     },
     "user_tz": 300
    },
    "id": "FavAVV6Cf9Yw",
    "outputId": "61c6c8da-8788-4f55-bfde-ac261057fa91",
    "papermill": {
     "duration": 6.654043,
     "end_time": "2022-03-14T23:55:45.500829",
     "exception": false,
     "start_time": "2022-03-14T23:55:38.846786",
     "status": "completed"
    },
    "tags": []
   },
   "outputs": [
    {
     "name": "stdout",
     "output_type": "stream",
     "text": [
      "<class 'pandas.core.frame.DataFrame'>\n",
      "Int64Index: 691682 entries, 0 to 1128829\n",
      "Data columns (total 3 columns):\n",
      " #   Column  Non-Null Count   Dtype \n",
      "---  ------  --------------   ----- \n",
      " 0   ids     691682 non-null  object\n",
      " 1   bios    691682 non-null  object\n",
      " 2   length  691682 non-null  int64 \n",
      "dtypes: int64(1), object(2)\n",
      "memory usage: 21.1+ MB\n"
     ]
    },
    {
     "data": {
      "text/plain": [
       "1682"
      ]
     },
     "execution_count": 9,
     "metadata": {},
     "output_type": "execute_result"
    }
   ],
   "source": [
    "df = pd.DataFrame({'ids': ids, 'bios': bios})\n",
    "\n",
    "df.drop_duplicates(inplace=True)\n",
    "\n",
    "df.dropna(inplace=True)\n",
    "\n",
    "df['length'] = [len(s) for s in df['bios']]\n",
    "\n",
    "df.info()\n",
    "\n",
    "# Same id but different bios\n",
    "len(df[df['ids'].duplicated()])"
   ]
  },
  {
   "cell_type": "code",
   "execution_count": 10,
   "id": "20d99bca",
   "metadata": {
    "execution": {
     "iopub.execute_input": "2022-03-14T23:55:45.599874Z",
     "iopub.status.busy": "2022-03-14T23:55:45.599181Z",
     "iopub.status.idle": "2022-03-14T23:55:45.609164Z",
     "shell.execute_reply": "2022-03-14T23:55:45.609701Z",
     "shell.execute_reply.started": "2022-03-14T23:45:30.452525Z"
    },
    "executionInfo": {
     "elapsed": 249,
     "status": "ok",
     "timestamp": 1646881765225,
     "user": {
      "displayName": "Abu Naweem Khan",
      "photoUrl": "https://lh3.googleusercontent.com/a/default-user=s64",
      "userId": "03056090282051064294"
     },
     "user_tz": 300
    },
    "id": "ZYGvDQZYBfyM",
    "outputId": "7f55c415-bea7-4165-c327-adeb14b08010",
    "papermill": {
     "duration": 0.061655,
     "end_time": "2022-03-14T23:55:45.609885",
     "exception": false,
     "start_time": "2022-03-14T23:55:45.548230",
     "status": "completed"
    },
    "tags": []
   },
   "outputs": [
    {
     "data": {
      "text/html": [
       "<div>\n",
       "<style scoped>\n",
       "    .dataframe tbody tr th:only-of-type {\n",
       "        vertical-align: middle;\n",
       "    }\n",
       "\n",
       "    .dataframe tbody tr th {\n",
       "        vertical-align: top;\n",
       "    }\n",
       "\n",
       "    .dataframe thead th {\n",
       "        text-align: right;\n",
       "    }\n",
       "</style>\n",
       "<table border=\"1\" class=\"dataframe\">\n",
       "  <thead>\n",
       "    <tr style=\"text-align: right;\">\n",
       "      <th></th>\n",
       "      <th>ids</th>\n",
       "      <th>bios</th>\n",
       "      <th>length</th>\n",
       "    </tr>\n",
       "  </thead>\n",
       "  <tbody>\n",
       "    <tr>\n",
       "      <th>0</th>\n",
       "      <td>2989319032</td>\n",
       "      <td>meninsn?? yes please!!!!!</td>\n",
       "      <td>25</td>\n",
       "    </tr>\n",
       "    <tr>\n",
       "      <th>1</th>\n",
       "      <td>1042385216</td>\n",
       "      <td>https://t.co/5b8iqsimah gives u #lgbtq news from #australia #ireland #newzealand #uk #usa #scandinavia &amp; the 🌎 4 the lgbtq community &amp; their families &amp; friends</td>\n",
       "      <td>159</td>\n",
       "    </tr>\n",
       "    <tr>\n",
       "      <th>2</th>\n",
       "      <td>144965060</td>\n",
       "      <td>watch gay webcams on cameraboys &amp; livejasmin: https://t.co/eu3xnrneqe #livejasmin #cameraboys</td>\n",
       "      <td>93</td>\n",
       "    </tr>\n",
       "    <tr>\n",
       "      <th>3</th>\n",
       "      <td>18975463</td>\n",
       "      <td>queer art and culture | cabaret &amp; events with &amp; for our lgbtiq+ community</td>\n",
       "      <td>73</td>\n",
       "    </tr>\n",
       "    <tr>\n",
       "      <th>4</th>\n",
       "      <td>635586076</td>\n",
       "      <td>we believe in the power of social media,protest and boycotts to bring social justice and change.we report news other gay news media won't.</td>\n",
       "      <td>138</td>\n",
       "    </tr>\n",
       "  </tbody>\n",
       "</table>\n",
       "</div>"
      ],
      "text/plain": [
       "          ids  \\\n",
       "0  2989319032   \n",
       "1  1042385216   \n",
       "2   144965060   \n",
       "3    18975463   \n",
       "4   635586076   \n",
       "\n",
       "                                                                                                                                                              bios  \\\n",
       "0                                                                                                                                        meninsn?? yes please!!!!!   \n",
       "1  https://t.co/5b8iqsimah gives u #lgbtq news from #australia #ireland #newzealand #uk #usa #scandinavia & the 🌎 4 the lgbtq community & their families & friends   \n",
       "2                                                                    watch gay webcams on cameraboys & livejasmin: https://t.co/eu3xnrneqe #livejasmin #cameraboys   \n",
       "3                                                                                        queer art and culture | cabaret & events with & for our lgbtiq+ community   \n",
       "4                       we believe in the power of social media,protest and boycotts to bring social justice and change.we report news other gay news media won't.   \n",
       "\n",
       "   length  \n",
       "0      25  \n",
       "1     159  \n",
       "2      93  \n",
       "3      73  \n",
       "4     138  "
      ]
     },
     "execution_count": 10,
     "metadata": {},
     "output_type": "execute_result"
    }
   ],
   "source": [
    "df.head()"
   ]
  },
  {
   "cell_type": "markdown",
   "id": "99f99ce2",
   "metadata": {
    "id": "kdq6fGVCxaFL",
    "papermill": {
     "duration": 0.050145,
     "end_time": "2022-03-14T23:55:45.945430",
     "exception": false,
     "start_time": "2022-03-14T23:55:45.895285",
     "status": "completed"
    },
    "tags": []
   },
   "source": [
    "**Step 3, 5-16:** links, mentions, hashtags, emojis, special quotations, contraction mapping, consecutive letters, ~~acronyms~~, non-english/non-number removal, break alphanumeric words, ~~remove stopwords~~, space between words and punctuations, ~~spelling correction~~. "
   ]
  },
  {
   "cell_type": "markdown",
   "id": "14a21cdb",
   "metadata": {
    "id": "giKI9MqHEJoH",
    "papermill": {
     "duration": 0.049907,
     "end_time": "2022-03-14T23:55:46.044287",
     "exception": false,
     "start_time": "2022-03-14T23:55:45.994380",
     "status": "completed"
    },
    "tags": []
   },
   "source": [
    "Test run and Inspection"
   ]
  },
  {
   "cell_type": "code",
   "execution_count": 11,
   "metadata": {},
   "outputs": [
    {
     "name": "stdout",
     "output_type": "stream",
     "text": [
      "she they 🏳️‍🌈 member of the gruesome twosome 😏 ❤️ 🔥 blm ✊🏿\n"
     ]
    }
   ],
   "source": [
    "s = \"she / they🏳️‍🌈 , member of the gruesome twosome 😏 ❤️🔥 blm✊🏿\"\n",
    "print(process_text(s))"
   ]
  },
  {
   "cell_type": "code",
   "execution_count": 12,
   "id": "780b6b2c",
   "metadata": {
    "execution": {
     "iopub.execute_input": "2022-03-14T23:55:46.146356Z",
     "iopub.status.busy": "2022-03-14T23:55:46.145690Z",
     "iopub.status.idle": "2022-03-14T23:55:46.223217Z",
     "shell.execute_reply": "2022-03-14T23:55:46.223722Z",
     "shell.execute_reply.started": "2022-03-14T23:45:30.506759Z"
    },
    "executionInfo": {
     "elapsed": 255,
     "status": "ok",
     "timestamp": 1646881791358,
     "user": {
      "displayName": "Abu Naweem Khan",
      "photoUrl": "https://lh3.googleusercontent.com/a/default-user=s64",
      "userId": "03056090282051064294"
     },
     "user_tz": 300
    },
    "id": "13c83VB1v0YU",
    "outputId": "666de575-fe78-42ec-e31f-b2a4289813a7",
    "papermill": {
     "duration": 0.130561,
     "end_time": "2022-03-14T23:55:46.223900",
     "exception": false,
     "start_time": "2022-03-14T23:55:46.093339",
     "status": "completed"
    },
    "tags": []
   },
   "outputs": [
    {
     "name": "stdout",
     "output_type": "stream",
     "text": [
      "Before: meninsn?? yes please!!!!!\n",
      "\n",
      "After: meninsn yes please\n",
      "\n",
      "\n",
      "Before: https://t.co/5b8iqsimah gives u #lgbtq news from #australia #ireland #newzealand #uk #usa #scandinavia & the 🌎 4 the lgbtq community & their families & friends\n",
      "\n",
      "After: gives u lgbtq news from australia ireland new zealand uk usa scandinavia the 🌎 the lgbtq community their families friends\n",
      "\n",
      "\n",
      "Before: watch gay webcams on cameraboys & livejasmin: https://t.co/eu3xnrneqe #livejasmin #cameraboys\n",
      "\n",
      "After: watch gay webcams on cameraboys livejasmin livejasmin camera boys\n",
      "\n",
      "\n",
      "Before: queer art and culture | cabaret & events with & for our lgbtiq+ community\n",
      "\n",
      "After: queer art and culture ' cabaret events with for our lgbtiq community\n",
      "\n",
      "\n",
      "Before: we believe in the power of social media,protest and boycotts to bring social justice and change.we report news other gay news media won't.\n",
      "\n",
      "After: we believe in the power of social media protest and boycotts to bring social justice and change we report news other gay news media will not\n",
      "\n",
      "\n"
     ]
    }
   ],
   "source": [
    "for s in df['bios'].head(5).to_list():\n",
    "    print(f'Before: {s}\\n')\n",
    "    print(f'After: {process_text(s)}\\n\\n')"
   ]
  },
  {
   "cell_type": "markdown",
   "id": "b3a9484d",
   "metadata": {
    "id": "bbCAcKpEEGzh",
    "papermill": {
     "duration": 0.048845,
     "end_time": "2022-03-14T23:55:46.322621",
     "exception": false,
     "start_time": "2022-03-14T23:55:46.273776",
     "status": "completed"
    },
    "tags": []
   },
   "source": [
    "Final processing and saved in file"
   ]
  },
  {
   "cell_type": "code",
   "execution_count": 13,
   "id": "328d2dbb",
   "metadata": {
    "execution": {
     "iopub.execute_input": "2022-03-14T23:55:46.424022Z",
     "iopub.status.busy": "2022-03-14T23:55:46.423291Z",
     "iopub.status.idle": "2022-03-14T23:57:49.931331Z",
     "shell.execute_reply": "2022-03-14T23:57:49.932101Z",
     "shell.execute_reply.started": "2022-03-14T23:45:30.585407Z"
    },
    "executionInfo": {
     "elapsed": 139402,
     "status": "ok",
     "timestamp": 1646881938825,
     "user": {
      "displayName": "Abu Naweem Khan",
      "photoUrl": "https://lh3.googleusercontent.com/a/default-user=s64",
      "userId": "03056090282051064294"
     },
     "user_tz": 300
    },
    "id": "3HNBrySeE3EM",
    "outputId": "6dd16e9d-00fc-44e6-b201-9eb8e21f8aec",
    "papermill": {
     "duration": 123.560769,
     "end_time": "2022-03-14T23:57:49.932353",
     "exception": false,
     "start_time": "2022-03-14T23:55:46.371584",
     "status": "completed"
    },
    "tags": []
   },
   "outputs": [
    {
     "name": "stderr",
     "output_type": "stream",
     "text": [
      "100%|██████████| 691682/691682 [02:11<00:00, 5245.94it/s]\n"
     ]
    },
    {
     "name": "stdout",
     "output_type": "stream",
     "text": [
      "<class 'pandas.core.frame.DataFrame'>\n",
      "Int64Index: 691682 entries, 0 to 1128829\n",
      "Data columns (total 5 columns):\n",
      " #   Column            Non-Null Count   Dtype \n",
      "---  ------            --------------   ----- \n",
      " 0   ids               691682 non-null  object\n",
      " 1   bios              691682 non-null  object\n",
      " 2   length            691682 non-null  int64 \n",
      " 3   processed         691682 non-null  object\n",
      " 4   length_processed  691682 non-null  int64 \n",
      "dtypes: int64(2), object(3)\n",
      "memory usage: 31.7+ MB\n"
     ]
    }
   ],
   "source": [
    "df['processed'] = [process_text(s) for s in tqdm(df['bios'])]\n",
    "df['length_processed'] = [len(s) for s in df['processed']]\n",
    "df.info()"
   ]
  },
  {
   "cell_type": "code",
   "execution_count": 14,
   "id": "9697966b",
   "metadata": {
    "execution": {
     "iopub.execute_input": "2022-03-14T23:57:50.035813Z",
     "iopub.status.busy": "2022-03-14T23:57:50.035202Z",
     "iopub.status.idle": "2022-03-14T23:57:51.229265Z",
     "shell.execute_reply": "2022-03-14T23:57:51.229724Z",
     "shell.execute_reply.started": "2022-03-14T23:47:36.237878Z"
    },
    "executionInfo": {
     "elapsed": 2367,
     "status": "ok",
     "timestamp": 1646882032051,
     "user": {
      "displayName": "Abu Naweem Khan",
      "photoUrl": "https://lh3.googleusercontent.com/a/default-user=s64",
      "userId": "03056090282051064294"
     },
     "user_tz": 300
    },
    "id": "PAALQ7U7Jhzl",
    "outputId": "db3368cd-2f72-4789-bbfe-482449dc3a51",
    "papermill": {
     "duration": 1.247638,
     "end_time": "2022-03-14T23:57:51.229913",
     "exception": false,
     "start_time": "2022-03-14T23:57:49.982275",
     "status": "completed"
    },
    "tags": []
   },
   "outputs": [
    {
     "name": "stdout",
     "output_type": "stream",
     "text": [
      "<class 'pandas.core.frame.DataFrame'>\n",
      "Int64Index: 639763 entries, 0 to 1128829\n",
      "Data columns (total 5 columns):\n",
      " #   Column            Non-Null Count   Dtype \n",
      "---  ------            --------------   ----- \n",
      " 0   ids               639763 non-null  object\n",
      " 1   bios              639763 non-null  object\n",
      " 2   length            639763 non-null  int64 \n",
      " 3   processed         639763 non-null  object\n",
      " 4   length_processed  639763 non-null  int64 \n",
      "dtypes: int64(2), object(3)\n",
      "memory usage: 29.3+ MB\n"
     ]
    }
   ],
   "source": [
    "df.drop(df[df.length_processed < 2].index, inplace=True)\n",
    "df.info()"
   ]
  },
  {
   "cell_type": "code",
   "execution_count": 15,
   "id": "4bd80b49",
   "metadata": {
    "execution": {
     "iopub.execute_input": "2022-03-14T23:57:51.334428Z",
     "iopub.status.busy": "2022-03-14T23:57:51.333493Z",
     "iopub.status.idle": "2022-03-14T23:57:51.345212Z",
     "shell.execute_reply": "2022-03-14T23:57:51.345925Z",
     "shell.execute_reply.started": "2022-03-14T23:47:37.482106Z"
    },
    "executionInfo": {
     "elapsed": 250,
     "status": "ok",
     "timestamp": 1646882039613,
     "user": {
      "displayName": "Abu Naweem Khan",
      "photoUrl": "https://lh3.googleusercontent.com/a/default-user=s64",
      "userId": "03056090282051064294"
     },
     "user_tz": 300
    },
    "id": "tmUCG4aVLONn",
    "outputId": "3bf7f2f9-613a-4c88-dd45-3c853aacc017",
    "papermill": {
     "duration": 0.067263,
     "end_time": "2022-03-14T23:57:51.346161",
     "exception": false,
     "start_time": "2022-03-14T23:57:51.278898",
     "status": "completed"
    },
    "tags": []
   },
   "outputs": [
    {
     "data": {
      "text/html": [
       "<div>\n",
       "<style scoped>\n",
       "    .dataframe tbody tr th:only-of-type {\n",
       "        vertical-align: middle;\n",
       "    }\n",
       "\n",
       "    .dataframe tbody tr th {\n",
       "        vertical-align: top;\n",
       "    }\n",
       "\n",
       "    .dataframe thead th {\n",
       "        text-align: right;\n",
       "    }\n",
       "</style>\n",
       "<table border=\"1\" class=\"dataframe\">\n",
       "  <thead>\n",
       "    <tr style=\"text-align: right;\">\n",
       "      <th></th>\n",
       "      <th>ids</th>\n",
       "      <th>bios</th>\n",
       "      <th>length</th>\n",
       "      <th>processed</th>\n",
       "      <th>length_processed</th>\n",
       "    </tr>\n",
       "  </thead>\n",
       "  <tbody>\n",
       "    <tr>\n",
       "      <th>217252</th>\n",
       "      <td>377727439</td>\n",
       "      <td>😎 20 | gay | make-up | netflix | stoner 🍁 ig:instamatty_ 🔥sc:snapamatty👇🏼👇🏼👇🏼👇🏼👇🏼👇🏼👇🏼👇🏼👇🏼my animations👇🏼👇🏼👇🏼👇🏼👇🏼</td>\n",
       "      <td>112</td>\n",
       "      <td>😎 ' gay ' make up ' netflix ' stoner 🍁 ig instamatty 🔥 sc snapamatty backhand index pointing down medium light skin tone backhand index pointing down medium...</td>\n",
       "      <td>810</td>\n",
       "    </tr>\n",
       "  </tbody>\n",
       "</table>\n",
       "</div>"
      ],
      "text/plain": [
       "              ids  \\\n",
       "217252  377727439   \n",
       "\n",
       "                                                                                                                    bios  \\\n",
       "217252  😎 20 | gay | make-up | netflix | stoner 🍁 ig:instamatty_ 🔥sc:snapamatty👇🏼👇🏼👇🏼👇🏼👇🏼👇🏼👇🏼👇🏼👇🏼my animations👇🏼👇🏼👇🏼👇🏼👇🏼   \n",
       "\n",
       "        length  \\\n",
       "217252     112   \n",
       "\n",
       "                                                                                                                                                              processed  \\\n",
       "217252  😎 ' gay ' make up ' netflix ' stoner 🍁 ig instamatty 🔥 sc snapamatty backhand index pointing down medium light skin tone backhand index pointing down medium...   \n",
       "\n",
       "        length_processed  \n",
       "217252               810  "
      ]
     },
     "execution_count": 15,
     "metadata": {},
     "output_type": "execute_result"
    }
   ],
   "source": [
    "df[df.length_processed == df.length_processed.max()].head(1)"
   ]
  },
  {
   "cell_type": "code",
   "execution_count": 16,
   "id": "c27e2564",
   "metadata": {
    "execution": {
     "iopub.execute_input": "2022-03-14T23:57:51.457665Z",
     "iopub.status.busy": "2022-03-14T23:57:51.455440Z",
     "iopub.status.idle": "2022-03-14T23:57:51.467227Z",
     "shell.execute_reply": "2022-03-14T23:57:51.467748Z",
     "shell.execute_reply.started": "2022-03-14T23:47:37.498815Z"
    },
    "executionInfo": {
     "elapsed": 255,
     "status": "ok",
     "timestamp": 1646882044939,
     "user": {
      "displayName": "Abu Naweem Khan",
      "photoUrl": "https://lh3.googleusercontent.com/a/default-user=s64",
      "userId": "03056090282051064294"
     },
     "user_tz": 300
    },
    "id": "og30PUEgeu7Q",
    "outputId": "227f4987-45d6-4c23-8602-7b79aac66a6a",
    "papermill": {
     "duration": 0.067941,
     "end_time": "2022-03-14T23:57:51.467917",
     "exception": false,
     "start_time": "2022-03-14T23:57:51.399976",
     "status": "completed"
    },
    "tags": []
   },
   "outputs": [
    {
     "data": {
      "text/html": [
       "<div>\n",
       "<style scoped>\n",
       "    .dataframe tbody tr th:only-of-type {\n",
       "        vertical-align: middle;\n",
       "    }\n",
       "\n",
       "    .dataframe tbody tr th {\n",
       "        vertical-align: top;\n",
       "    }\n",
       "\n",
       "    .dataframe thead th {\n",
       "        text-align: right;\n",
       "    }\n",
       "</style>\n",
       "<table border=\"1\" class=\"dataframe\">\n",
       "  <thead>\n",
       "    <tr style=\"text-align: right;\">\n",
       "      <th></th>\n",
       "      <th>ids</th>\n",
       "      <th>bios</th>\n",
       "      <th>length</th>\n",
       "      <th>processed</th>\n",
       "      <th>length_processed</th>\n",
       "    </tr>\n",
       "  </thead>\n",
       "  <tbody>\n",
       "    <tr>\n",
       "      <th>4529</th>\n",
       "      <td>126450048</td>\n",
       "      <td>a ㅆô†ɧعr ℱɪʀʂʈ 06-24-13</td>\n",
       "      <td>23</td>\n",
       "      <td>a r</td>\n",
       "      <td>3</td>\n",
       "    </tr>\n",
       "  </tbody>\n",
       "</table>\n",
       "</div>"
      ],
      "text/plain": [
       "            ids                     bios  length processed  length_processed\n",
       "4529  126450048  a ㅆô†ɧعr ℱɪʀʂʈ 06-24-13      23       a r                 3"
      ]
     },
     "execution_count": 16,
     "metadata": {},
     "output_type": "execute_result"
    }
   ],
   "source": [
    "df[df.length_processed == df.length_processed.min()].head(1)"
   ]
  },
  {
   "cell_type": "markdown",
   "id": "03eb08cc",
   "metadata": {
    "id": "UuzkqqOeb0Gk",
    "papermill": {
     "duration": 0.050324,
     "end_time": "2022-03-14T23:57:51.570743",
     "exception": false,
     "start_time": "2022-03-14T23:57:51.520419",
     "status": "completed"
    },
    "tags": []
   },
   "source": [
    "#### Save Processed Bios to File"
   ]
  },
  {
   "cell_type": "code",
   "execution_count": 17,
   "id": "154b9eb0",
   "metadata": {
    "execution": {
     "iopub.execute_input": "2022-03-14T23:57:51.675354Z",
     "iopub.status.busy": "2022-03-14T23:57:51.674427Z",
     "iopub.status.idle": "2022-03-14T23:57:56.239753Z",
     "shell.execute_reply": "2022-03-14T23:57:56.240232Z",
     "shell.execute_reply.started": "2022-03-14T23:47:37.516552Z"
    },
    "executionInfo": {
     "elapsed": 6173,
     "status": "ok",
     "timestamp": 1646882065268,
     "user": {
      "displayName": "Abu Naweem Khan",
      "photoUrl": "https://lh3.googleusercontent.com/a/default-user=s64",
      "userId": "03056090282051064294"
     },
     "user_tz": 300
    },
    "id": "N30hK0vRb9pP",
    "papermill": {
     "duration": 4.619219,
     "end_time": "2022-03-14T23:57:56.240391",
     "exception": false,
     "start_time": "2022-03-14T23:57:51.621172",
     "status": "completed"
    },
    "tags": []
   },
   "outputs": [],
   "source": [
    "processed_bios = '..\\\\TweetApp\\\\data\\\\user_bio_processed_for_perspective.tsv'\n",
    "df.to_csv(processed_bios, sep='\\t', columns=['ids', 'processed'], index=False)"
   ]
  }
 ],
 "metadata": {
  "interpreter": {
   "hash": "2824d7643cd31f8808928b816e635ebd8f5ef53ae67c594f7c5c80d6efba7154"
  },
  "kernelspec": {
   "display_name": "Python 3.9.10 64-bit (windows store)",
   "language": "python",
   "name": "python3"
  },
  "language_info": {
   "codemirror_mode": {
    "name": "ipython",
    "version": 3
   },
   "file_extension": ".py",
   "mimetype": "text/x-python",
   "name": "python",
   "nbconvert_exporter": "python",
   "pygments_lexer": "ipython3",
   "version": "3.9.10"
  },
  "orig_nbformat": 4
 },
 "nbformat": 4,
 "nbformat_minor": 2
}
