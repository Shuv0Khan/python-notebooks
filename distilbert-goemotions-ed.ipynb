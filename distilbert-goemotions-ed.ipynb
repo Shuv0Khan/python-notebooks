{
 "cells": [
  {
   "cell_type": "markdown",
   "id": "08e58128",
   "metadata": {
    "id": "VMkFdzuSH8JY",
    "papermill": {
     "duration": 0.037092,
     "end_time": "2022-03-14T23:53:25.450486",
     "exception": false,
     "start_time": "2022-03-14T23:53:25.413394",
     "status": "completed"
    },
    "tags": []
   },
   "source": [
    "# Emotion Detection using DistilBERT\n",
    "---\n",
    "Twitter user bio is analyzed to find emotion probabilities on 28 metrices. I'm using DistilBERT transformer pre-trained on GoEmotions dataset. The model card can be found [here](https://huggingface.co/joeddav/distilbert-base-uncased-go-emotions-student?text=I+feel+lucky+to+be+here.)."
   ]
  },
  {
   "cell_type": "markdown",
   "id": "0333d1d0",
   "metadata": {
    "id": "k7TB4rbiHimj",
    "papermill": {
     "duration": 0.0369,
     "end_time": "2022-03-14T23:53:25.524940",
     "exception": false,
     "start_time": "2022-03-14T23:53:25.488040",
     "status": "completed"
    },
    "tags": []
   },
   "source": [
    "### Setup\n",
    "\n",
    "Transformers installation from [HuggingFace](https://github.com/huggingface/transformers).\n",
    "\n",
    "Plotly upgraded to latest version and pyyaml downgraded to fix yaml loader issue.\n",
    "\n",
    "emoji package to demojize tweets"
   ]
  },
  {
   "cell_type": "code",
   "execution_count": 1,
   "id": "c1140dc7",
   "metadata": {
    "execution": {
     "iopub.execute_input": "2022-03-14T23:53:25.613135Z",
     "iopub.status.busy": "2022-03-14T23:53:25.611961Z",
     "iopub.status.idle": "2022-03-14T23:53:50.570378Z",
     "shell.execute_reply": "2022-03-14T23:53:50.569744Z",
     "shell.execute_reply.started": "2022-03-14T23:44:44.470428Z"
    },
    "executionInfo": {
     "elapsed": 52731,
     "status": "ok",
     "timestamp": 1646923452448,
     "user": {
      "displayName": "Abu Naweem Khan",
      "photoUrl": "https://lh3.googleusercontent.com/a/default-user=s64",
      "userId": "03056090282051064294"
     },
     "user_tz": 300
    },
    "id": "kfuCTZVyGtsE",
    "outputId": "5b7c879a-34b7-435c-ed42-6a98a840f81a",
    "papermill": {
     "duration": 25.004098,
     "end_time": "2022-03-14T23:53:50.570567",
     "exception": false,
     "start_time": "2022-03-14T23:53:25.566469",
     "status": "completed"
    },
    "tags": []
   },
   "outputs": [
    {
     "name": "stdout",
     "output_type": "stream",
     "text": [
      "Requirement already satisfied: transformers in /opt/conda/lib/python3.7/site-packages (4.15.0)\r\n",
      "Requirement already satisfied: huggingface-hub<1.0,>=0.1.0 in /opt/conda/lib/python3.7/site-packages (from transformers) (0.2.1)\r\n",
      "Requirement already satisfied: pyyaml>=5.1 in /opt/conda/lib/python3.7/site-packages (from transformers) (6.0)\r\n",
      "Requirement already satisfied: requests in /opt/conda/lib/python3.7/site-packages (from transformers) (2.26.0)\r\n",
      "Requirement already satisfied: filelock in /opt/conda/lib/python3.7/site-packages (from transformers) (3.4.0)\r\n",
      "Requirement already satisfied: tokenizers<0.11,>=0.10.1 in /opt/conda/lib/python3.7/site-packages (from transformers) (0.10.3)\r\n",
      "Requirement already satisfied: tqdm>=4.27 in /opt/conda/lib/python3.7/site-packages (from transformers) (4.62.3)\r\n",
      "Requirement already satisfied: sacremoses in /opt/conda/lib/python3.7/site-packages (from transformers) (0.0.47)\r\n",
      "Requirement already satisfied: numpy>=1.17 in /opt/conda/lib/python3.7/site-packages (from transformers) (1.20.3)\r\n",
      "Requirement already satisfied: packaging>=20.0 in /opt/conda/lib/python3.7/site-packages (from transformers) (21.3)\r\n",
      "Requirement already satisfied: importlib-metadata in /opt/conda/lib/python3.7/site-packages (from transformers) (4.11.2)\r\n",
      "Requirement already satisfied: regex!=2019.12.17 in /opt/conda/lib/python3.7/site-packages (from transformers) (2021.11.10)\r\n",
      "Requirement already satisfied: typing-extensions>=3.7.4.3 in /opt/conda/lib/python3.7/site-packages (from huggingface-hub<1.0,>=0.1.0->transformers) (4.1.1)\r\n",
      "Requirement already satisfied: pyparsing!=3.0.5,>=2.0.2 in /opt/conda/lib/python3.7/site-packages (from packaging>=20.0->transformers) (3.0.6)\r\n",
      "Requirement already satisfied: zipp>=0.5 in /opt/conda/lib/python3.7/site-packages (from importlib-metadata->transformers) (3.6.0)\r\n",
      "Requirement already satisfied: certifi>=2017.4.17 in /opt/conda/lib/python3.7/site-packages (from requests->transformers) (2021.10.8)\r\n",
      "Requirement already satisfied: idna<4,>=2.5 in /opt/conda/lib/python3.7/site-packages (from requests->transformers) (3.1)\r\n",
      "Requirement already satisfied: urllib3<1.27,>=1.21.1 in /opt/conda/lib/python3.7/site-packages (from requests->transformers) (1.26.7)\r\n",
      "Requirement already satisfied: charset-normalizer~=2.0.0 in /opt/conda/lib/python3.7/site-packages (from requests->transformers) (2.0.9)\r\n",
      "Requirement already satisfied: joblib in /opt/conda/lib/python3.7/site-packages (from sacremoses->transformers) (1.1.0)\r\n",
      "Requirement already satisfied: six in /opt/conda/lib/python3.7/site-packages (from sacremoses->transformers) (1.16.0)\r\n",
      "Requirement already satisfied: click in /opt/conda/lib/python3.7/site-packages (from sacremoses->transformers) (8.0.3)\r\n",
      "\u001b[33mWARNING: Running pip as the 'root' user can result in broken permissions and conflicting behaviour with the system package manager. It is recommended to use a virtual environment instead: https://pip.pypa.io/warnings/venv\u001b[0m\r\n",
      "Requirement already satisfied: plotly in /opt/conda/lib/python3.7/site-packages (5.6.0)\r\n",
      "Requirement already satisfied: tenacity>=6.2.0 in /opt/conda/lib/python3.7/site-packages (from plotly) (8.0.1)\r\n",
      "Requirement already satisfied: six in /opt/conda/lib/python3.7/site-packages (from plotly) (1.16.0)\r\n",
      "\u001b[33mWARNING: Running pip as the 'root' user can result in broken permissions and conflicting behaviour with the system package manager. It is recommended to use a virtual environment instead: https://pip.pypa.io/warnings/venv\u001b[0m\r\n",
      "Requirement already satisfied: emoji in /opt/conda/lib/python3.7/site-packages (1.6.3)\r\n",
      "\u001b[33mWARNING: Running pip as the 'root' user can result in broken permissions and conflicting behaviour with the system package manager. It is recommended to use a virtual environment instead: https://pip.pypa.io/warnings/venv\u001b[0m\r\n"
     ]
    }
   ],
   "source": [
    "!pip install transformers\n",
    "!pip install --upgrade plotly\n",
    "#!pip install pyyaml==5.4.1\n",
    "!pip install emoji "
   ]
  },
  {
   "cell_type": "markdown",
   "id": "c8be0aab",
   "metadata": {
    "id": "i_ZeReb1LVU7",
    "papermill": {
     "duration": 0.037982,
     "end_time": "2022-03-14T23:53:50.647293",
     "exception": false,
     "start_time": "2022-03-14T23:53:50.609311",
     "status": "completed"
    },
    "tags": []
   },
   "source": [
    "### Import Necessary Packages\n"
   ]
  },
  {
   "cell_type": "code",
   "execution_count": 2,
   "id": "e549b16f",
   "metadata": {
    "execution": {
     "iopub.execute_input": "2022-03-14T23:53:50.734140Z",
     "iopub.status.busy": "2022-03-14T23:53:50.733286Z",
     "iopub.status.idle": "2022-03-14T23:54:02.692306Z",
     "shell.execute_reply": "2022-03-14T23:54:02.691797Z",
     "shell.execute_reply.started": "2022-03-14T23:45:06.913361Z"
    },
    "executionInfo": {
     "elapsed": 10780,
     "status": "ok",
     "timestamp": 1646923501317,
     "user": {
      "displayName": "Abu Naweem Khan",
      "photoUrl": "https://lh3.googleusercontent.com/a/default-user=s64",
      "userId": "03056090282051064294"
     },
     "user_tz": 300
    },
    "id": "3ceejs2jLrIk",
    "outputId": "c6bcd034-dd6c-4f13-98e6-9f5905924bd0",
    "papermill": {
     "duration": 12.006929,
     "end_time": "2022-03-14T23:54:02.692451",
     "exception": false,
     "start_time": "2022-03-14T23:53:50.685522",
     "status": "completed"
    },
    "tags": []
   },
   "outputs": [
    {
     "name": "stdout",
     "output_type": "stream",
     "text": [
      "[nltk_data] Downloading package stopwords to /usr/share/nltk_data...\n",
      "[nltk_data]   Package stopwords is already up-to-date!\n",
      "[nltk_data] Downloading package punkt to /usr/share/nltk_data...\n",
      "[nltk_data]   Package punkt is already up-to-date!\n"
     ]
    }
   ],
   "source": [
    "#Models and Core Packages\n",
    "from transformers import AutoTokenizer, TFAutoModel, pipeline\n",
    "import pandas as pd\n",
    "\n",
    "#For Preprocessing\n",
    "from pathlib import Path\n",
    "import re    # RegEx for removing non-letter characters\n",
    "import nltk  # natural language processing\n",
    "import emoji # processing emojis\n",
    "nltk.download(\"stopwords\")\n",
    "nltk.download('punkt')\n",
    "from nltk.corpus import stopwords\n",
    "from nltk.stem.porter import *\n",
    "\n",
    "#For data visualization\n",
    "import matplotlib.pyplot as plt\n",
    "import matplotlib.patches as mpatches\n",
    "%matplotlib inline\n",
    "\n",
    "pd.options.plotting.backend = \"plotly\"\n",
    "pd.options.display.max_colwidth=160"
   ]
  },
  {
   "cell_type": "markdown",
   "id": "3e8310c4",
   "metadata": {
    "id": "VyExttTaH7cZ",
    "papermill": {
     "duration": 0.038013,
     "end_time": "2022-03-14T23:54:02.769351",
     "exception": false,
     "start_time": "2022-03-14T23:54:02.731338",
     "status": "completed"
    },
    "tags": []
   },
   "source": [
    "### HuggingFace installation check\n",
    "\n",
    "Default pipeline to predict following the huggingface installation guide [here](https://huggingface.co/docs/transformers/installation)."
   ]
  },
  {
   "cell_type": "code",
   "execution_count": 3,
   "id": "dbe942dd",
   "metadata": {
    "execution": {
     "iopub.execute_input": "2022-03-14T23:54:02.851039Z",
     "iopub.status.busy": "2022-03-14T23:54:02.850205Z",
     "iopub.status.idle": "2022-03-14T23:54:41.756276Z",
     "shell.execute_reply": "2022-03-14T23:54:41.755635Z",
     "shell.execute_reply.started": "2022-03-14T23:45:07.073451Z"
    },
    "executionInfo": {
     "elapsed": 28831,
     "status": "ok",
     "timestamp": 1646881655589,
     "user": {
      "displayName": "Abu Naweem Khan",
      "photoUrl": "https://lh3.googleusercontent.com/a/default-user=s64",
      "userId": "03056090282051064294"
     },
     "user_tz": 300
    },
    "id": "1OFv9LibI26z",
    "outputId": "535a650f-b22a-423f-b9c4-f93116123b95",
    "papermill": {
     "duration": 38.948674,
     "end_time": "2022-03-14T23:54:41.756408",
     "exception": false,
     "start_time": "2022-03-14T23:54:02.807734",
     "status": "completed"
    },
    "tags": []
   },
   "outputs": [
    {
     "name": "stderr",
     "output_type": "stream",
     "text": [
      "No model was supplied, defaulted to distilbert-base-uncased-finetuned-sst-2-english (https://huggingface.co/distilbert-base-uncased-finetuned-sst-2-english)\n"
     ]
    },
    {
     "data": {
      "application/vnd.jupyter.widget-view+json": {
       "model_id": "0a5afe4dc2e64c8fa14eaa6dd7dd8b0c",
       "version_major": 2,
       "version_minor": 0
      },
      "text/plain": [
       "Downloading:   0%|          | 0.00/629 [00:00<?, ?B/s]"
      ]
     },
     "metadata": {},
     "output_type": "display_data"
    },
    {
     "data": {
      "application/vnd.jupyter.widget-view+json": {
       "model_id": "c210c9a027674df48062c08dee13fc59",
       "version_major": 2,
       "version_minor": 0
      },
      "text/plain": [
       "Downloading:   0%|          | 0.00/255M [00:00<?, ?B/s]"
      ]
     },
     "metadata": {},
     "output_type": "display_data"
    },
    {
     "data": {
      "application/vnd.jupyter.widget-view+json": {
       "model_id": "4de004567c54455294a8ea96a4963d7b",
       "version_major": 2,
       "version_minor": 0
      },
      "text/plain": [
       "Downloading:   0%|          | 0.00/48.0 [00:00<?, ?B/s]"
      ]
     },
     "metadata": {},
     "output_type": "display_data"
    },
    {
     "data": {
      "application/vnd.jupyter.widget-view+json": {
       "model_id": "2d90fadc030043fe95f8a08aa854ff08",
       "version_major": 2,
       "version_minor": 0
      },
      "text/plain": [
       "Downloading:   0%|          | 0.00/226k [00:00<?, ?B/s]"
      ]
     },
     "metadata": {},
     "output_type": "display_data"
    },
    {
     "data": {
      "text/plain": [
       "[{'label': 'POSITIVE', 'score': 0.9998704195022583}]"
      ]
     },
     "execution_count": 3,
     "metadata": {},
     "output_type": "execute_result"
    }
   ],
   "source": [
    "pipeline('sentiment-analysis')('we love you')"
   ]
  },
  {
   "cell_type": "markdown",
   "id": "61a290a6",
   "metadata": {
    "id": "5fmB-XXiKDQK",
    "papermill": {
     "duration": 0.041259,
     "end_time": "2022-03-14T23:54:41.838300",
     "exception": false,
     "start_time": "2022-03-14T23:54:41.797041",
     "status": "completed"
    },
    "tags": []
   },
   "source": [
    "### DistilBERT base uncased GoEmotions student model\n",
    "\n",
    "The model is shared [here](https://huggingface.co/joeddav/distilbert-base-uncased-go-emotions-student). Test run and simple prediction scores."
   ]
  },
  {
   "cell_type": "code",
   "execution_count": 4,
   "id": "09e68f40",
   "metadata": {
    "execution": {
     "iopub.execute_input": "2022-03-14T23:54:41.925457Z",
     "iopub.status.busy": "2022-03-14T23:54:41.924425Z",
     "iopub.status.idle": "2022-03-14T23:55:25.664249Z",
     "shell.execute_reply": "2022-03-14T23:55:25.663708Z",
     "shell.execute_reply.started": "2022-03-14T23:45:10.335530Z"
    },
    "executionInfo": {
     "elapsed": 16323,
     "status": "ok",
     "timestamp": 1646923524549,
     "user": {
      "displayName": "Abu Naweem Khan",
      "photoUrl": "https://lh3.googleusercontent.com/a/default-user=s64",
      "userId": "03056090282051064294"
     },
     "user_tz": 300
    },
    "id": "pDlZjBLWLl17",
    "outputId": "0e58d1aa-80b3-4c9e-8864-c47b29fd4daf",
    "papermill": {
     "duration": 43.784531,
     "end_time": "2022-03-14T23:55:25.664407",
     "exception": false,
     "start_time": "2022-03-14T23:54:41.879876",
     "status": "completed"
    },
    "tags": []
   },
   "outputs": [
    {
     "data": {
      "application/vnd.jupyter.widget-view+json": {
       "model_id": "af3b5ca0aefa4f6d8de02a6b2a0671f9",
       "version_major": 2,
       "version_minor": 0
      },
      "text/plain": [
       "Downloading:   0%|          | 0.00/1.71k [00:00<?, ?B/s]"
      ]
     },
     "metadata": {},
     "output_type": "display_data"
    },
    {
     "data": {
      "application/vnd.jupyter.widget-view+json": {
       "model_id": "d0891b6d79aa4c77b3d3d3f475b0da74",
       "version_major": 2,
       "version_minor": 0
      },
      "text/plain": [
       "Downloading:   0%|          | 0.00/256M [00:00<?, ?B/s]"
      ]
     },
     "metadata": {},
     "output_type": "display_data"
    },
    {
     "name": "stderr",
     "output_type": "stream",
     "text": [
      "2022-03-14 23:55:05.145633: I tensorflow/core/common_runtime/process_util.cc:146] Creating new thread pool with default inter op setting: 2. Tune using inter_op_parallelism_threads for best performance.\n",
      "2022-03-14 23:55:05.193878: W tensorflow/python/util/util.cc:348] Sets are not currently considered sequences, but this may change in the future, so consider avoiding using them.\n",
      "All model checkpoint layers were used when initializing TFDistilBertForSequenceClassification.\n",
      "\n",
      "All the layers of TFDistilBertForSequenceClassification were initialized from the model checkpoint at joeddav/distilbert-base-uncased-go-emotions-student.\n",
      "If your task is similar to the task the model of the checkpoint was trained on, you can already use TFDistilBertForSequenceClassification for predictions without further training.\n"
     ]
    },
    {
     "data": {
      "application/vnd.jupyter.widget-view+json": {
       "model_id": "02b3e6adc10446ef95e24ef3b43ab5e8",
       "version_major": 2,
       "version_minor": 0
      },
      "text/plain": [
       "Downloading:   0%|          | 0.00/421 [00:00<?, ?B/s]"
      ]
     },
     "metadata": {},
     "output_type": "display_data"
    },
    {
     "data": {
      "application/vnd.jupyter.widget-view+json": {
       "model_id": "701327af797c49eaaf9af82ea3046506",
       "version_major": 2,
       "version_minor": 0
      },
      "text/plain": [
       "Downloading:   0%|          | 0.00/226k [00:00<?, ?B/s]"
      ]
     },
     "metadata": {},
     "output_type": "display_data"
    },
    {
     "data": {
      "application/vnd.jupyter.widget-view+json": {
       "model_id": "f87f7c5551c640cdbf1d5ef460285c1b",
       "version_major": 2,
       "version_minor": 0
      },
      "text/plain": [
       "Downloading:   0%|          | 0.00/112 [00:00<?, ?B/s]"
      ]
     },
     "metadata": {},
     "output_type": "display_data"
    },
    {
     "data": {
      "text/html": [
       "        <script type=\"text/javascript\">\n",
       "        window.PlotlyConfig = {MathJaxConfig: 'local'};\n",
       "        if (window.MathJax) {MathJax.Hub.Config({SVG: {font: \"STIX-Web\"}});}\n",
       "        if (typeof require !== 'undefined') {\n",
       "        require.undef(\"plotly\");\n",
       "        requirejs.config({\n",
       "            paths: {\n",
       "                'plotly': ['https://cdn.plot.ly/plotly-2.9.0.min']\n",
       "            }\n",
       "        });\n",
       "        require(['plotly'], function(Plotly) {\n",
       "            window._Plotly = Plotly;\n",
       "        });\n",
       "        }\n",
       "        </script>\n",
       "        "
      ]
     },
     "metadata": {},
     "output_type": "display_data"
    },
    {
     "data": {
      "text/html": [
       "<div>                            <div id=\"aadc1a55-ba9e-4ed7-bd3b-0470fed13122\" class=\"plotly-graph-div\" style=\"height:525px; width:100%;\"></div>            <script type=\"text/javascript\">                require([\"plotly\"], function(Plotly) {                    window.PLOTLYENV=window.PLOTLYENV || {};                                    if (document.getElementById(\"aadc1a55-ba9e-4ed7-bd3b-0470fed13122\")) {                    Plotly.newPlot(                        \"aadc1a55-ba9e-4ed7-bd3b-0470fed13122\",                        [{\"alignmentgroup\":\"True\",\"hovertemplate\":\"label=%{x}<br>score=%{y}<extra></extra>\",\"legendgroup\":\"\",\"marker\":{\"color\":\"#636efa\",\"pattern\":{\"shape\":\"\"}},\"name\":\"\",\"offsetgroup\":\"\",\"orientation\":\"v\",\"showlegend\":false,\"textposition\":\"auto\",\"x\":[\"admiration\",\"amusement\",\"anger\",\"annoyance\",\"approval\",\"caring\",\"confusion\",\"curiosity\",\"desire\",\"disappointment\",\"disapproval\",\"disgust\",\"embarrassment\",\"excitement\",\"fear\",\"gratitude\",\"grief\",\"joy\",\"love\",\"nervousness\",\"optimism\",\"pride\",\"realization\",\"relief\",\"remorse\",\"sadness\",\"surprise\",\"neutral\"],\"xaxis\":\"x\",\"y\":[0.03721673786640167,0.015850182622671127,0.003236849792301655,0.0031618429347872734,0.07672999799251556,0.06162014231085777,0.004896119236946106,0.02112504281103611,0.03356264531612396,0.0011842011008411646,0.002706417813897133,0.002020828193053603,0.002217542612925172,0.05123084411025047,0.002768379170447588,0.13742563128471375,0.0030143223702907562,0.06514312326908112,0.014916647225618362,0.006636079866439104,0.09592123329639435,0.06627726554870605,0.06447336077690125,0.17632383108139038,0.006228616926819086,0.0016639819368720055,0.028542622923851013,0.013905336149036884],\"yaxis\":\"y\",\"type\":\"bar\"}],                        {\"template\":{\"data\":{\"bar\":[{\"error_x\":{\"color\":\"#2a3f5f\"},\"error_y\":{\"color\":\"#2a3f5f\"},\"marker\":{\"line\":{\"color\":\"#E5ECF6\",\"width\":0.5},\"pattern\":{\"fillmode\":\"overlay\",\"size\":10,\"solidity\":0.2}},\"type\":\"bar\"}],\"barpolar\":[{\"marker\":{\"line\":{\"color\":\"#E5ECF6\",\"width\":0.5},\"pattern\":{\"fillmode\":\"overlay\",\"size\":10,\"solidity\":0.2}},\"type\":\"barpolar\"}],\"carpet\":[{\"aaxis\":{\"endlinecolor\":\"#2a3f5f\",\"gridcolor\":\"white\",\"linecolor\":\"white\",\"minorgridcolor\":\"white\",\"startlinecolor\":\"#2a3f5f\"},\"baxis\":{\"endlinecolor\":\"#2a3f5f\",\"gridcolor\":\"white\",\"linecolor\":\"white\",\"minorgridcolor\":\"white\",\"startlinecolor\":\"#2a3f5f\"},\"type\":\"carpet\"}],\"choropleth\":[{\"colorbar\":{\"outlinewidth\":0,\"ticks\":\"\"},\"type\":\"choropleth\"}],\"contour\":[{\"colorbar\":{\"outlinewidth\":0,\"ticks\":\"\"},\"colorscale\":[[0.0,\"#0d0887\"],[0.1111111111111111,\"#46039f\"],[0.2222222222222222,\"#7201a8\"],[0.3333333333333333,\"#9c179e\"],[0.4444444444444444,\"#bd3786\"],[0.5555555555555556,\"#d8576b\"],[0.6666666666666666,\"#ed7953\"],[0.7777777777777778,\"#fb9f3a\"],[0.8888888888888888,\"#fdca26\"],[1.0,\"#f0f921\"]],\"type\":\"contour\"}],\"contourcarpet\":[{\"colorbar\":{\"outlinewidth\":0,\"ticks\":\"\"},\"type\":\"contourcarpet\"}],\"heatmap\":[{\"colorbar\":{\"outlinewidth\":0,\"ticks\":\"\"},\"colorscale\":[[0.0,\"#0d0887\"],[0.1111111111111111,\"#46039f\"],[0.2222222222222222,\"#7201a8\"],[0.3333333333333333,\"#9c179e\"],[0.4444444444444444,\"#bd3786\"],[0.5555555555555556,\"#d8576b\"],[0.6666666666666666,\"#ed7953\"],[0.7777777777777778,\"#fb9f3a\"],[0.8888888888888888,\"#fdca26\"],[1.0,\"#f0f921\"]],\"type\":\"heatmap\"}],\"heatmapgl\":[{\"colorbar\":{\"outlinewidth\":0,\"ticks\":\"\"},\"colorscale\":[[0.0,\"#0d0887\"],[0.1111111111111111,\"#46039f\"],[0.2222222222222222,\"#7201a8\"],[0.3333333333333333,\"#9c179e\"],[0.4444444444444444,\"#bd3786\"],[0.5555555555555556,\"#d8576b\"],[0.6666666666666666,\"#ed7953\"],[0.7777777777777778,\"#fb9f3a\"],[0.8888888888888888,\"#fdca26\"],[1.0,\"#f0f921\"]],\"type\":\"heatmapgl\"}],\"histogram\":[{\"marker\":{\"pattern\":{\"fillmode\":\"overlay\",\"size\":10,\"solidity\":0.2}},\"type\":\"histogram\"}],\"histogram2d\":[{\"colorbar\":{\"outlinewidth\":0,\"ticks\":\"\"},\"colorscale\":[[0.0,\"#0d0887\"],[0.1111111111111111,\"#46039f\"],[0.2222222222222222,\"#7201a8\"],[0.3333333333333333,\"#9c179e\"],[0.4444444444444444,\"#bd3786\"],[0.5555555555555556,\"#d8576b\"],[0.6666666666666666,\"#ed7953\"],[0.7777777777777778,\"#fb9f3a\"],[0.8888888888888888,\"#fdca26\"],[1.0,\"#f0f921\"]],\"type\":\"histogram2d\"}],\"histogram2dcontour\":[{\"colorbar\":{\"outlinewidth\":0,\"ticks\":\"\"},\"colorscale\":[[0.0,\"#0d0887\"],[0.1111111111111111,\"#46039f\"],[0.2222222222222222,\"#7201a8\"],[0.3333333333333333,\"#9c179e\"],[0.4444444444444444,\"#bd3786\"],[0.5555555555555556,\"#d8576b\"],[0.6666666666666666,\"#ed7953\"],[0.7777777777777778,\"#fb9f3a\"],[0.8888888888888888,\"#fdca26\"],[1.0,\"#f0f921\"]],\"type\":\"histogram2dcontour\"}],\"mesh3d\":[{\"colorbar\":{\"outlinewidth\":0,\"ticks\":\"\"},\"type\":\"mesh3d\"}],\"parcoords\":[{\"line\":{\"colorbar\":{\"outlinewidth\":0,\"ticks\":\"\"}},\"type\":\"parcoords\"}],\"pie\":[{\"automargin\":true,\"type\":\"pie\"}],\"scatter\":[{\"marker\":{\"colorbar\":{\"outlinewidth\":0,\"ticks\":\"\"}},\"type\":\"scatter\"}],\"scatter3d\":[{\"line\":{\"colorbar\":{\"outlinewidth\":0,\"ticks\":\"\"}},\"marker\":{\"colorbar\":{\"outlinewidth\":0,\"ticks\":\"\"}},\"type\":\"scatter3d\"}],\"scattercarpet\":[{\"marker\":{\"colorbar\":{\"outlinewidth\":0,\"ticks\":\"\"}},\"type\":\"scattercarpet\"}],\"scattergeo\":[{\"marker\":{\"colorbar\":{\"outlinewidth\":0,\"ticks\":\"\"}},\"type\":\"scattergeo\"}],\"scattergl\":[{\"marker\":{\"colorbar\":{\"outlinewidth\":0,\"ticks\":\"\"}},\"type\":\"scattergl\"}],\"scattermapbox\":[{\"marker\":{\"colorbar\":{\"outlinewidth\":0,\"ticks\":\"\"}},\"type\":\"scattermapbox\"}],\"scatterpolar\":[{\"marker\":{\"colorbar\":{\"outlinewidth\":0,\"ticks\":\"\"}},\"type\":\"scatterpolar\"}],\"scatterpolargl\":[{\"marker\":{\"colorbar\":{\"outlinewidth\":0,\"ticks\":\"\"}},\"type\":\"scatterpolargl\"}],\"scatterternary\":[{\"marker\":{\"colorbar\":{\"outlinewidth\":0,\"ticks\":\"\"}},\"type\":\"scatterternary\"}],\"surface\":[{\"colorbar\":{\"outlinewidth\":0,\"ticks\":\"\"},\"colorscale\":[[0.0,\"#0d0887\"],[0.1111111111111111,\"#46039f\"],[0.2222222222222222,\"#7201a8\"],[0.3333333333333333,\"#9c179e\"],[0.4444444444444444,\"#bd3786\"],[0.5555555555555556,\"#d8576b\"],[0.6666666666666666,\"#ed7953\"],[0.7777777777777778,\"#fb9f3a\"],[0.8888888888888888,\"#fdca26\"],[1.0,\"#f0f921\"]],\"type\":\"surface\"}],\"table\":[{\"cells\":{\"fill\":{\"color\":\"#EBF0F8\"},\"line\":{\"color\":\"white\"}},\"header\":{\"fill\":{\"color\":\"#C8D4E3\"},\"line\":{\"color\":\"white\"}},\"type\":\"table\"}]},\"layout\":{\"annotationdefaults\":{\"arrowcolor\":\"#2a3f5f\",\"arrowhead\":0,\"arrowwidth\":1},\"autotypenumbers\":\"strict\",\"coloraxis\":{\"colorbar\":{\"outlinewidth\":0,\"ticks\":\"\"}},\"colorscale\":{\"diverging\":[[0,\"#8e0152\"],[0.1,\"#c51b7d\"],[0.2,\"#de77ae\"],[0.3,\"#f1b6da\"],[0.4,\"#fde0ef\"],[0.5,\"#f7f7f7\"],[0.6,\"#e6f5d0\"],[0.7,\"#b8e186\"],[0.8,\"#7fbc41\"],[0.9,\"#4d9221\"],[1,\"#276419\"]],\"sequential\":[[0.0,\"#0d0887\"],[0.1111111111111111,\"#46039f\"],[0.2222222222222222,\"#7201a8\"],[0.3333333333333333,\"#9c179e\"],[0.4444444444444444,\"#bd3786\"],[0.5555555555555556,\"#d8576b\"],[0.6666666666666666,\"#ed7953\"],[0.7777777777777778,\"#fb9f3a\"],[0.8888888888888888,\"#fdca26\"],[1.0,\"#f0f921\"]],\"sequentialminus\":[[0.0,\"#0d0887\"],[0.1111111111111111,\"#46039f\"],[0.2222222222222222,\"#7201a8\"],[0.3333333333333333,\"#9c179e\"],[0.4444444444444444,\"#bd3786\"],[0.5555555555555556,\"#d8576b\"],[0.6666666666666666,\"#ed7953\"],[0.7777777777777778,\"#fb9f3a\"],[0.8888888888888888,\"#fdca26\"],[1.0,\"#f0f921\"]]},\"colorway\":[\"#636efa\",\"#EF553B\",\"#00cc96\",\"#ab63fa\",\"#FFA15A\",\"#19d3f3\",\"#FF6692\",\"#B6E880\",\"#FF97FF\",\"#FECB52\"],\"font\":{\"color\":\"#2a3f5f\"},\"geo\":{\"bgcolor\":\"white\",\"lakecolor\":\"white\",\"landcolor\":\"#E5ECF6\",\"showlakes\":true,\"showland\":true,\"subunitcolor\":\"white\"},\"hoverlabel\":{\"align\":\"left\"},\"hovermode\":\"closest\",\"mapbox\":{\"style\":\"light\"},\"paper_bgcolor\":\"white\",\"plot_bgcolor\":\"#E5ECF6\",\"polar\":{\"angularaxis\":{\"gridcolor\":\"white\",\"linecolor\":\"white\",\"ticks\":\"\"},\"bgcolor\":\"#E5ECF6\",\"radialaxis\":{\"gridcolor\":\"white\",\"linecolor\":\"white\",\"ticks\":\"\"}},\"scene\":{\"xaxis\":{\"backgroundcolor\":\"#E5ECF6\",\"gridcolor\":\"white\",\"gridwidth\":2,\"linecolor\":\"white\",\"showbackground\":true,\"ticks\":\"\",\"zerolinecolor\":\"white\"},\"yaxis\":{\"backgroundcolor\":\"#E5ECF6\",\"gridcolor\":\"white\",\"gridwidth\":2,\"linecolor\":\"white\",\"showbackground\":true,\"ticks\":\"\",\"zerolinecolor\":\"white\"},\"zaxis\":{\"backgroundcolor\":\"#E5ECF6\",\"gridcolor\":\"white\",\"gridwidth\":2,\"linecolor\":\"white\",\"showbackground\":true,\"ticks\":\"\",\"zerolinecolor\":\"white\"}},\"shapedefaults\":{\"line\":{\"color\":\"#2a3f5f\"}},\"ternary\":{\"aaxis\":{\"gridcolor\":\"white\",\"linecolor\":\"white\",\"ticks\":\"\"},\"baxis\":{\"gridcolor\":\"white\",\"linecolor\":\"white\",\"ticks\":\"\"},\"bgcolor\":\"#E5ECF6\",\"caxis\":{\"gridcolor\":\"white\",\"linecolor\":\"white\",\"ticks\":\"\"}},\"title\":{\"x\":0.05},\"xaxis\":{\"automargin\":true,\"gridcolor\":\"white\",\"linecolor\":\"white\",\"ticks\":\"\",\"title\":{\"standoff\":15},\"zerolinecolor\":\"white\",\"zerolinewidth\":2},\"yaxis\":{\"automargin\":true,\"gridcolor\":\"white\",\"linecolor\":\"white\",\"ticks\":\"\",\"title\":{\"standoff\":15},\"zerolinecolor\":\"white\",\"zerolinewidth\":2}}},\"xaxis\":{\"anchor\":\"y\",\"domain\":[0.0,1.0],\"title\":{\"text\":\"label\"}},\"yaxis\":{\"anchor\":\"x\",\"domain\":[0.0,1.0],\"title\":{\"text\":\"score\"}},\"legend\":{\"tracegroupgap\":0},\"margin\":{\"t\":60},\"barmode\":\"relative\"},                        {\"responsive\": true}                    ).then(function(){\n",
       "                            \n",
       "var gd = document.getElementById('aadc1a55-ba9e-4ed7-bd3b-0470fed13122');\n",
       "var x = new MutationObserver(function (mutations, observer) {{\n",
       "        var display = window.getComputedStyle(gd).display;\n",
       "        if (!display || display === 'none') {{\n",
       "            console.log([gd, 'removed!']);\n",
       "            Plotly.purge(gd);\n",
       "            observer.disconnect();\n",
       "        }}\n",
       "}});\n",
       "\n",
       "// Listen for the removal of the full notebook cells\n",
       "var notebookContainer = gd.closest('#notebook-container');\n",
       "if (notebookContainer) {{\n",
       "    x.observe(notebookContainer, {childList: true});\n",
       "}}\n",
       "\n",
       "// Listen for the clearing of the current output cell\n",
       "var outputEl = gd.closest('.output');\n",
       "if (outputEl) {{\n",
       "    x.observe(outputEl, {childList: true});\n",
       "}}\n",
       "\n",
       "                        })                };                });            </script>        </div>"
      ]
     },
     "metadata": {},
     "output_type": "display_data"
    }
   ],
   "source": [
    "classifier = pipeline(\"text-classification\", model='joeddav/distilbert-base-uncased-go-emotions-student', framework='tf', return_all_scores=True)\n",
    "\n",
    "predictions = classifier(\"I feel lucky to be here.\")\n",
    "\n",
    "df = pd.DataFrame(predictions[0])\n",
    "\n",
    "df.plot(x='label', y='score', kind='bar')"
   ]
  },
  {
   "cell_type": "markdown",
   "id": "62b40551",
   "metadata": {
    "id": "T0kxrl_MRX7h",
    "papermill": {
     "duration": 0.044865,
     "end_time": "2022-03-14T23:55:25.754821",
     "exception": false,
     "start_time": "2022-03-14T23:55:25.709956",
     "status": "completed"
    },
    "tags": []
   },
   "source": [
    "### Utility Functions"
   ]
  },
  {
   "cell_type": "markdown",
   "id": "11feecb7",
   "metadata": {
    "id": "JNMi6Q-pVzKs",
    "papermill": {
     "duration": 0.044544,
     "end_time": "2022-03-14T23:55:25.844063",
     "exception": false,
     "start_time": "2022-03-14T23:55:25.799519",
     "status": "completed"
    },
    "tags": []
   },
   "source": [
    "#### Progress bar\n",
    "citation - from this [answer](https://stackoverflow.com/a/46939639/9573439)."
   ]
  },
  {
   "cell_type": "code",
   "execution_count": 5,
   "id": "c9cc70b6",
   "metadata": {
    "execution": {
     "iopub.execute_input": "2022-03-14T23:55:25.941988Z",
     "iopub.status.busy": "2022-03-14T23:55:25.941349Z",
     "iopub.status.idle": "2022-03-14T23:55:25.943955Z",
     "shell.execute_reply": "2022-03-14T23:55:25.943312Z",
     "shell.execute_reply.started": "2022-03-14T23:45:14.082306Z"
    },
    "executionInfo": {
     "elapsed": 146,
     "status": "ok",
     "timestamp": 1646923531900,
     "user": {
      "displayName": "Abu Naweem Khan",
      "photoUrl": "https://lh3.googleusercontent.com/a/default-user=s64",
      "userId": "03056090282051064294"
     },
     "user_tz": 300
    },
    "id": "hP2DRfLugA1Q",
    "papermill": {
     "duration": 0.055029,
     "end_time": "2022-03-14T23:55:25.944100",
     "exception": false,
     "start_time": "2022-03-14T23:55:25.889071",
     "status": "completed"
    },
    "tags": []
   },
   "outputs": [],
   "source": [
    "from IPython.display import HTML, display\n",
    "import time\n",
    "\n",
    "def progress(done, total):\n",
    "    percent = int(100 * done // total)\n",
    "    return HTML(\"\"\"\n",
    "        <span>\n",
    "            Progress: \n",
    "            <progress\n",
    "                value='{percent}'\n",
    "                max='100',\n",
    "                style='width: 50%'\n",
    "            >\n",
    "                {percent}\n",
    "            </progress> {done}/{total} Complete\n",
    "        </span>\n",
    "        \"\"\".format(percent=percent, done=done, total=total))"
   ]
  },
  {
   "cell_type": "code",
   "execution_count": 6,
   "id": "cfb59400",
   "metadata": {
    "execution": {
     "iopub.execute_input": "2022-03-14T23:55:26.038921Z",
     "iopub.status.busy": "2022-03-14T23:55:26.038300Z",
     "iopub.status.idle": "2022-03-14T23:55:26.644289Z",
     "shell.execute_reply": "2022-03-14T23:55:26.643774Z",
     "shell.execute_reply.started": "2022-03-14T23:45:14.091565Z"
    },
    "executionInfo": {
     "elapsed": 880,
     "status": "ok",
     "timestamp": 1646923532914,
     "user": {
      "displayName": "Abu Naweem Khan",
      "photoUrl": "https://lh3.googleusercontent.com/a/default-user=s64",
      "userId": "03056090282051064294"
     },
     "user_tz": 300
    },
    "id": "jDQoU9D7hH7A",
    "outputId": "1bef0c13-ce1f-457e-a847-0c93864221e7",
    "papermill": {
     "duration": 0.655673,
     "end_time": "2022-03-14T23:55:26.644424",
     "exception": false,
     "start_time": "2022-03-14T23:55:25.988751",
     "status": "completed"
    },
    "tags": []
   },
   "outputs": [
    {
     "data": {
      "text/html": [
       "\n",
       "        <span>\n",
       "            Progress: \n",
       "            <progress\n",
       "                value='51'\n",
       "                max='100',\n",
       "                style='width: 50%'\n",
       "            >\n",
       "                51\n",
       "            </progress> 51/100 Complete\n",
       "        </span>\n",
       "        "
      ],
      "text/plain": [
       "<IPython.core.display.HTML object>"
      ]
     },
     "metadata": {},
     "output_type": "display_data"
    }
   ],
   "source": [
    "out = display(progress(0, 100), display_id=True)\n",
    "for i in range(0, 100, 1):\n",
    "    time.sleep(0.01)\n",
    "    out.update(progress(i+1, 100))\n",
    "    if i == 50:\n",
    "        break"
   ]
  },
  {
   "cell_type": "markdown",
   "id": "23acb5bb",
   "metadata": {
    "id": "GRTMabgAVVXK",
    "papermill": {
     "duration": 0.045018,
     "end_time": "2022-03-14T23:55:26.734816",
     "exception": false,
     "start_time": "2022-03-14T23:55:26.689798",
     "status": "completed"
    },
    "tags": []
   },
   "source": [
    "#### Verdict\n",
    "\n",
    "Lable with maximum probability from predicted probabilities."
   ]
  },
  {
   "cell_type": "code",
   "execution_count": 7,
   "id": "57d43c32",
   "metadata": {
    "execution": {
     "iopub.execute_input": "2022-03-14T23:55:26.834415Z",
     "iopub.status.busy": "2022-03-14T23:55:26.833693Z",
     "iopub.status.idle": "2022-03-14T23:55:26.837305Z",
     "shell.execute_reply": "2022-03-14T23:55:26.836710Z",
     "shell.execute_reply.started": "2022-03-14T23:45:14.716012Z"
    },
    "executionInfo": {
     "elapsed": 119,
     "status": "ok",
     "timestamp": 1646923534885,
     "user": {
      "displayName": "Abu Naweem Khan",
      "photoUrl": "https://lh3.googleusercontent.com/a/default-user=s64",
      "userId": "03056090282051064294"
     },
     "user_tz": 300
    },
    "id": "rSiG6wT4VmH9",
    "outputId": "acd16e21-f5b3-439a-a310-121d5fc7bd53",
    "papermill": {
     "duration": 0.056114,
     "end_time": "2022-03-14T23:55:26.837441",
     "exception": false,
     "start_time": "2022-03-14T23:55:26.781327",
     "status": "completed"
    },
    "tags": []
   },
   "outputs": [
    {
     "name": "stdout",
     "output_type": "stream",
     "text": [
      "relief\n"
     ]
    }
   ],
   "source": [
    "def verdict(predictions):\n",
    "    max_score = 0\n",
    "    verdict = ''\n",
    "    for d in predictions:\n",
    "        if d['score'] > max_score:\n",
    "            max_score = d['score']\n",
    "            verdict = d['label']\n",
    "    return verdict\n",
    "\n",
    "print(verdict(predictions[0]))"
   ]
  },
  {
   "cell_type": "markdown",
   "id": "37bd32b7",
   "metadata": {
    "id": "gGOX6jnI_JUs",
    "papermill": {
     "duration": 0.046876,
     "end_time": "2022-03-14T23:55:26.930282",
     "exception": false,
     "start_time": "2022-03-14T23:55:26.883406",
     "status": "completed"
    },
    "tags": []
   },
   "source": [
    "#### Contraction Mapping\n",
    "\n",
    "Dictionary containing valid english contractions from wikipedia."
   ]
  },
  {
   "cell_type": "code",
   "execution_count": 8,
   "id": "6dc2b94c",
   "metadata": {
    "_kg_hide-input": true,
    "execution": {
     "iopub.execute_input": "2022-03-14T23:55:27.035316Z",
     "iopub.status.busy": "2022-03-14T23:55:27.034602Z",
     "iopub.status.idle": "2022-03-14T23:55:27.037315Z",
     "shell.execute_reply": "2022-03-14T23:55:27.036831Z",
     "shell.execute_reply.started": "2022-03-14T23:45:14.724272Z"
    },
    "executionInfo": {
     "elapsed": 292,
     "status": "ok",
     "timestamp": 1646923542080,
     "user": {
      "displayName": "Abu Naweem Khan",
      "photoUrl": "https://lh3.googleusercontent.com/a/default-user=s64",
      "userId": "03056090282051064294"
     },
     "user_tz": 300
    },
    "id": "h_wLp-c7_TXK",
    "papermill": {
     "duration": 0.061259,
     "end_time": "2022-03-14T23:55:27.037446",
     "exception": false,
     "start_time": "2022-03-14T23:55:26.976187",
     "status": "completed"
    },
    "tags": []
   },
   "outputs": [],
   "source": [
    "contraction_mapping = {\n",
    "    \"ain't\": \"is not\", \"aren't\": \"are not\",\"can't\": \"cannot\", \"'cause\": \"because\",\n",
    "    \"could've\": \"could have\", \"couldn't\": \"could not\", \"didn't\": \"did not\",  \n",
    "    \"doesn't\": \"does not\", \"don't\": \"do not\", \"hadn't\": \"had not\", \"hasn't\": \"has not\",\n",
    "    \"haven't\": \"have not\", \"he'd\": \"he would\",\"he'll\": \"he will\", \"he's\": \"he is\",\n",
    "    \"how'd\": \"how did\", \"how'd'y\": \"how do you\", \"how'll\": \"how will\", \"how's\": \"how is\",\n",
    "    \"I'd\": \"I would\", \"I'd've\": \"I would have\", \"I'll\": \"I will\", \"I'll've\": \"I will have\",\n",
    "    \"I'm\": \"I am\", \"I've\": \"I have\", \"i'd\": \"i would\", \"i'd've\": \"i would have\",\n",
    "    \"i'll\": \"i will\",  \"i'll've\": \"i will have\",\"i'm\": \"i am\", \"i've\": \"i have\",\n",
    "    \"isn't\": \"is not\", \"it'd\": \"it would\", \"it'd've\": \"it would have\", \"it'll\": \"it will\",\n",
    "    \"it'll've\": \"it will have\", \"it's\": \"it is\", \"let's\": \"let us\", \"ma'am\": \"madam\",\n",
    "    \"mayn't\": \"may not\", \"might've\": \"might have\",\"mightn't\": \"might not\",\n",
    "    \"mightn't've\": \"might not have\", \"must've\": \"must have\", \"mustn't\": \"must not\",\n",
    "    \"mustn't've\": \"must not have\", \"needn't\": \"need not\", \"needn't've\": \"need not have\",\n",
    "    \"o'clock\": \"of the clock\", \"oughtn't\": \"ought not\", \"oughtn't've\": \"ought not have\",\n",
    "    \"shan't\": \"shall not\", \"sha'n't\": \"shall not\", \"shan't've\": \"shall not have\",\n",
    "    \"she'd\": \"she would\", \"she'd've\": \"she would have\", \"she'll\": \"she will\", \n",
    "    \"she'll've\": \"she will have\", \"she's\": \"she is\", \"should've\": \"should have\",\n",
    "    \"shouldn't\": \"should not\", \"shouldn't've\": \"should not have\", \"so've\": \"so have\",\n",
    "    \"so's\": \"so as\", \"this's\": \"this is\",\"that'd\": \"that would\", \"that'd've\": \"that would have\",\n",
    "    \"that's\": \"that is\", \"there'd\": \"there would\", \"there'd've\": \"there would have\",\n",
    "    \"there's\": \"there is\", \"here's\": \"here is\",\"they'd\": \"they would\",\n",
    "    \"they'd've\": \"they would have\", \"they'll\": \"they will\", \"they'll've\": \"they will have\",\n",
    "    \"they're\": \"they are\", \"they've\": \"they have\", \"to've\": \"to have\",\n",
    "    \"wasn't\": \"was not\", \"we'd\": \"we would\", \"we'd've\": \"we would have\", \"we'll\": \"we will\",\n",
    "    \"we'll've\": \"we will have\", \"we're\": \"we are\", \"we've\": \"we have\", \"weren't\": \"were not\",\n",
    "    \"what'll\": \"what will\", \"what'll've\": \"what will have\", \"what're\": \"what are\",\n",
    "    \"what's\": \"what is\", \"what've\": \"what have\", \"when's\": \"when is\", \"when've\": \"when have\",\n",
    "    \"where'd\": \"where did\", \"where's\": \"where is\", \"where've\": \"where have\",\n",
    "    \"who'll\": \"who will\", \"who'll've\": \"who will have\", \"who's\": \"who is\", \n",
    "    \"who've\": \"who have\", \"why's\": \"why is\", \"why've\": \"why have\", \"will've\": \"will have\",\n",
    "    \"won't\": \"will not\", \"won't've\": \"will not have\", \"would've\": \"would have\",\n",
    "    \"wouldn't\": \"would not\", \"wouldn't've\": \"would not have\", \"y'all\": \"you all\",\n",
    "    \"y'all'd\": \"you all would\", \"y'all'd've\": \"you all would have\",\"y'all're\": \"you all are\",\n",
    "    \"y'all've\": \"you all have\",\"you'd\": \"you would\", \"you'd've\": \"you would have\",\n",
    "    \"you'll\": \"you will\", \"you'll've\": \"you will have\", \"you're\": \"you are\",\n",
    "    \"you've\": \"you have\", 'u.s':'america', 'e.g':'for example'\n",
    "}"
   ]
  },
  {
   "cell_type": "markdown",
   "id": "e304c339",
   "metadata": {
    "id": "czRUpMDFvjrv",
    "papermill": {
     "duration": 0.046556,
     "end_time": "2022-03-14T23:55:27.129984",
     "exception": false,
     "start_time": "2022-03-14T23:55:27.083428",
     "status": "completed"
    },
    "tags": []
   },
   "source": [
    "#### Text Processing"
   ]
  },
  {
   "cell_type": "code",
   "execution_count": 9,
   "id": "92154d04",
   "metadata": {
    "execution": {
     "iopub.execute_input": "2022-03-14T23:55:27.228406Z",
     "iopub.status.busy": "2022-03-14T23:55:27.227762Z",
     "iopub.status.idle": "2022-03-14T23:55:27.230110Z",
     "shell.execute_reply": "2022-03-14T23:55:27.229496Z",
     "shell.execute_reply.started": "2022-03-14T23:45:14.741630Z"
    },
    "executionInfo": {
     "elapsed": 126,
     "status": "ok",
     "timestamp": 1646923551458,
     "user": {
      "displayName": "Abu Naweem Khan",
      "photoUrl": "https://lh3.googleusercontent.com/a/default-user=s64",
      "userId": "03056090282051064294"
     },
     "user_tz": 300
    },
    "id": "VY-BTQlOy4Lo",
    "papermill": {
     "duration": 0.053505,
     "end_time": "2022-03-14T23:55:27.230248",
     "exception": false,
     "start_time": "2022-03-14T23:55:27.176743",
     "status": "completed"
    },
    "tags": []
   },
   "outputs": [],
   "source": [
    "# Regex patterns.\n",
    "url_regx             = r\"(quick\\s*link[s*]\\s*:\\s*)*((http://)[^ ]*|(https://)[^ ]*|( www\\.)[^ ]*)\"\n",
    "user_regx            = r'@[^\\s]+'\n",
    "hashtag_regx         = r'#[^\\s]+'\n",
    "special_quotes_regx  = r'[’|‘|´|`]+'\n",
    "alpha_regx           = r\"[^a-zA-Z0-9'\\\"\\.\\,\\?\\!\\&\\%\\$\\/\\-+]\"\n",
    "valid_punc_regx      = r\"([\\\"\\.\\,\\?\\!\\&\\%\\$\\/\\-+])\"\n",
    "break_alphanum_regx  = r'([0-9]+)'\n",
    "sequence_regx        = r\"(.)\\1\\1+\"\n",
    "seq_replace_regx     = r\"\\1\\1\"\n",
    "is_empty_str_regx    = r'.*[a-zA-Z0-9]+.*'"
   ]
  },
  {
   "cell_type": "code",
   "execution_count": 10,
   "id": "5dbad782",
   "metadata": {
    "execution": {
     "iopub.execute_input": "2022-03-14T23:55:27.330644Z",
     "iopub.status.busy": "2022-03-14T23:55:27.330002Z",
     "iopub.status.idle": "2022-03-14T23:55:27.336376Z",
     "shell.execute_reply": "2022-03-14T23:55:27.335831Z",
     "shell.execute_reply.started": "2022-03-14T23:45:14.762722Z"
    },
    "executionInfo": {
     "elapsed": 2,
     "status": "ok",
     "timestamp": 1646923551592,
     "user": {
      "displayName": "Abu Naweem Khan",
      "photoUrl": "https://lh3.googleusercontent.com/a/default-user=s64",
      "userId": "03056090282051064294"
     },
     "user_tz": 300
    },
    "id": "v-zn9AEdyhBM",
    "papermill": {
     "duration": 0.061141,
     "end_time": "2022-03-14T23:55:27.336519",
     "exception": false,
     "start_time": "2022-03-14T23:55:27.275378",
     "status": "completed"
    },
    "tags": []
   },
   "outputs": [],
   "source": [
    "stop_words = set(nltk.corpus.stopwords.words('english'))\n",
    "\n",
    "def process_text(s):\n",
    "    # Remove links\n",
    "    s = re.sub(url_regx, ' ', s)\n",
    "\n",
    "    # Replace tabs with whitespace\n",
    "    s = s.replace('\\t', ' ')\n",
    "\n",
    "    # Replace all emojis.\n",
    "    s = emoji.replace_emoji(s, ' ')\n",
    "\n",
    "    # Replace @USERNAME to ' '.\n",
    "    s = re.sub(user_regx, ' ', s)\n",
    "\n",
    "    # Replace #HASHTAG to ' '\n",
    "    s = re.sub(hashtag_regx, ' ', s)\n",
    "\n",
    "    # Replace special quotes\n",
    "    s = re.sub(special_quotes_regx, \"'\", s)\n",
    "\n",
    "    # Replace 1 or more of valid punctuations with 1\n",
    "    s = re.sub(valid_punc_regx+r\"\\1+\", r\"\\1\", s)\n",
    "\n",
    "    # Replace 3 or more consecutive letters by 2 letter.\n",
    "    s = re.sub(sequence_regx, seq_replace_regx, s)\n",
    "\n",
    "    # Replace all non-english alphabets, digits and invalid punctuations.\n",
    "    s = re.sub(alpha_regx, \" \", s)\n",
    "\n",
    "    # Put space between punctuations and letters/digits\n",
    "    s = re.sub(valid_punc_regx, r\" \\1 \", s)\n",
    "\n",
    "    # Break alphanumeric into words and numbers\n",
    "    s = re.sub(break_alphanum_regx, r' \\1 ', s)\n",
    "\n",
    "    # If no alphabet/digits remain\n",
    "    if re.match(is_empty_str_regx, s) is None:\n",
    "        return ''\n",
    "\n",
    "    # Tokenize\n",
    "    # tokens = nltk.word_tokenize(s) # breaks contractions into 2 words\n",
    "    tokens = s.split()\n",
    "\n",
    "    valid_bag = []\n",
    "    for w in tokens:\n",
    "        # Remove stopwords\n",
    "        # if w in stop_words:\n",
    "        #     continue\n",
    "        # Contraction Mapping\n",
    "        if w in contraction_mapping:\n",
    "            valid_bag.extend(contraction_mapping[w].split())\n",
    "\n",
    "        valid_bag.append(w)\n",
    "\n",
    "    # At least 2 words or 1 word and 1 punctuation\n",
    "    if len(valid_bag) < 2:\n",
    "        return ''\n",
    "  \n",
    "    return ' '.join(valid_bag)\n",
    "\n"
   ]
  },
  {
   "cell_type": "markdown",
   "id": "684e5005",
   "metadata": {
    "id": "ONZAMIlMWQMt",
    "papermill": {
     "duration": 0.045008,
     "end_time": "2022-03-14T23:55:27.427109",
     "exception": false,
     "start_time": "2022-03-14T23:55:27.382101",
     "status": "completed"
    },
    "tags": []
   },
   "source": [
    "### Limitations of the model\n"
   ]
  },
  {
   "cell_type": "markdown",
   "id": "ad836688",
   "metadata": {
    "id": "3bIdi_2wdZ08",
    "papermill": {
     "duration": 0.04644,
     "end_time": "2022-03-14T23:55:27.518836",
     "exception": false,
     "start_time": "2022-03-14T23:55:27.472396",
     "status": "completed"
    },
    "tags": []
   },
   "source": [
    "#### Emoji\n",
    "This model doesn't work with emojis and empty strings. The highest probability given if emojis are present are often wrong. If the emojis are replaced with corresponding alias the situation also doesn't improve.\n",
    "\n",
    "One approach is to remove all of the emojis."
   ]
  },
  {
   "cell_type": "code",
   "execution_count": 11,
   "id": "0947575b",
   "metadata": {
    "execution": {
     "iopub.execute_input": "2022-03-14T23:55:27.659965Z",
     "iopub.status.busy": "2022-03-14T23:55:27.658134Z",
     "iopub.status.idle": "2022-03-14T23:55:29.454857Z",
     "shell.execute_reply": "2022-03-14T23:55:29.454063Z",
     "shell.execute_reply.started": "2022-03-14T23:45:14.781177Z"
    },
    "executionInfo": {
     "elapsed": 2855,
     "status": "ok",
     "timestamp": 1646923556828,
     "user": {
      "displayName": "Abu Naweem Khan",
      "photoUrl": "https://lh3.googleusercontent.com/a/default-user=s64",
      "userId": "03056090282051064294"
     },
     "user_tz": 300
    },
    "id": "FK6OWmUkWkZV",
    "outputId": "de633641-9632-49e8-81f8-782a320c1fb0",
    "papermill": {
     "duration": 1.876916,
     "end_time": "2022-03-14T23:55:29.455058",
     "exception": false,
     "start_time": "2022-03-14T23:55:27.578142",
     "status": "completed"
    },
    "tags": []
   },
   "outputs": [
    {
     "data": {
      "text/html": [
       "<div>\n",
       "<style scoped>\n",
       "    .dataframe tbody tr th:only-of-type {\n",
       "        vertical-align: middle;\n",
       "    }\n",
       "\n",
       "    .dataframe tbody tr th {\n",
       "        vertical-align: top;\n",
       "    }\n",
       "\n",
       "    .dataframe thead th {\n",
       "        text-align: right;\n",
       "    }\n",
       "</style>\n",
       "<table border=\"1\" class=\"dataframe\">\n",
       "  <thead>\n",
       "    <tr style=\"text-align: right;\">\n",
       "      <th></th>\n",
       "      <th>sentence</th>\n",
       "      <th>verdict</th>\n",
       "    </tr>\n",
       "  </thead>\n",
       "  <tbody>\n",
       "    <tr>\n",
       "      <th>0</th>\n",
       "      <td>❤️ you</td>\n",
       "      <td>admiration</td>\n",
       "    </tr>\n",
       "    <tr>\n",
       "      <th>1</th>\n",
       "      <td>you</td>\n",
       "      <td>realization</td>\n",
       "    </tr>\n",
       "    <tr>\n",
       "      <th>2</th>\n",
       "      <td>heart you</td>\n",
       "      <td>caring</td>\n",
       "    </tr>\n",
       "    <tr>\n",
       "      <th>3</th>\n",
       "      <td>:red_heart: you</td>\n",
       "      <td>caring</td>\n",
       "    </tr>\n",
       "    <tr>\n",
       "      <th>4</th>\n",
       "      <td>meh 😒</td>\n",
       "      <td>amusement</td>\n",
       "    </tr>\n",
       "    <tr>\n",
       "      <th>5</th>\n",
       "      <td>meh</td>\n",
       "      <td>annoyance</td>\n",
       "    </tr>\n",
       "    <tr>\n",
       "      <th>6</th>\n",
       "      <td>meh unamused</td>\n",
       "      <td>disapproval</td>\n",
       "    </tr>\n",
       "    <tr>\n",
       "      <th>7</th>\n",
       "      <td>meh :unamused_face:</td>\n",
       "      <td>confusion</td>\n",
       "    </tr>\n",
       "    <tr>\n",
       "      <th>8</th>\n",
       "      <td>did not bring the charger 😢</td>\n",
       "      <td>disappointment</td>\n",
       "    </tr>\n",
       "    <tr>\n",
       "      <th>9</th>\n",
       "      <td>did not bring the charger</td>\n",
       "      <td>disappointment</td>\n",
       "    </tr>\n",
       "    <tr>\n",
       "      <th>10</th>\n",
       "      <td>did not bring the charger crying</td>\n",
       "      <td>disappointment</td>\n",
       "    </tr>\n",
       "    <tr>\n",
       "      <th>11</th>\n",
       "      <td>did not bring the charger :crying_face:</td>\n",
       "      <td>sadness</td>\n",
       "    </tr>\n",
       "    <tr>\n",
       "      <th>12</th>\n",
       "      <td>lol 😂</td>\n",
       "      <td>amusement</td>\n",
       "    </tr>\n",
       "    <tr>\n",
       "      <th>13</th>\n",
       "      <td>lol</td>\n",
       "      <td>amusement</td>\n",
       "    </tr>\n",
       "    <tr>\n",
       "      <th>14</th>\n",
       "      <td>lol tears of joy</td>\n",
       "      <td>joy</td>\n",
       "    </tr>\n",
       "    <tr>\n",
       "      <th>15</th>\n",
       "      <td>lol :face_with_tears_of_joy:</td>\n",
       "      <td>joy</td>\n",
       "    </tr>\n",
       "    <tr>\n",
       "      <th>16</th>\n",
       "      <td>can you help me with the loan? 😊</td>\n",
       "      <td>curiosity</td>\n",
       "    </tr>\n",
       "    <tr>\n",
       "      <th>17</th>\n",
       "      <td>can you help me with the loan?</td>\n",
       "      <td>curiosity</td>\n",
       "    </tr>\n",
       "    <tr>\n",
       "      <th>18</th>\n",
       "      <td>can you help me with the loan? smiling</td>\n",
       "      <td>amusement</td>\n",
       "    </tr>\n",
       "    <tr>\n",
       "      <th>19</th>\n",
       "      <td>can you help me with the loan? :smiling_face_with_smiling_eyes:</td>\n",
       "      <td>amusement</td>\n",
       "    </tr>\n",
       "  </tbody>\n",
       "</table>\n",
       "</div>"
      ],
      "text/plain": [
       "                                                           sentence  \\\n",
       "0                                                            ❤️ you   \n",
       "1                                                               you   \n",
       "2                                                         heart you   \n",
       "3                                                   :red_heart: you   \n",
       "4                                                             meh 😒   \n",
       "5                                                               meh   \n",
       "6                                                      meh unamused   \n",
       "7                                               meh :unamused_face:   \n",
       "8                                       did not bring the charger 😢   \n",
       "9                                         did not bring the charger   \n",
       "10                                 did not bring the charger crying   \n",
       "11                          did not bring the charger :crying_face:   \n",
       "12                                                            lol 😂   \n",
       "13                                                              lol   \n",
       "14                                                 lol tears of joy   \n",
       "15                                     lol :face_with_tears_of_joy:   \n",
       "16                                 can you help me with the loan? 😊   \n",
       "17                                   can you help me with the loan?   \n",
       "18                           can you help me with the loan? smiling   \n",
       "19  can you help me with the loan? :smiling_face_with_smiling_eyes:   \n",
       "\n",
       "           verdict  \n",
       "0       admiration  \n",
       "1      realization  \n",
       "2           caring  \n",
       "3           caring  \n",
       "4        amusement  \n",
       "5        annoyance  \n",
       "6      disapproval  \n",
       "7        confusion  \n",
       "8   disappointment  \n",
       "9   disappointment  \n",
       "10  disappointment  \n",
       "11         sadness  \n",
       "12       amusement  \n",
       "13       amusement  \n",
       "14             joy  \n",
       "15             joy  \n",
       "16       curiosity  \n",
       "17       curiosity  \n",
       "18       amusement  \n",
       "19       amusement  "
      ]
     },
     "metadata": {},
     "output_type": "display_data"
    }
   ],
   "source": [
    "examples = [\n",
    "    \"❤️ you\", \"meh 😒\", \"did not bring the charger 😢\",\n",
    "    \"lol 😂\", \"can you help me with the loan? 😊\"\n",
    "]\n",
    "\n",
    "demojized = [emoji.demojize(s) for s in examples]\n",
    "\n",
    "demojized_eng = [\n",
    "    \"heart you\", \"meh unamused\", \"did not bring the charger crying\",\n",
    "    \"lol tears of joy\", \"can you help me with the loan? smiling\"\n",
    "]\n",
    "\n",
    "noemoji = [\"you\", \"meh\", \"did not bring the charger\", \"lol\", \"can you help me with the loan?\"]\n",
    "\n",
    "df = pd.DataFrame({\n",
    "    \"sentence\": [\n",
    "        examples[0], noemoji[0], demojized_eng[0], demojized[0],\n",
    "        examples[1], noemoji[1], demojized_eng[1], demojized[1],\n",
    "        examples[2], noemoji[2], demojized_eng[2], demojized[2],\n",
    "        examples[3], noemoji[3], demojized_eng[3], demojized[3],\n",
    "        examples[4], noemoji[4], demojized_eng[4], demojized[4]\n",
    "    ],\n",
    "    \"verdict\": [\n",
    "        verdict(classifier(examples[0])[0]), verdict(classifier(noemoji[0])[0]),\n",
    "        verdict(classifier(demojized_eng[0])[0]), verdict(classifier(demojized[0])[0]),\n",
    "        \n",
    "        verdict(classifier(examples[1])[0]), verdict(classifier(noemoji[1])[0]),\n",
    "        verdict(classifier(demojized_eng[1])[0]), verdict(classifier(demojized[1])[0]),\n",
    "        \n",
    "        verdict(classifier(examples[2])[0]), verdict(classifier(noemoji[2])[0]),\n",
    "        verdict(classifier(demojized_eng[2])[0]), verdict(classifier(demojized[2])[0]),\n",
    "        \n",
    "        verdict(classifier(examples[3])[0]), verdict(classifier(noemoji[3])[0]),\n",
    "        verdict(classifier(demojized_eng[3])[0]), verdict(classifier(demojized[3])[0]),\n",
    "        \n",
    "        verdict(classifier(examples[4])[0]), verdict(classifier(noemoji[4])[0]),\n",
    "        verdict(classifier(demojized_eng[4])[0]), verdict(classifier(demojized[4])[0])]\n",
    "})\n",
    "\n",
    "display(df)"
   ]
  },
  {
   "cell_type": "markdown",
   "id": "7f0ce31e",
   "metadata": {
    "id": "dP_LcxucddaF",
    "papermill": {
     "duration": 0.049099,
     "end_time": "2022-03-14T23:55:29.553840",
     "exception": false,
     "start_time": "2022-03-14T23:55:29.504741",
     "status": "completed"
    },
    "tags": []
   },
   "source": [
    "#### Training Limitations\n",
    "From the model card for the DistilBERT model [here](https://huggingface.co/joeddav/distilbert-base-uncased-go-emotions-student), the model is trained using the zero-shot pipeline provided by huggingface with unlabeled GoEmotions dataset. The model uses the same classes from the GoEmotions dataset.\n",
    "\n",
    "This model may underperform compared to a full supervised model. No accuracy/F1 score is shared by the author."
   ]
  },
  {
   "cell_type": "markdown",
   "id": "ca226952",
   "metadata": {
    "id": "9-_JBWR6eMew",
    "papermill": {
     "duration": 0.04838,
     "end_time": "2022-03-14T23:55:29.653227",
     "exception": false,
     "start_time": "2022-03-14T23:55:29.604847",
     "status": "completed"
    },
    "tags": []
   },
   "source": [
    "### Pre-processing Bios\n",
    "\n",
    "The file contains the userids and bios of twitter users. Suitable techniques from below are used to clean and prepare the data.\n",
    "\n",
    "#### Tweet Cleaning Strategy (in order of recommended execution) -\n",
    "1. **Lowercase** the bios\n",
    "2. **Duplicates** removed.\n",
    "3. **Remove links** and any \"Quick Links: \" text.\n",
    "4. **html** code check, remove if found in the dataset.\n",
    "5. **Tabs** replaced with whitespace.\n",
    "6. **Emoji** to text, ascii emoji to text. Replace consecutive same emoji with a single one. If accuracy suffers then removed.\n",
    "7. **Mentions** remove or replace with mask *USER* depending on accuracy.\n",
    "8. **HashTags** convertion to valid words if possible. If not possible remove or replaced with mask *HASHTAG* depending on accuracy.\n",
    "9. **Special quotation** marks replaced with proper ones.\n",
    "10. **Contraction mapping** and short forms (u, lol etc.) expansion.\n",
    "11. **Consecutive letters** if 3 or more then replaced with only 2 (*heeyyyy* to *heeyy*).\n",
    "12. **Acronyms** expansion.\n",
    "13. **English letters, digits, valid punctuations** kept, everything else removed. \n",
    "14. **Break Alphanumeric words** by adding space between letters and numbers (assuming missing space mistake).\n",
    "15. **Stopwords** removed depending on the hit on accuracy (may be important for emotions?).\n",
    "16. **Space between words and punctuations**. Must be after ascii emoji to text is done and unnecessary ones removed.\n",
    "17. **Spelling correction** based on valid dictionary.\n",
    "18. **POS** generation, tokenization\n",
    "19. **Lemmatization** depending on accuracy.\n",
    "20. **Remove multiple spaces**.\n",
    "21. **Empty sentences** removed from dataset."
   ]
  },
  {
   "cell_type": "markdown",
   "id": "e396a05f",
   "metadata": {
    "id": "RFnmMynHdPv8",
    "papermill": {
     "duration": 0.048764,
     "end_time": "2022-03-14T23:55:29.751304",
     "exception": false,
     "start_time": "2022-03-14T23:55:29.702540",
     "status": "completed"
    },
    "tags": []
   },
   "source": [
    "#### Mounting Google drive\n",
    "If using Google Colab with Google Drive as storage."
   ]
  },
  {
   "cell_type": "code",
   "execution_count": 12,
   "id": "a32ee485",
   "metadata": {
    "execution": {
     "iopub.execute_input": "2022-03-14T23:55:29.854413Z",
     "iopub.status.busy": "2022-03-14T23:55:29.853734Z",
     "iopub.status.idle": "2022-03-14T23:55:29.856852Z",
     "shell.execute_reply": "2022-03-14T23:55:29.856347Z",
     "shell.execute_reply.started": "2022-03-14T23:45:16.481484Z"
    },
    "executionInfo": {
     "elapsed": 15656,
     "status": "ok",
     "timestamp": 1646923368778,
     "user": {
      "displayName": "Abu Naweem Khan",
      "photoUrl": "https://lh3.googleusercontent.com/a/default-user=s64",
      "userId": "03056090282051064294"
     },
     "user_tz": 300
    },
    "id": "XD80uS1HeXav",
    "outputId": "675af7fc-dd70-434b-9257-3f2ce28ac8e4",
    "papermill": {
     "duration": 0.054936,
     "end_time": "2022-03-14T23:55:29.856994",
     "exception": false,
     "start_time": "2022-03-14T23:55:29.802058",
     "status": "completed"
    },
    "tags": []
   },
   "outputs": [],
   "source": [
    "# from google.colab import drive\n",
    "# drive.mount('/content/drive')"
   ]
  },
  {
   "cell_type": "markdown",
   "id": "36d65c3c",
   "metadata": {
    "id": "VMv99DqM4zvq",
    "papermill": {
     "duration": 0.04806,
     "end_time": "2022-03-14T23:55:29.957023",
     "exception": false,
     "start_time": "2022-03-14T23:55:29.908963",
     "status": "completed"
    },
    "tags": []
   },
   "source": [
    "#### Checking file location"
   ]
  },
  {
   "cell_type": "code",
   "execution_count": 13,
   "id": "f1651607",
   "metadata": {
    "execution": {
     "iopub.execute_input": "2022-03-14T23:55:30.076692Z",
     "iopub.status.busy": "2022-03-14T23:55:30.054825Z",
     "iopub.status.idle": "2022-03-14T23:55:30.878222Z",
     "shell.execute_reply": "2022-03-14T23:55:30.877705Z",
     "shell.execute_reply.started": "2022-03-14T23:45:16.490721Z"
    },
    "executionInfo": {
     "elapsed": 1065,
     "status": "ok",
     "timestamp": 1646923564167,
     "user": {
      "displayName": "Abu Naweem Khan",
      "photoUrl": "https://lh3.googleusercontent.com/a/default-user=s64",
      "userId": "03056090282051064294"
     },
     "user_tz": 300
    },
    "id": "EBczY4CxfawI",
    "outputId": "dca7224f-6948-41e4-bf29-0c846ef912ca",
    "papermill": {
     "duration": 0.87474,
     "end_time": "2022-03-14T23:55:30.878378",
     "exception": false,
     "start_time": "2022-03-14T23:55:30.003638",
     "status": "completed"
    },
    "tags": []
   },
   "outputs": [
    {
     "name": "stdout",
     "output_type": "stream",
     "text": [
      "huggingface/tokenizers: The current process just got forked, after parallelism has already been used. Disabling parallelism to avoid deadlocks...\n",
      "To disable this warning, you can either:\n",
      "\t- Avoid using `tokenizers` before the fork if possible\n",
      "\t- Explicitly set the environment variable TOKENIZERS_PARALLELISM=(true | false)\n",
      "413080213\t#PaisleyBuddie @❤️luv my5brats NSSRP 👵🏼❤️@IrvineWelsh. ❤️. @SarahPinborough 📖🎬 #ImaGranny ❤️👵🏼❤️ #HiStitch ❤️💙🐾\r\n",
      "493832011\tWe are the organizers of Regina's Queen City Pride Festival! Pride 2021 is from June 4 to 13!  Quick Links: https://t.co/Ae11sMU5mj  #QCPRIDE\r\n",
      "2989319032\tMeninsn?? Yes please!!!!!\r\n",
      "1042385216\thttps://t.co/5B8iqsIMaH gives u #LGBTQ news from #Australia #Ireland #NewZealand #UK #USA #Scandinavia & the 🌎 4 the LGBTQ community & their families & friends\r\n",
      "490149888\tInfo & photo ancient - not updating😅.3rd generation @Yankees fan, Consultant, Advocate, @OurVoicesNY #OurVoicesMatter\r\n",
      "2209217329\t\r\n",
      "2547645997\tHumanist, Musician, Writer. https://t.co/yTLXTc5x3e\r\n",
      "144965060\tWatch Gay Webcams on CameraBoys & LiveJasmin: https://t.co/EU3XNRneqe #livejasmin #cameraboys\r\n",
      "18975463\tQueer Art and Culture | Cabaret & Events with & for our LGBTIQ+ Community\r\n",
      "105306151\tshe/her/elle  Community & political organiser on #Trans, #LGBT, #Housing, #Homelessness, #MentalHealth issues.\r\n"
     ]
    }
   ],
   "source": [
    "user_bios = '/kaggle/input/twitter-user-bios/users_bio.csv'\n",
    "!head /kaggle/input/twitter-user-bios/users_bio.csv"
   ]
  },
  {
   "cell_type": "markdown",
   "id": "0720c47c",
   "metadata": {
    "id": "yHCLPY1k44UL",
    "papermill": {
     "duration": 0.049018,
     "end_time": "2022-03-14T23:55:30.975617",
     "exception": false,
     "start_time": "2022-03-14T23:55:30.926599",
     "status": "completed"
    },
    "tags": []
   },
   "source": [
    "#### Processing dataset"
   ]
  },
  {
   "cell_type": "markdown",
   "id": "133b87be",
   "metadata": {
    "id": "z7XxeTb0EFue",
    "papermill": {
     "duration": 0.047924,
     "end_time": "2022-03-14T23:55:31.072375",
     "exception": false,
     "start_time": "2022-03-14T23:55:31.024451",
     "status": "completed"
    },
    "tags": []
   },
   "source": [
    "There is line ending issues in the word file. If directly read using pandas, it causes multiple lines to be considered as the same line. Manual loading of the file is required.\n",
    "\n",
    "**Step 1:** Taking advantage of this we are removing empty bios and converting to lowercase."
   ]
  },
  {
   "cell_type": "code",
   "execution_count": 14,
   "id": "e0249981",
   "metadata": {
    "execution": {
     "iopub.execute_input": "2022-03-14T23:55:31.175683Z",
     "iopub.status.busy": "2022-03-14T23:55:31.174957Z",
     "iopub.status.idle": "2022-03-14T23:55:38.701323Z",
     "shell.execute_reply": "2022-03-14T23:55:38.701818Z",
     "shell.execute_reply.started": "2022-03-14T23:45:17.370385Z"
    },
    "executionInfo": {
     "elapsed": 10188,
     "status": "ok",
     "timestamp": 1646881738485,
     "user": {
      "displayName": "Abu Naweem Khan",
      "photoUrl": "https://lh3.googleusercontent.com/a/default-user=s64",
      "userId": "03056090282051064294"
     },
     "user_tz": 300
    },
    "id": "ukzw9cjNEXJe",
    "papermill": {
     "duration": 7.581639,
     "end_time": "2022-03-14T23:55:38.702007",
     "exception": false,
     "start_time": "2022-03-14T23:55:31.120368",
     "status": "completed"
    },
    "tags": []
   },
   "outputs": [],
   "source": [
    "ids = []\n",
    "bios = []\n",
    "with open(user_bios, mode='r') as fin:\n",
    "    for l in fin:\n",
    "        l = l.strip()\n",
    "        parts = l.split('\\t')\n",
    "\n",
    "        # Empty string or only id and no bio\n",
    "        if len(parts) < 2 or len(parts[1]) == 0:\n",
    "            continue\n",
    "\n",
    "        ids.append(parts[0])\n",
    "\n",
    "        # Lowercase bios during load\n",
    "        bios.append(parts[1].lower())"
   ]
  },
  {
   "cell_type": "markdown",
   "id": "8e2c99bf",
   "metadata": {
    "id": "byyUr391m_WD",
    "papermill": {
     "duration": 0.048074,
     "end_time": "2022-03-14T23:55:38.799117",
     "exception": false,
     "start_time": "2022-03-14T23:55:38.751043",
     "status": "completed"
    },
    "tags": []
   },
   "source": [
    "**Step 2:** Duplicates removed"
   ]
  },
  {
   "cell_type": "code",
   "execution_count": 15,
   "id": "5eafcff0",
   "metadata": {
    "execution": {
     "iopub.execute_input": "2022-03-14T23:55:38.898310Z",
     "iopub.status.busy": "2022-03-14T23:55:38.897341Z",
     "iopub.status.idle": "2022-03-14T23:55:45.500156Z",
     "shell.execute_reply": "2022-03-14T23:55:45.500608Z",
     "shell.execute_reply.started": "2022-03-14T23:45:24.170758Z"
    },
    "executionInfo": {
     "elapsed": 12108,
     "status": "ok",
     "timestamp": 1646881760016,
     "user": {
      "displayName": "Abu Naweem Khan",
      "photoUrl": "https://lh3.googleusercontent.com/a/default-user=s64",
      "userId": "03056090282051064294"
     },
     "user_tz": 300
    },
    "id": "FavAVV6Cf9Yw",
    "outputId": "61c6c8da-8788-4f55-bfde-ac261057fa91",
    "papermill": {
     "duration": 6.654043,
     "end_time": "2022-03-14T23:55:45.500829",
     "exception": false,
     "start_time": "2022-03-14T23:55:38.846786",
     "status": "completed"
    },
    "tags": []
   },
   "outputs": [
    {
     "name": "stdout",
     "output_type": "stream",
     "text": [
      "<class 'pandas.core.frame.DataFrame'>\n",
      "Int64Index: 1767520 entries, 0 to 2892130\n",
      "Data columns (total 3 columns):\n",
      " #   Column  Dtype \n",
      "---  ------  ----- \n",
      " 0   ids     object\n",
      " 1   bios    object\n",
      " 2   length  int64 \n",
      "dtypes: int64(1), object(2)\n",
      "memory usage: 53.9+ MB\n"
     ]
    }
   ],
   "source": [
    "df = pd.DataFrame({'ids': ids, 'bios': bios})\n",
    "\n",
    "df.drop_duplicates(inplace=True)\n",
    "\n",
    "df.dropna(inplace=True)\n",
    "\n",
    "df['length'] = [len(s) for s in df['bios']]\n",
    "\n",
    "df.info()"
   ]
  },
  {
   "cell_type": "code",
   "execution_count": 16,
   "id": "20d99bca",
   "metadata": {
    "execution": {
     "iopub.execute_input": "2022-03-14T23:55:45.599874Z",
     "iopub.status.busy": "2022-03-14T23:55:45.599181Z",
     "iopub.status.idle": "2022-03-14T23:55:45.609164Z",
     "shell.execute_reply": "2022-03-14T23:55:45.609701Z",
     "shell.execute_reply.started": "2022-03-14T23:45:30.452525Z"
    },
    "executionInfo": {
     "elapsed": 249,
     "status": "ok",
     "timestamp": 1646881765225,
     "user": {
      "displayName": "Abu Naweem Khan",
      "photoUrl": "https://lh3.googleusercontent.com/a/default-user=s64",
      "userId": "03056090282051064294"
     },
     "user_tz": 300
    },
    "id": "ZYGvDQZYBfyM",
    "outputId": "7f55c415-bea7-4165-c327-adeb14b08010",
    "papermill": {
     "duration": 0.061655,
     "end_time": "2022-03-14T23:55:45.609885",
     "exception": false,
     "start_time": "2022-03-14T23:55:45.548230",
     "status": "completed"
    },
    "tags": []
   },
   "outputs": [
    {
     "data": {
      "text/html": [
       "<div>\n",
       "<style scoped>\n",
       "    .dataframe tbody tr th:only-of-type {\n",
       "        vertical-align: middle;\n",
       "    }\n",
       "\n",
       "    .dataframe tbody tr th {\n",
       "        vertical-align: top;\n",
       "    }\n",
       "\n",
       "    .dataframe thead th {\n",
       "        text-align: right;\n",
       "    }\n",
       "</style>\n",
       "<table border=\"1\" class=\"dataframe\">\n",
       "  <thead>\n",
       "    <tr style=\"text-align: right;\">\n",
       "      <th></th>\n",
       "      <th>ids</th>\n",
       "      <th>bios</th>\n",
       "      <th>length</th>\n",
       "    </tr>\n",
       "  </thead>\n",
       "  <tbody>\n",
       "    <tr>\n",
       "      <th>0</th>\n",
       "      <td>413080213</td>\n",
       "      <td>#paisleybuddie @❤️luv my5brats nssrp 👵🏼❤️@irvinewelsh. ❤️. @sarahpinborough 📖🎬 #imagranny ❤️👵🏼❤️ #histitch ❤️💙🐾</td>\n",
       "      <td>111</td>\n",
       "    </tr>\n",
       "    <tr>\n",
       "      <th>1</th>\n",
       "      <td>493832011</td>\n",
       "      <td>we are the organizers of regina's queen city pride festival! pride 2021 is from june 4 to 13!  quick links: https://t.co/ae11smu5mj  #qcpride</td>\n",
       "      <td>141</td>\n",
       "    </tr>\n",
       "    <tr>\n",
       "      <th>2</th>\n",
       "      <td>2989319032</td>\n",
       "      <td>meninsn?? yes please!!!!!</td>\n",
       "      <td>25</td>\n",
       "    </tr>\n",
       "    <tr>\n",
       "      <th>3</th>\n",
       "      <td>1042385216</td>\n",
       "      <td>https://t.co/5b8iqsimah gives u #lgbtq news from #australia #ireland #newzealand #uk #usa #scandinavia &amp; the 🌎 4 the lgbtq community &amp; their families &amp; friends</td>\n",
       "      <td>159</td>\n",
       "    </tr>\n",
       "    <tr>\n",
       "      <th>4</th>\n",
       "      <td>490149888</td>\n",
       "      <td>info &amp; photo ancient - not updating😅.3rd generation @yankees fan, consultant, advocate, @ourvoicesny #ourvoicesmatter</td>\n",
       "      <td>117</td>\n",
       "    </tr>\n",
       "  </tbody>\n",
       "</table>\n",
       "</div>"
      ],
      "text/plain": [
       "          ids  \\\n",
       "0   413080213   \n",
       "1   493832011   \n",
       "2  2989319032   \n",
       "3  1042385216   \n",
       "4   490149888   \n",
       "\n",
       "                                                                                                                                                              bios  \\\n",
       "0                                                  #paisleybuddie @❤️luv my5brats nssrp 👵🏼❤️@irvinewelsh. ❤️. @sarahpinborough 📖🎬 #imagranny ❤️👵🏼❤️ #histitch ❤️💙🐾   \n",
       "1                    we are the organizers of regina's queen city pride festival! pride 2021 is from june 4 to 13!  quick links: https://t.co/ae11smu5mj  #qcpride   \n",
       "2                                                                                                                                        meninsn?? yes please!!!!!   \n",
       "3  https://t.co/5b8iqsimah gives u #lgbtq news from #australia #ireland #newzealand #uk #usa #scandinavia & the 🌎 4 the lgbtq community & their families & friends   \n",
       "4                                            info & photo ancient - not updating😅.3rd generation @yankees fan, consultant, advocate, @ourvoicesny #ourvoicesmatter   \n",
       "\n",
       "   length  \n",
       "0     111  \n",
       "1     141  \n",
       "2      25  \n",
       "3     159  \n",
       "4     117  "
      ]
     },
     "execution_count": 16,
     "metadata": {},
     "output_type": "execute_result"
    }
   ],
   "source": [
    "df.head()"
   ]
  },
  {
   "cell_type": "code",
   "execution_count": 17,
   "id": "40ba2786",
   "metadata": {
    "execution": {
     "iopub.execute_input": "2022-03-14T23:55:45.710325Z",
     "iopub.status.busy": "2022-03-14T23:55:45.709687Z",
     "iopub.status.idle": "2022-03-14T23:55:45.723809Z",
     "shell.execute_reply": "2022-03-14T23:55:45.724352Z",
     "shell.execute_reply.started": "2022-03-14T23:45:30.464893Z"
    },
    "executionInfo": {
     "elapsed": 266,
     "status": "ok",
     "timestamp": 1646881769855,
     "user": {
      "displayName": "Abu Naweem Khan",
      "photoUrl": "https://lh3.googleusercontent.com/a/default-user=s64",
      "userId": "03056090282051064294"
     },
     "user_tz": 300
    },
    "id": "aGp0tLuVBgv5",
    "outputId": "0dc042d5-bb49-4e62-bddf-17f3ab72134e",
    "papermill": {
     "duration": 0.065984,
     "end_time": "2022-03-14T23:55:45.724528",
     "exception": false,
     "start_time": "2022-03-14T23:55:45.658544",
     "status": "completed"
    },
    "tags": []
   },
   "outputs": [
    {
     "data": {
      "text/html": [
       "<div>\n",
       "<style scoped>\n",
       "    .dataframe tbody tr th:only-of-type {\n",
       "        vertical-align: middle;\n",
       "    }\n",
       "\n",
       "    .dataframe tbody tr th {\n",
       "        vertical-align: top;\n",
       "    }\n",
       "\n",
       "    .dataframe thead th {\n",
       "        text-align: right;\n",
       "    }\n",
       "</style>\n",
       "<table border=\"1\" class=\"dataframe\">\n",
       "  <thead>\n",
       "    <tr style=\"text-align: right;\">\n",
       "      <th></th>\n",
       "      <th>ids</th>\n",
       "      <th>bios</th>\n",
       "      <th>length</th>\n",
       "    </tr>\n",
       "  </thead>\n",
       "  <tbody>\n",
       "    <tr>\n",
       "      <th>235764</th>\n",
       "      <td>1214436673909489664</td>\n",
       "      <td>https://t.co/m24cseqjvx  https://t.co/edqsdzytb5  https://t.co/jhqyqlqmdj  https://t.co/l5ja3v4rc8 https://t.co/tpd9htmvhv https://t.co/d5ieaky7cl  https://...</td>\n",
       "      <td>294</td>\n",
       "    </tr>\n",
       "  </tbody>\n",
       "</table>\n",
       "</div>"
      ],
      "text/plain": [
       "                        ids  \\\n",
       "235764  1214436673909489664   \n",
       "\n",
       "                                                                                                                                                                   bios  \\\n",
       "235764  https://t.co/m24cseqjvx  https://t.co/edqsdzytb5  https://t.co/jhqyqlqmdj  https://t.co/l5ja3v4rc8 https://t.co/tpd9htmvhv https://t.co/d5ieaky7cl  https://...   \n",
       "\n",
       "        length  \n",
       "235764     294  "
      ]
     },
     "execution_count": 17,
     "metadata": {},
     "output_type": "execute_result"
    }
   ],
   "source": [
    "df[df.length == df.length.max()].head(1)"
   ]
  },
  {
   "cell_type": "code",
   "execution_count": 18,
   "id": "a06c2354",
   "metadata": {
    "execution": {
     "iopub.execute_input": "2022-03-14T23:55:45.827868Z",
     "iopub.status.busy": "2022-03-14T23:55:45.827167Z",
     "iopub.status.idle": "2022-03-14T23:55:45.845956Z",
     "shell.execute_reply": "2022-03-14T23:55:45.846486Z",
     "shell.execute_reply.started": "2022-03-14T23:45:30.487052Z"
    },
    "executionInfo": {
     "elapsed": 250,
     "status": "ok",
     "timestamp": 1646881783201,
     "user": {
      "displayName": "Abu Naweem Khan",
      "photoUrl": "https://lh3.googleusercontent.com/a/default-user=s64",
      "userId": "03056090282051064294"
     },
     "user_tz": 300
    },
    "id": "gn0LqSMwW48v",
    "outputId": "893c3a6e-814c-46df-ab16-de5dadd7e111",
    "papermill": {
     "duration": 0.07215,
     "end_time": "2022-03-14T23:55:45.846680",
     "exception": false,
     "start_time": "2022-03-14T23:55:45.774530",
     "status": "completed"
    },
    "tags": []
   },
   "outputs": [
    {
     "data": {
      "text/html": [
       "<div>\n",
       "<style scoped>\n",
       "    .dataframe tbody tr th:only-of-type {\n",
       "        vertical-align: middle;\n",
       "    }\n",
       "\n",
       "    .dataframe tbody tr th {\n",
       "        vertical-align: top;\n",
       "    }\n",
       "\n",
       "    .dataframe thead th {\n",
       "        text-align: right;\n",
       "    }\n",
       "</style>\n",
       "<table border=\"1\" class=\"dataframe\">\n",
       "  <thead>\n",
       "    <tr style=\"text-align: right;\">\n",
       "      <th></th>\n",
       "      <th>ids</th>\n",
       "      <th>bios</th>\n",
       "      <th>length</th>\n",
       "    </tr>\n",
       "  </thead>\n",
       "  <tbody>\n",
       "    <tr>\n",
       "      <th>137</th>\n",
       "      <td>96475659</td>\n",
       "      <td>😅</td>\n",
       "      <td>1</td>\n",
       "    </tr>\n",
       "  </tbody>\n",
       "</table>\n",
       "</div>"
      ],
      "text/plain": [
       "          ids bios  length\n",
       "137  96475659    😅       1"
      ]
     },
     "execution_count": 18,
     "metadata": {},
     "output_type": "execute_result"
    }
   ],
   "source": [
    "df[df.length == df.length.min()].head(1)"
   ]
  },
  {
   "cell_type": "markdown",
   "id": "99f99ce2",
   "metadata": {
    "id": "kdq6fGVCxaFL",
    "papermill": {
     "duration": 0.050145,
     "end_time": "2022-03-14T23:55:45.945430",
     "exception": false,
     "start_time": "2022-03-14T23:55:45.895285",
     "status": "completed"
    },
    "tags": []
   },
   "source": [
    "**Step 3, 5-16:** links, mentions, hashtags, emojis, special quotations, contraction mapping, consecutive letters, ~~acronyms~~, non-english/non-number removal, break alphanumeric words, ~~remove stopwords~~, space between words and punctuations, ~~spelling correction~~. "
   ]
  },
  {
   "cell_type": "markdown",
   "id": "14a21cdb",
   "metadata": {
    "id": "giKI9MqHEJoH",
    "papermill": {
     "duration": 0.049907,
     "end_time": "2022-03-14T23:55:46.044287",
     "exception": false,
     "start_time": "2022-03-14T23:55:45.994380",
     "status": "completed"
    },
    "tags": []
   },
   "source": [
    "Test run and Inspection"
   ]
  },
  {
   "cell_type": "code",
   "execution_count": 19,
   "id": "780b6b2c",
   "metadata": {
    "execution": {
     "iopub.execute_input": "2022-03-14T23:55:46.146356Z",
     "iopub.status.busy": "2022-03-14T23:55:46.145690Z",
     "iopub.status.idle": "2022-03-14T23:55:46.223217Z",
     "shell.execute_reply": "2022-03-14T23:55:46.223722Z",
     "shell.execute_reply.started": "2022-03-14T23:45:30.506759Z"
    },
    "executionInfo": {
     "elapsed": 255,
     "status": "ok",
     "timestamp": 1646881791358,
     "user": {
      "displayName": "Abu Naweem Khan",
      "photoUrl": "https://lh3.googleusercontent.com/a/default-user=s64",
      "userId": "03056090282051064294"
     },
     "user_tz": 300
    },
    "id": "13c83VB1v0YU",
    "outputId": "666de575-fe78-42ec-e31f-b2a4289813a7",
    "papermill": {
     "duration": 0.130561,
     "end_time": "2022-03-14T23:55:46.223900",
     "exception": false,
     "start_time": "2022-03-14T23:55:46.093339",
     "status": "completed"
    },
    "tags": []
   },
   "outputs": [
    {
     "name": "stdout",
     "output_type": "stream",
     "text": [
      "Before: #paisleybuddie @❤️luv my5brats nssrp 👵🏼❤️@irvinewelsh. ❤️. @sarahpinborough 📖🎬 #imagranny ❤️👵🏼❤️ #histitch ❤️💙🐾\n",
      "\n",
      "After: luv my 5 brats nssrp .\n",
      "\n",
      "\n",
      "Before: we are the organizers of regina's queen city pride festival! pride 2021 is from june 4 to 13!  quick links: https://t.co/ae11smu5mj  #qcpride\n",
      "\n",
      "After: we are the organizers of regina's queen city pride festival ! pride 2021 is from june 4 to 13 !\n",
      "\n",
      "\n",
      "Before: meninsn?? yes please!!!!!\n",
      "\n",
      "After: meninsn ? yes please !\n",
      "\n",
      "\n",
      "Before: https://t.co/5b8iqsimah gives u #lgbtq news from #australia #ireland #newzealand #uk #usa #scandinavia & the 🌎 4 the lgbtq community & their families & friends\n",
      "\n",
      "After: gives u news from & the 4 the lgbtq community & their families & friends\n",
      "\n",
      "\n",
      "Before: info & photo ancient - not updating😅.3rd generation @yankees fan, consultant, advocate, @ourvoicesny #ourvoicesmatter\n",
      "\n",
      "After: info & photo ancient - not updating . 3 rd generation fan , consultant , advocate ,\n",
      "\n",
      "\n"
     ]
    }
   ],
   "source": [
    "for s in df['bios'].to_list()[:5]:\n",
    "    print(f'Before: {s}\\n')\n",
    "    print(f'After: {process_text(s)}\\n\\n')"
   ]
  },
  {
   "cell_type": "markdown",
   "id": "b3a9484d",
   "metadata": {
    "id": "bbCAcKpEEGzh",
    "papermill": {
     "duration": 0.048845,
     "end_time": "2022-03-14T23:55:46.322621",
     "exception": false,
     "start_time": "2022-03-14T23:55:46.273776",
     "status": "completed"
    },
    "tags": []
   },
   "source": [
    "Final processing and saved in file"
   ]
  },
  {
   "cell_type": "code",
   "execution_count": 20,
   "id": "328d2dbb",
   "metadata": {
    "execution": {
     "iopub.execute_input": "2022-03-14T23:55:46.424022Z",
     "iopub.status.busy": "2022-03-14T23:55:46.423291Z",
     "iopub.status.idle": "2022-03-14T23:57:49.931331Z",
     "shell.execute_reply": "2022-03-14T23:57:49.932101Z",
     "shell.execute_reply.started": "2022-03-14T23:45:30.585407Z"
    },
    "executionInfo": {
     "elapsed": 139402,
     "status": "ok",
     "timestamp": 1646881938825,
     "user": {
      "displayName": "Abu Naweem Khan",
      "photoUrl": "https://lh3.googleusercontent.com/a/default-user=s64",
      "userId": "03056090282051064294"
     },
     "user_tz": 300
    },
    "id": "3HNBrySeE3EM",
    "outputId": "6dd16e9d-00fc-44e6-b201-9eb8e21f8aec",
    "papermill": {
     "duration": 123.560769,
     "end_time": "2022-03-14T23:57:49.932353",
     "exception": false,
     "start_time": "2022-03-14T23:55:46.371584",
     "status": "completed"
    },
    "tags": []
   },
   "outputs": [
    {
     "name": "stdout",
     "output_type": "stream",
     "text": [
      "<class 'pandas.core.frame.DataFrame'>\n",
      "Int64Index: 1767520 entries, 0 to 2892130\n",
      "Data columns (total 5 columns):\n",
      " #   Column            Dtype \n",
      "---  ------            ----- \n",
      " 0   ids               object\n",
      " 1   bios              object\n",
      " 2   length            int64 \n",
      " 3   processed         object\n",
      " 4   length_processed  int64 \n",
      "dtypes: int64(2), object(3)\n",
      "memory usage: 80.9+ MB\n"
     ]
    }
   ],
   "source": [
    "df['processed'] = [process_text(s) for s in df['bios']]\n",
    "df['length_processed'] = [len(s) for s in df['processed']]\n",
    "df.info()"
   ]
  },
  {
   "cell_type": "code",
   "execution_count": 21,
   "id": "9697966b",
   "metadata": {
    "execution": {
     "iopub.execute_input": "2022-03-14T23:57:50.035813Z",
     "iopub.status.busy": "2022-03-14T23:57:50.035202Z",
     "iopub.status.idle": "2022-03-14T23:57:51.229265Z",
     "shell.execute_reply": "2022-03-14T23:57:51.229724Z",
     "shell.execute_reply.started": "2022-03-14T23:47:36.237878Z"
    },
    "executionInfo": {
     "elapsed": 2367,
     "status": "ok",
     "timestamp": 1646882032051,
     "user": {
      "displayName": "Abu Naweem Khan",
      "photoUrl": "https://lh3.googleusercontent.com/a/default-user=s64",
      "userId": "03056090282051064294"
     },
     "user_tz": 300
    },
    "id": "PAALQ7U7Jhzl",
    "outputId": "db3368cd-2f72-4789-bbfe-482449dc3a51",
    "papermill": {
     "duration": 1.247638,
     "end_time": "2022-03-14T23:57:51.229913",
     "exception": false,
     "start_time": "2022-03-14T23:57:49.982275",
     "status": "completed"
    },
    "tags": []
   },
   "outputs": [
    {
     "name": "stdout",
     "output_type": "stream",
     "text": [
      "<class 'pandas.core.frame.DataFrame'>\n",
      "Int64Index: 1670994 entries, 0 to 2892130\n",
      "Data columns (total 5 columns):\n",
      " #   Column            Non-Null Count    Dtype \n",
      "---  ------            --------------    ----- \n",
      " 0   ids               1670994 non-null  object\n",
      " 1   bios              1670994 non-null  object\n",
      " 2   length            1670994 non-null  int64 \n",
      " 3   processed         1670994 non-null  object\n",
      " 4   length_processed  1670994 non-null  int64 \n",
      "dtypes: int64(2), object(3)\n",
      "memory usage: 76.5+ MB\n"
     ]
    }
   ],
   "source": [
    "df.drop(df[df.length_processed < 2].index, inplace=True)\n",
    "df.info()"
   ]
  },
  {
   "cell_type": "code",
   "execution_count": 22,
   "id": "4bd80b49",
   "metadata": {
    "execution": {
     "iopub.execute_input": "2022-03-14T23:57:51.334428Z",
     "iopub.status.busy": "2022-03-14T23:57:51.333493Z",
     "iopub.status.idle": "2022-03-14T23:57:51.345212Z",
     "shell.execute_reply": "2022-03-14T23:57:51.345925Z",
     "shell.execute_reply.started": "2022-03-14T23:47:37.482106Z"
    },
    "executionInfo": {
     "elapsed": 250,
     "status": "ok",
     "timestamp": 1646882039613,
     "user": {
      "displayName": "Abu Naweem Khan",
      "photoUrl": "https://lh3.googleusercontent.com/a/default-user=s64",
      "userId": "03056090282051064294"
     },
     "user_tz": 300
    },
    "id": "tmUCG4aVLONn",
    "outputId": "3bf7f2f9-613a-4c88-dd45-3c853aacc017",
    "papermill": {
     "duration": 0.067263,
     "end_time": "2022-03-14T23:57:51.346161",
     "exception": false,
     "start_time": "2022-03-14T23:57:51.278898",
     "status": "completed"
    },
    "tags": []
   },
   "outputs": [
    {
     "data": {
      "text/html": [
       "<div>\n",
       "<style scoped>\n",
       "    .dataframe tbody tr th:only-of-type {\n",
       "        vertical-align: middle;\n",
       "    }\n",
       "\n",
       "    .dataframe tbody tr th {\n",
       "        vertical-align: top;\n",
       "    }\n",
       "\n",
       "    .dataframe thead th {\n",
       "        text-align: right;\n",
       "    }\n",
       "</style>\n",
       "<table border=\"1\" class=\"dataframe\">\n",
       "  <thead>\n",
       "    <tr style=\"text-align: right;\">\n",
       "      <th></th>\n",
       "      <th>ids</th>\n",
       "      <th>bios</th>\n",
       "      <th>length</th>\n",
       "      <th>processed</th>\n",
       "      <th>length_processed</th>\n",
       "    </tr>\n",
       "  </thead>\n",
       "  <tbody>\n",
       "    <tr>\n",
       "      <th>2732017</th>\n",
       "      <td>737706614</td>\n",
       "      <td>di-de-di-da-di-de-do-do di-ba-di-de-do di-de-de-di-de-de-de-do-do-day-bi-di-do di-de-di-da-di-de-do-do di-ba-di-de-do di-de-de-di-de-de-de-do-do-day-bi-di-do</td>\n",
       "      <td>157</td>\n",
       "      <td>di - de - di - da - di - de - do - do di - ba - di - de - do di - de - de - di - de - de - de - do - do - day - bi - di - do di - de - di - da - di - de - d...</td>\n",
       "      <td>249</td>\n",
       "    </tr>\n",
       "  </tbody>\n",
       "</table>\n",
       "</div>"
      ],
      "text/plain": [
       "               ids  \\\n",
       "2732017  737706614   \n",
       "\n",
       "                                                                                                                                                                  bios  \\\n",
       "2732017  di-de-di-da-di-de-do-do di-ba-di-de-do di-de-de-di-de-de-de-do-do-day-bi-di-do di-de-di-da-di-de-do-do di-ba-di-de-do di-de-de-di-de-de-de-do-do-day-bi-di-do   \n",
       "\n",
       "         length  \\\n",
       "2732017     157   \n",
       "\n",
       "                                                                                                                                                               processed  \\\n",
       "2732017  di - de - di - da - di - de - do - do di - ba - di - de - do di - de - de - di - de - de - de - do - do - day - bi - di - do di - de - di - da - di - de - d...   \n",
       "\n",
       "         length_processed  \n",
       "2732017               249  "
      ]
     },
     "execution_count": 22,
     "metadata": {},
     "output_type": "execute_result"
    }
   ],
   "source": [
    "df[df.length_processed == df.length_processed.max()].head(1)"
   ]
  },
  {
   "cell_type": "code",
   "execution_count": 23,
   "id": "c27e2564",
   "metadata": {
    "execution": {
     "iopub.execute_input": "2022-03-14T23:57:51.457665Z",
     "iopub.status.busy": "2022-03-14T23:57:51.455440Z",
     "iopub.status.idle": "2022-03-14T23:57:51.467227Z",
     "shell.execute_reply": "2022-03-14T23:57:51.467748Z",
     "shell.execute_reply.started": "2022-03-14T23:47:37.498815Z"
    },
    "executionInfo": {
     "elapsed": 255,
     "status": "ok",
     "timestamp": 1646882044939,
     "user": {
      "displayName": "Abu Naweem Khan",
      "photoUrl": "https://lh3.googleusercontent.com/a/default-user=s64",
      "userId": "03056090282051064294"
     },
     "user_tz": 300
    },
    "id": "og30PUEgeu7Q",
    "outputId": "227f4987-45d6-4c23-8602-7b79aac66a6a",
    "papermill": {
     "duration": 0.067941,
     "end_time": "2022-03-14T23:57:51.467917",
     "exception": false,
     "start_time": "2022-03-14T23:57:51.399976",
     "status": "completed"
    },
    "tags": []
   },
   "outputs": [
    {
     "data": {
      "text/html": [
       "<div>\n",
       "<style scoped>\n",
       "    .dataframe tbody tr th:only-of-type {\n",
       "        vertical-align: middle;\n",
       "    }\n",
       "\n",
       "    .dataframe tbody tr th {\n",
       "        vertical-align: top;\n",
       "    }\n",
       "\n",
       "    .dataframe thead th {\n",
       "        text-align: right;\n",
       "    }\n",
       "</style>\n",
       "<table border=\"1\" class=\"dataframe\">\n",
       "  <thead>\n",
       "    <tr style=\"text-align: right;\">\n",
       "      <th></th>\n",
       "      <th>ids</th>\n",
       "      <th>bios</th>\n",
       "      <th>length</th>\n",
       "      <th>processed</th>\n",
       "      <th>length_processed</th>\n",
       "    </tr>\n",
       "  </thead>\n",
       "  <tbody>\n",
       "    <tr>\n",
       "      <th>6216</th>\n",
       "      <td>3496040303</td>\n",
       "      <td>i #writelgbtq #romance. #queer. #asd. #immigrant. #polyglot. #lbtq #writingcommunity - https://t.co/ksrroryjlg</td>\n",
       "      <td>110</td>\n",
       "      <td>i -</td>\n",
       "      <td>3</td>\n",
       "    </tr>\n",
       "  </tbody>\n",
       "</table>\n",
       "</div>"
      ],
      "text/plain": [
       "             ids  \\\n",
       "6216  3496040303   \n",
       "\n",
       "                                                                                                                bios  \\\n",
       "6216  i #writelgbtq #romance. #queer. #asd. #immigrant. #polyglot. #lbtq #writingcommunity - https://t.co/ksrroryjlg   \n",
       "\n",
       "      length processed  length_processed  \n",
       "6216     110       i -                 3  "
      ]
     },
     "execution_count": 23,
     "metadata": {},
     "output_type": "execute_result"
    }
   ],
   "source": [
    "df[df.length_processed == df.length_processed.min()].head(1)"
   ]
  },
  {
   "cell_type": "markdown",
   "id": "03eb08cc",
   "metadata": {
    "id": "UuzkqqOeb0Gk",
    "papermill": {
     "duration": 0.050324,
     "end_time": "2022-03-14T23:57:51.570743",
     "exception": false,
     "start_time": "2022-03-14T23:57:51.520419",
     "status": "completed"
    },
    "tags": []
   },
   "source": [
    "#### Save Processed Bios to File"
   ]
  },
  {
   "cell_type": "code",
   "execution_count": 24,
   "id": "154b9eb0",
   "metadata": {
    "execution": {
     "iopub.execute_input": "2022-03-14T23:57:51.675354Z",
     "iopub.status.busy": "2022-03-14T23:57:51.674427Z",
     "iopub.status.idle": "2022-03-14T23:57:56.239753Z",
     "shell.execute_reply": "2022-03-14T23:57:56.240232Z",
     "shell.execute_reply.started": "2022-03-14T23:47:37.516552Z"
    },
    "executionInfo": {
     "elapsed": 6173,
     "status": "ok",
     "timestamp": 1646882065268,
     "user": {
      "displayName": "Abu Naweem Khan",
      "photoUrl": "https://lh3.googleusercontent.com/a/default-user=s64",
      "userId": "03056090282051064294"
     },
     "user_tz": 300
    },
    "id": "N30hK0vRb9pP",
    "papermill": {
     "duration": 4.619219,
     "end_time": "2022-03-14T23:57:56.240391",
     "exception": false,
     "start_time": "2022-03-14T23:57:51.621172",
     "status": "completed"
    },
    "tags": []
   },
   "outputs": [],
   "source": [
    "processed_bios = '/kaggle/working/users_bio_processed.csv'\n",
    "df.to_csv(processed_bios, sep='\\t', columns=['ids', 'processed'], index=False)"
   ]
  },
  {
   "cell_type": "markdown",
   "id": "0b214fc7",
   "metadata": {
    "id": "RO2Y-b1m5Qnu",
    "papermill": {
     "duration": 0.050515,
     "end_time": "2022-03-14T23:57:56.342188",
     "exception": false,
     "start_time": "2022-03-14T23:57:56.291673",
     "status": "completed"
    },
    "tags": []
   },
   "source": [
    "### Predictions in Batch"
   ]
  },
  {
   "cell_type": "code",
   "execution_count": 25,
   "id": "f337535c",
   "metadata": {
    "execution": {
     "iopub.execute_input": "2022-03-14T23:57:56.447181Z",
     "iopub.status.busy": "2022-03-14T23:57:56.446215Z",
     "iopub.status.idle": "2022-03-14T23:58:01.563608Z",
     "shell.execute_reply": "2022-03-14T23:58:01.564181Z",
     "shell.execute_reply.started": "2022-03-14T23:47:42.123556Z"
    },
    "executionInfo": {
     "elapsed": 5980,
     "status": "ok",
     "timestamp": 1646923582438,
     "user": {
      "displayName": "Abu Naweem Khan",
      "photoUrl": "https://lh3.googleusercontent.com/a/default-user=s64",
      "userId": "03056090282051064294"
     },
     "user_tz": 300
    },
    "id": "dPoAFkWIpZAz",
    "outputId": "54562bba-020a-41f9-f863-5ae13d5c7890",
    "papermill": {
     "duration": 5.171615,
     "end_time": "2022-03-14T23:58:01.564369",
     "exception": false,
     "start_time": "2022-03-14T23:57:56.392754",
     "status": "completed"
    },
    "tags": []
   },
   "outputs": [
    {
     "name": "stdout",
     "output_type": "stream",
     "text": [
      "<class 'pandas.core.frame.DataFrame'>\n",
      "RangeIndex: 1670994 entries, 0 to 1670993\n",
      "Data columns (total 2 columns):\n",
      " #   Column     Non-Null Count    Dtype \n",
      "---  ------     --------------    ----- \n",
      " 0   ids        1670994 non-null  string\n",
      " 1   processed  1670994 non-null  string\n",
      "dtypes: string(2)\n",
      "memory usage: 25.5 MB\n"
     ]
    }
   ],
   "source": [
    "df = pd.read_csv(processed_bios, sep='\\t', dtype={\"ids\": \"string\", \"processed\": \"string\"})\n",
    "df.info()"
   ]
  },
  {
   "cell_type": "markdown",
   "id": "f332c1d9",
   "metadata": {
    "papermill": {
     "duration": 0.095543,
     "end_time": "2022-03-14T23:58:01.750820",
     "exception": false,
     "start_time": "2022-03-14T23:58:01.655277",
     "status": "completed"
    },
    "tags": []
   },
   "source": [
    "To circumvent the time limitation on single run, each time we start from the end point of last run. This requires us to update the dataset before each run with the output of the last run."
   ]
  },
  {
   "cell_type": "code",
   "execution_count": 26,
   "id": "ddf23f19",
   "metadata": {
    "execution": {
     "iopub.execute_input": "2022-03-14T23:58:01.887116Z",
     "iopub.status.busy": "2022-03-14T23:58:01.886200Z",
     "iopub.status.idle": "2022-03-14T23:58:12.482109Z",
     "shell.execute_reply": "2022-03-14T23:58:12.483161Z",
     "shell.execute_reply.started": "2022-03-14T23:47:45.958850Z"
    },
    "papermill": {
     "duration": 10.667254,
     "end_time": "2022-03-14T23:58:12.483698",
     "exception": false,
     "start_time": "2022-03-14T23:58:01.816444",
     "status": "completed"
    },
    "tags": []
   },
   "outputs": [
    {
     "name": "stdout",
     "output_type": "stream",
     "text": [
      "huggingface/tokenizers: The current process just got forked, after parallelism has already been used. Disabling parallelism to avoid deadlocks...\n",
      "To disable this warning, you can either:\n",
      "\t- Avoid using `tokenizers` before the fork if possible\n",
      "\t- Explicitly set the environment variable TOKENIZERS_PARALLELISM=(true | false)\n"
     ]
    }
   ],
   "source": [
    "!cp '/kaggle/input/twitter-user-bios/users_bio_distilbert_27.csv' 'users_bio_distilbert_27.csv'\n",
    "predicted_bios = 'users_bio_distilbert_27.csv'"
   ]
  },
  {
   "cell_type": "code",
   "execution_count": 27,
   "id": "7385c216",
   "metadata": {
    "execution": {
     "iopub.execute_input": "2022-03-14T23:58:12.622724Z",
     "iopub.status.busy": "2022-03-14T23:58:12.621732Z",
     "iopub.status.idle": "2022-03-14T23:58:15.307686Z",
     "shell.execute_reply": "2022-03-14T23:58:15.308386Z",
     "shell.execute_reply.started": "2022-03-14T23:47:54.369335Z"
    },
    "executionInfo": {
     "elapsed": 2010,
     "status": "ok",
     "timestamp": 1646923674840,
     "user": {
      "displayName": "Abu Naweem Khan",
      "photoUrl": "https://lh3.googleusercontent.com/a/default-user=s64",
      "userId": "03056090282051064294"
     },
     "user_tz": 300
    },
    "id": "OoIA11qdty1F",
    "outputId": "2cf30610-8a62-47a9-c7e8-df386dadc4ab",
    "papermill": {
     "duration": 2.757293,
     "end_time": "2022-03-14T23:58:15.308628",
     "exception": false,
     "start_time": "2022-03-14T23:58:12.551335",
     "status": "completed"
    },
    "tags": []
   },
   "outputs": [
    {
     "name": "stdout",
     "output_type": "stream",
     "text": [
      "Start processing from: 1422499\n"
     ]
    }
   ],
   "source": [
    "out_path = Path(predicted_bios)\n",
    "start_index = 0\n",
    "\n",
    "if out_path.is_file():\n",
    "    with open(out_path, mode='r') as fin:\n",
    "        start_index = len(fin.readlines()) - 1\n",
    "\n",
    "print(f'Start processing from: {start_index}')"
   ]
  },
  {
   "cell_type": "code",
   "execution_count": 28,
   "id": "8fcaeaca",
   "metadata": {
    "execution": {
     "iopub.execute_input": "2022-03-14T23:58:15.417127Z",
     "iopub.status.busy": "2022-03-14T23:58:15.416136Z",
     "iopub.status.idle": "2022-03-14T23:58:15.592617Z",
     "shell.execute_reply": "2022-03-14T23:58:15.593116Z",
     "shell.execute_reply.started": "2022-03-14T23:47:56.030828Z"
    },
    "id": "puTx-XEH5gi5",
    "outputId": "e36ac8db-3662-42d5-c5d4-0312fdd696ce",
    "papermill": {
     "duration": 0.232011,
     "end_time": "2022-03-14T23:58:15.593293",
     "exception": false,
     "start_time": "2022-03-14T23:58:15.361282",
     "status": "completed"
    },
    "tags": []
   },
   "outputs": [
    {
     "data": {
      "text/html": [
       "\n",
       "        <span>\n",
       "            Progress: \n",
       "            <progress\n",
       "                value='85'\n",
       "                max='100',\n",
       "                style='width: 50%'\n",
       "            >\n",
       "                85\n",
       "            </progress> 1422500/1670994 Complete\n",
       "        </span>\n",
       "        "
      ],
      "text/plain": [
       "<IPython.core.display.HTML object>"
      ]
     },
     "metadata": {},
     "output_type": "display_data"
    }
   ],
   "source": [
    "with open(predicted_bios, mode='a') as fout:\n",
    "    if start_index == 0:\n",
    "        fout.write('ids,admiration,amusement,anger,annoyance,approval,'+\\\n",
    "                  'caring,confusion,curiosity,desire,disappointment,disapproval,'+\\\n",
    "                  'disgust,embarrassment,excitement,fear,gratitude,grief,joy,love,'+\\\n",
    "                  'nervousness,optimism,pride,realization,relief,remorse,sadness,surprise,neutral,verdict\\n')\n",
    "\n",
    "    n = len(df['processed'])\n",
    "    step_size = 1 # Using 1000 for actual runs\n",
    "    out = display(progress(0, n), display_id=True)\n",
    "\n",
    "    for i in range(start_index, n, step_size):\n",
    "        predictions = classifier(df['processed'][i : (i + step_size)].to_list())\n",
    "\n",
    "        for j in range(len(predictions)):\n",
    "            fout.write(f'{df[\"ids\"][i + j]},')\n",
    "            for d in predictions[j]:\n",
    "                fout.write(f\"{d['score']}, \")\n",
    "\n",
    "            fout.write(f'{verdict(predictions[j])}\\n')\n",
    "\n",
    "        out.update(progress(i + step_size, n))\n",
    "        break # Breaking instead of completing the run\n"
   ]
  },
  {
   "cell_type": "code",
   "execution_count": 29,
   "id": "5c3e9b21",
   "metadata": {
    "execution": {
     "iopub.execute_input": "2022-03-14T23:58:15.702150Z",
     "iopub.status.busy": "2022-03-14T23:58:15.701147Z",
     "iopub.status.idle": "2022-03-14T23:58:15.704964Z",
     "shell.execute_reply": "2022-03-14T23:58:15.705456Z",
     "shell.execute_reply.started": "2022-03-14T23:47:56.162233Z"
    },
    "id": "w8dyDO9QfYL6",
    "papermill": {
     "duration": 0.059831,
     "end_time": "2022-03-14T23:58:15.705628",
     "exception": false,
     "start_time": "2022-03-14T23:58:15.645797",
     "status": "completed"
    },
    "tags": []
   },
   "outputs": [],
   "source": [
    "# drive.flush_and_unmount()"
   ]
  }
 ],
 "metadata": {
  "kernelspec": {
   "display_name": "Python 3",
   "language": "python",
   "name": "python3"
  },
  "language_info": {
   "codemirror_mode": {
    "name": "ipython",
    "version": 3
   },
   "file_extension": ".py",
   "mimetype": "text/x-python",
   "name": "python",
   "nbconvert_exporter": "python",
   "pygments_lexer": "ipython3",
   "version": "3.7.12"
  },
  "papermill": {
   "default_parameters": {},
   "duration": 302.190285,
   "end_time": "2022-03-14T23:58:18.473849",
   "environment_variables": {},
   "exception": null,
   "input_path": "__notebook__.ipynb",
   "output_path": "__notebook__.ipynb",
   "parameters": {},
   "start_time": "2022-03-14T23:53:16.283564",
   "version": "2.3.3"
  },
  "widgets": {
   "application/vnd.jupyter.widget-state+json": {
    "state": {
     "0092bdb4fea24844ae619c1b53bb1342": {
      "model_module": "@jupyter-widgets/controls",
      "model_module_version": "1.5.0",
      "model_name": "DescriptionStyleModel",
      "state": {
       "_model_module": "@jupyter-widgets/controls",
       "_model_module_version": "1.5.0",
       "_model_name": "DescriptionStyleModel",
       "_view_count": null,
       "_view_module": "@jupyter-widgets/base",
       "_view_module_version": "1.2.0",
       "_view_name": "StyleView",
       "description_width": ""
      }
     },
     "02b3e6adc10446ef95e24ef3b43ab5e8": {
      "model_module": "@jupyter-widgets/controls",
      "model_module_version": "1.5.0",
      "model_name": "HBoxModel",
      "state": {
       "_dom_classes": [],
       "_model_module": "@jupyter-widgets/controls",
       "_model_module_version": "1.5.0",
       "_model_name": "HBoxModel",
       "_view_count": null,
       "_view_module": "@jupyter-widgets/controls",
       "_view_module_version": "1.5.0",
       "_view_name": "HBoxView",
       "box_style": "",
       "children": [
        "IPY_MODEL_e290dcebc9264cd0b35a771787c872b2",
        "IPY_MODEL_5e830499b43a4b89bde595de0c991ba6",
        "IPY_MODEL_a585016c5bfe404d9a5a4dd6174db443"
       ],
       "layout": "IPY_MODEL_9ef3df6471f5497cb7ea434a1b6cd891"
      }
     },
     "084fc5e8acf5467e8fb8d02d6b008540": {
      "model_module": "@jupyter-widgets/base",
      "model_module_version": "1.2.0",
      "model_name": "LayoutModel",
      "state": {
       "_model_module": "@jupyter-widgets/base",
       "_model_module_version": "1.2.0",
       "_model_name": "LayoutModel",
       "_view_count": null,
       "_view_module": "@jupyter-widgets/base",
       "_view_module_version": "1.2.0",
       "_view_name": "LayoutView",
       "align_content": null,
       "align_items": null,
       "align_self": null,
       "border": null,
       "bottom": null,
       "display": null,
       "flex": null,
       "flex_flow": null,
       "grid_area": null,
       "grid_auto_columns": null,
       "grid_auto_flow": null,
       "grid_auto_rows": null,
       "grid_column": null,
       "grid_gap": null,
       "grid_row": null,
       "grid_template_areas": null,
       "grid_template_columns": null,
       "grid_template_rows": null,
       "height": null,
       "justify_content": null,
       "justify_items": null,
       "left": null,
       "margin": null,
       "max_height": null,
       "max_width": null,
       "min_height": null,
       "min_width": null,
       "object_fit": null,
       "object_position": null,
       "order": null,
       "overflow": null,
       "overflow_x": null,
       "overflow_y": null,
       "padding": null,
       "right": null,
       "top": null,
       "visibility": null,
       "width": null
      }
     },
     "08e35376d644471ab8128be284c54fa2": {
      "model_module": "@jupyter-widgets/base",
      "model_module_version": "1.2.0",
      "model_name": "LayoutModel",
      "state": {
       "_model_module": "@jupyter-widgets/base",
       "_model_module_version": "1.2.0",
       "_model_name": "LayoutModel",
       "_view_count": null,
       "_view_module": "@jupyter-widgets/base",
       "_view_module_version": "1.2.0",
       "_view_name": "LayoutView",
       "align_content": null,
       "align_items": null,
       "align_self": null,
       "border": null,
       "bottom": null,
       "display": null,
       "flex": null,
       "flex_flow": null,
       "grid_area": null,
       "grid_auto_columns": null,
       "grid_auto_flow": null,
       "grid_auto_rows": null,
       "grid_column": null,
       "grid_gap": null,
       "grid_row": null,
       "grid_template_areas": null,
       "grid_template_columns": null,
       "grid_template_rows": null,
       "height": null,
       "justify_content": null,
       "justify_items": null,
       "left": null,
       "margin": null,
       "max_height": null,
       "max_width": null,
       "min_height": null,
       "min_width": null,
       "object_fit": null,
       "object_position": null,
       "order": null,
       "overflow": null,
       "overflow_x": null,
       "overflow_y": null,
       "padding": null,
       "right": null,
       "top": null,
       "visibility": null,
       "width": null
      }
     },
     "0a5afe4dc2e64c8fa14eaa6dd7dd8b0c": {
      "model_module": "@jupyter-widgets/controls",
      "model_module_version": "1.5.0",
      "model_name": "HBoxModel",
      "state": {
       "_dom_classes": [],
       "_model_module": "@jupyter-widgets/controls",
       "_model_module_version": "1.5.0",
       "_model_name": "HBoxModel",
       "_view_count": null,
       "_view_module": "@jupyter-widgets/controls",
       "_view_module_version": "1.5.0",
       "_view_name": "HBoxView",
       "box_style": "",
       "children": [
        "IPY_MODEL_ec052b7270ca4ca889fa90746b79b941",
        "IPY_MODEL_4a3fbeb17b664b2c9c85d7648ba24a53",
        "IPY_MODEL_57580757127f4023a74da73eb8121a26"
       ],
       "layout": "IPY_MODEL_ce6c3fa3db074a38ab1b1a987021f250"
      }
     },
     "0b715b9f6317428489a6b5fe7ee8de89": {
      "model_module": "@jupyter-widgets/base",
      "model_module_version": "1.2.0",
      "model_name": "LayoutModel",
      "state": {
       "_model_module": "@jupyter-widgets/base",
       "_model_module_version": "1.2.0",
       "_model_name": "LayoutModel",
       "_view_count": null,
       "_view_module": "@jupyter-widgets/base",
       "_view_module_version": "1.2.0",
       "_view_name": "LayoutView",
       "align_content": null,
       "align_items": null,
       "align_self": null,
       "border": null,
       "bottom": null,
       "display": null,
       "flex": null,
       "flex_flow": null,
       "grid_area": null,
       "grid_auto_columns": null,
       "grid_auto_flow": null,
       "grid_auto_rows": null,
       "grid_column": null,
       "grid_gap": null,
       "grid_row": null,
       "grid_template_areas": null,
       "grid_template_columns": null,
       "grid_template_rows": null,
       "height": null,
       "justify_content": null,
       "justify_items": null,
       "left": null,
       "margin": null,
       "max_height": null,
       "max_width": null,
       "min_height": null,
       "min_width": null,
       "object_fit": null,
       "object_position": null,
       "order": null,
       "overflow": null,
       "overflow_x": null,
       "overflow_y": null,
       "padding": null,
       "right": null,
       "top": null,
       "visibility": null,
       "width": null
      }
     },
     "11d20852946f43339a6e49543aacfd99": {
      "model_module": "@jupyter-widgets/controls",
      "model_module_version": "1.5.0",
      "model_name": "ProgressStyleModel",
      "state": {
       "_model_module": "@jupyter-widgets/controls",
       "_model_module_version": "1.5.0",
       "_model_name": "ProgressStyleModel",
       "_view_count": null,
       "_view_module": "@jupyter-widgets/base",
       "_view_module_version": "1.2.0",
       "_view_name": "StyleView",
       "bar_color": null,
       "description_width": ""
      }
     },
     "124bfd2235414ac794eab3e8e8765fe4": {
      "model_module": "@jupyter-widgets/base",
      "model_module_version": "1.2.0",
      "model_name": "LayoutModel",
      "state": {
       "_model_module": "@jupyter-widgets/base",
       "_model_module_version": "1.2.0",
       "_model_name": "LayoutModel",
       "_view_count": null,
       "_view_module": "@jupyter-widgets/base",
       "_view_module_version": "1.2.0",
       "_view_name": "LayoutView",
       "align_content": null,
       "align_items": null,
       "align_self": null,
       "border": null,
       "bottom": null,
       "display": null,
       "flex": null,
       "flex_flow": null,
       "grid_area": null,
       "grid_auto_columns": null,
       "grid_auto_flow": null,
       "grid_auto_rows": null,
       "grid_column": null,
       "grid_gap": null,
       "grid_row": null,
       "grid_template_areas": null,
       "grid_template_columns": null,
       "grid_template_rows": null,
       "height": null,
       "justify_content": null,
       "justify_items": null,
       "left": null,
       "margin": null,
       "max_height": null,
       "max_width": null,
       "min_height": null,
       "min_width": null,
       "object_fit": null,
       "object_position": null,
       "order": null,
       "overflow": null,
       "overflow_x": null,
       "overflow_y": null,
       "padding": null,
       "right": null,
       "top": null,
       "visibility": null,
       "width": null
      }
     },
     "175edd4a12b84e03b77a8991f6cc52e7": {
      "model_module": "@jupyter-widgets/controls",
      "model_module_version": "1.5.0",
      "model_name": "DescriptionStyleModel",
      "state": {
       "_model_module": "@jupyter-widgets/controls",
       "_model_module_version": "1.5.0",
       "_model_name": "DescriptionStyleModel",
       "_view_count": null,
       "_view_module": "@jupyter-widgets/base",
       "_view_module_version": "1.2.0",
       "_view_name": "StyleView",
       "description_width": ""
      }
     },
     "1f12b961413a4036a8483c61eaec595e": {
      "model_module": "@jupyter-widgets/base",
      "model_module_version": "1.2.0",
      "model_name": "LayoutModel",
      "state": {
       "_model_module": "@jupyter-widgets/base",
       "_model_module_version": "1.2.0",
       "_model_name": "LayoutModel",
       "_view_count": null,
       "_view_module": "@jupyter-widgets/base",
       "_view_module_version": "1.2.0",
       "_view_name": "LayoutView",
       "align_content": null,
       "align_items": null,
       "align_self": null,
       "border": null,
       "bottom": null,
       "display": null,
       "flex": null,
       "flex_flow": null,
       "grid_area": null,
       "grid_auto_columns": null,
       "grid_auto_flow": null,
       "grid_auto_rows": null,
       "grid_column": null,
       "grid_gap": null,
       "grid_row": null,
       "grid_template_areas": null,
       "grid_template_columns": null,
       "grid_template_rows": null,
       "height": null,
       "justify_content": null,
       "justify_items": null,
       "left": null,
       "margin": null,
       "max_height": null,
       "max_width": null,
       "min_height": null,
       "min_width": null,
       "object_fit": null,
       "object_position": null,
       "order": null,
       "overflow": null,
       "overflow_x": null,
       "overflow_y": null,
       "padding": null,
       "right": null,
       "top": null,
       "visibility": null,
       "width": null
      }
     },
     "261be4dc0c474da2b6f6a82b771f6770": {
      "model_module": "@jupyter-widgets/controls",
      "model_module_version": "1.5.0",
      "model_name": "HTMLModel",
      "state": {
       "_dom_classes": [],
       "_model_module": "@jupyter-widgets/controls",
       "_model_module_version": "1.5.0",
       "_model_name": "HTMLModel",
       "_view_count": null,
       "_view_module": "@jupyter-widgets/controls",
       "_view_module_version": "1.5.0",
       "_view_name": "HTMLView",
       "description": "",
       "description_tooltip": null,
       "layout": "IPY_MODEL_c2f12f82136a426f9322dc361e9b4a49",
       "placeholder": "​",
       "style": "IPY_MODEL_2de4af4cd54247b99210a0c0544bf441",
       "value": " 255M/255M [00:16&lt;00:00, 17.5MB/s]"
      }
     },
     "28056598b08e4518bd67bd4ddbc31bb7": {
      "model_module": "@jupyter-widgets/controls",
      "model_module_version": "1.5.0",
      "model_name": "HTMLModel",
      "state": {
       "_dom_classes": [],
       "_model_module": "@jupyter-widgets/controls",
       "_model_module_version": "1.5.0",
       "_model_name": "HTMLModel",
       "_view_count": null,
       "_view_module": "@jupyter-widgets/controls",
       "_view_module_version": "1.5.0",
       "_view_name": "HTMLView",
       "description": "",
       "description_tooltip": null,
       "layout": "IPY_MODEL_57bd6f447d974a3cb6ac330ff94f9655",
       "placeholder": "​",
       "style": "IPY_MODEL_71b90cceddce4fbebeb18b0d6d3c5504",
       "value": "Downloading: 100%"
      }
     },
     "2d38a48861ec44d1b2fc90bfeded6908": {
      "model_module": "@jupyter-widgets/controls",
      "model_module_version": "1.5.0",
      "model_name": "ProgressStyleModel",
      "state": {
       "_model_module": "@jupyter-widgets/controls",
       "_model_module_version": "1.5.0",
       "_model_name": "ProgressStyleModel",
       "_view_count": null,
       "_view_module": "@jupyter-widgets/base",
       "_view_module_version": "1.2.0",
       "_view_name": "StyleView",
       "bar_color": null,
       "description_width": ""
      }
     },
     "2d90fadc030043fe95f8a08aa854ff08": {
      "model_module": "@jupyter-widgets/controls",
      "model_module_version": "1.5.0",
      "model_name": "HBoxModel",
      "state": {
       "_dom_classes": [],
       "_model_module": "@jupyter-widgets/controls",
       "_model_module_version": "1.5.0",
       "_model_name": "HBoxModel",
       "_view_count": null,
       "_view_module": "@jupyter-widgets/controls",
       "_view_module_version": "1.5.0",
       "_view_name": "HBoxView",
       "box_style": "",
       "children": [
        "IPY_MODEL_28056598b08e4518bd67bd4ddbc31bb7",
        "IPY_MODEL_4148ab80540748078f6ee704a77fde49",
        "IPY_MODEL_d31851bc7525442893c6e0170c2ad7ac"
       ],
       "layout": "IPY_MODEL_af448bf52eec494ea057d03569efcc34"
      }
     },
     "2de4af4cd54247b99210a0c0544bf441": {
      "model_module": "@jupyter-widgets/controls",
      "model_module_version": "1.5.0",
      "model_name": "DescriptionStyleModel",
      "state": {
       "_model_module": "@jupyter-widgets/controls",
       "_model_module_version": "1.5.0",
       "_model_name": "DescriptionStyleModel",
       "_view_count": null,
       "_view_module": "@jupyter-widgets/base",
       "_view_module_version": "1.2.0",
       "_view_name": "StyleView",
       "description_width": ""
      }
     },
     "2f5a024c0f814e23bbcd963ec262b016": {
      "model_module": "@jupyter-widgets/controls",
      "model_module_version": "1.5.0",
      "model_name": "DescriptionStyleModel",
      "state": {
       "_model_module": "@jupyter-widgets/controls",
       "_model_module_version": "1.5.0",
       "_model_name": "DescriptionStyleModel",
       "_view_count": null,
       "_view_module": "@jupyter-widgets/base",
       "_view_module_version": "1.2.0",
       "_view_name": "StyleView",
       "description_width": ""
      }
     },
     "2fdd480e57264d6c9da7c0894e04d27a": {
      "model_module": "@jupyter-widgets/controls",
      "model_module_version": "1.5.0",
      "model_name": "DescriptionStyleModel",
      "state": {
       "_model_module": "@jupyter-widgets/controls",
       "_model_module_version": "1.5.0",
       "_model_name": "DescriptionStyleModel",
       "_view_count": null,
       "_view_module": "@jupyter-widgets/base",
       "_view_module_version": "1.2.0",
       "_view_name": "StyleView",
       "description_width": ""
      }
     },
     "306cb557e557404c9075c27e5b33f51c": {
      "model_module": "@jupyter-widgets/base",
      "model_module_version": "1.2.0",
      "model_name": "LayoutModel",
      "state": {
       "_model_module": "@jupyter-widgets/base",
       "_model_module_version": "1.2.0",
       "_model_name": "LayoutModel",
       "_view_count": null,
       "_view_module": "@jupyter-widgets/base",
       "_view_module_version": "1.2.0",
       "_view_name": "LayoutView",
       "align_content": null,
       "align_items": null,
       "align_self": null,
       "border": null,
       "bottom": null,
       "display": null,
       "flex": null,
       "flex_flow": null,
       "grid_area": null,
       "grid_auto_columns": null,
       "grid_auto_flow": null,
       "grid_auto_rows": null,
       "grid_column": null,
       "grid_gap": null,
       "grid_row": null,
       "grid_template_areas": null,
       "grid_template_columns": null,
       "grid_template_rows": null,
       "height": null,
       "justify_content": null,
       "justify_items": null,
       "left": null,
       "margin": null,
       "max_height": null,
       "max_width": null,
       "min_height": null,
       "min_width": null,
       "object_fit": null,
       "object_position": null,
       "order": null,
       "overflow": null,
       "overflow_x": null,
       "overflow_y": null,
       "padding": null,
       "right": null,
       "top": null,
       "visibility": null,
       "width": null
      }
     },
     "33ee2bd6f79a4380bf69c475135c434f": {
      "model_module": "@jupyter-widgets/controls",
      "model_module_version": "1.5.0",
      "model_name": "HTMLModel",
      "state": {
       "_dom_classes": [],
       "_model_module": "@jupyter-widgets/controls",
       "_model_module_version": "1.5.0",
       "_model_name": "HTMLModel",
       "_view_count": null,
       "_view_module": "@jupyter-widgets/controls",
       "_view_module_version": "1.5.0",
       "_view_name": "HTMLView",
       "description": "",
       "description_tooltip": null,
       "layout": "IPY_MODEL_b0d09f622f654fe49c2392be94192e22",
       "placeholder": "​",
       "style": "IPY_MODEL_2fdd480e57264d6c9da7c0894e04d27a",
       "value": " 48.0/48.0 [00:00&lt;00:00, 1.66kB/s]"
      }
     },
     "351f7e917e1444ada63d15a4280fea85": {
      "model_module": "@jupyter-widgets/base",
      "model_module_version": "1.2.0",
      "model_name": "LayoutModel",
      "state": {
       "_model_module": "@jupyter-widgets/base",
       "_model_module_version": "1.2.0",
       "_model_name": "LayoutModel",
       "_view_count": null,
       "_view_module": "@jupyter-widgets/base",
       "_view_module_version": "1.2.0",
       "_view_name": "LayoutView",
       "align_content": null,
       "align_items": null,
       "align_self": null,
       "border": null,
       "bottom": null,
       "display": null,
       "flex": null,
       "flex_flow": null,
       "grid_area": null,
       "grid_auto_columns": null,
       "grid_auto_flow": null,
       "grid_auto_rows": null,
       "grid_column": null,
       "grid_gap": null,
       "grid_row": null,
       "grid_template_areas": null,
       "grid_template_columns": null,
       "grid_template_rows": null,
       "height": null,
       "justify_content": null,
       "justify_items": null,
       "left": null,
       "margin": null,
       "max_height": null,
       "max_width": null,
       "min_height": null,
       "min_width": null,
       "object_fit": null,
       "object_position": null,
       "order": null,
       "overflow": null,
       "overflow_x": null,
       "overflow_y": null,
       "padding": null,
       "right": null,
       "top": null,
       "visibility": null,
       "width": null
      }
     },
     "352d359c8a4f4fe488eab6ca33b14922": {
      "model_module": "@jupyter-widgets/base",
      "model_module_version": "1.2.0",
      "model_name": "LayoutModel",
      "state": {
       "_model_module": "@jupyter-widgets/base",
       "_model_module_version": "1.2.0",
       "_model_name": "LayoutModel",
       "_view_count": null,
       "_view_module": "@jupyter-widgets/base",
       "_view_module_version": "1.2.0",
       "_view_name": "LayoutView",
       "align_content": null,
       "align_items": null,
       "align_self": null,
       "border": null,
       "bottom": null,
       "display": null,
       "flex": null,
       "flex_flow": null,
       "grid_area": null,
       "grid_auto_columns": null,
       "grid_auto_flow": null,
       "grid_auto_rows": null,
       "grid_column": null,
       "grid_gap": null,
       "grid_row": null,
       "grid_template_areas": null,
       "grid_template_columns": null,
       "grid_template_rows": null,
       "height": null,
       "justify_content": null,
       "justify_items": null,
       "left": null,
       "margin": null,
       "max_height": null,
       "max_width": null,
       "min_height": null,
       "min_width": null,
       "object_fit": null,
       "object_position": null,
       "order": null,
       "overflow": null,
       "overflow_x": null,
       "overflow_y": null,
       "padding": null,
       "right": null,
       "top": null,
       "visibility": null,
       "width": null
      }
     },
     "3771e07a7c2c441da20c4bc42944c35b": {
      "model_module": "@jupyter-widgets/controls",
      "model_module_version": "1.5.0",
      "model_name": "HTMLModel",
      "state": {
       "_dom_classes": [],
       "_model_module": "@jupyter-widgets/controls",
       "_model_module_version": "1.5.0",
       "_model_name": "HTMLModel",
       "_view_count": null,
       "_view_module": "@jupyter-widgets/controls",
       "_view_module_version": "1.5.0",
       "_view_name": "HTMLView",
       "description": "",
       "description_tooltip": null,
       "layout": "IPY_MODEL_124bfd2235414ac794eab3e8e8765fe4",
       "placeholder": "​",
       "style": "IPY_MODEL_3ca3f2b99b7a47cc8e066d894c06c78f",
       "value": " 256M/256M [00:16&lt;00:00, 17.7MB/s]"
      }
     },
     "38b5e96f71b343c187ef00a443952b76": {
      "model_module": "@jupyter-widgets/controls",
      "model_module_version": "1.5.0",
      "model_name": "ProgressStyleModel",
      "state": {
       "_model_module": "@jupyter-widgets/controls",
       "_model_module_version": "1.5.0",
       "_model_name": "ProgressStyleModel",
       "_view_count": null,
       "_view_module": "@jupyter-widgets/base",
       "_view_module_version": "1.2.0",
       "_view_name": "StyleView",
       "bar_color": null,
       "description_width": ""
      }
     },
     "3be617597af24e0daca068ba22ecb92c": {
      "model_module": "@jupyter-widgets/base",
      "model_module_version": "1.2.0",
      "model_name": "LayoutModel",
      "state": {
       "_model_module": "@jupyter-widgets/base",
       "_model_module_version": "1.2.0",
       "_model_name": "LayoutModel",
       "_view_count": null,
       "_view_module": "@jupyter-widgets/base",
       "_view_module_version": "1.2.0",
       "_view_name": "LayoutView",
       "align_content": null,
       "align_items": null,
       "align_self": null,
       "border": null,
       "bottom": null,
       "display": null,
       "flex": null,
       "flex_flow": null,
       "grid_area": null,
       "grid_auto_columns": null,
       "grid_auto_flow": null,
       "grid_auto_rows": null,
       "grid_column": null,
       "grid_gap": null,
       "grid_row": null,
       "grid_template_areas": null,
       "grid_template_columns": null,
       "grid_template_rows": null,
       "height": null,
       "justify_content": null,
       "justify_items": null,
       "left": null,
       "margin": null,
       "max_height": null,
       "max_width": null,
       "min_height": null,
       "min_width": null,
       "object_fit": null,
       "object_position": null,
       "order": null,
       "overflow": null,
       "overflow_x": null,
       "overflow_y": null,
       "padding": null,
       "right": null,
       "top": null,
       "visibility": null,
       "width": null
      }
     },
     "3ca3f2b99b7a47cc8e066d894c06c78f": {
      "model_module": "@jupyter-widgets/controls",
      "model_module_version": "1.5.0",
      "model_name": "DescriptionStyleModel",
      "state": {
       "_model_module": "@jupyter-widgets/controls",
       "_model_module_version": "1.5.0",
       "_model_name": "DescriptionStyleModel",
       "_view_count": null,
       "_view_module": "@jupyter-widgets/base",
       "_view_module_version": "1.2.0",
       "_view_name": "StyleView",
       "description_width": ""
      }
     },
     "3e1f966bf2694e73a60a681c1f2e6dc0": {
      "model_module": "@jupyter-widgets/controls",
      "model_module_version": "1.5.0",
      "model_name": "HTMLModel",
      "state": {
       "_dom_classes": [],
       "_model_module": "@jupyter-widgets/controls",
       "_model_module_version": "1.5.0",
       "_model_name": "HTMLModel",
       "_view_count": null,
       "_view_module": "@jupyter-widgets/controls",
       "_view_module_version": "1.5.0",
       "_view_name": "HTMLView",
       "description": "",
       "description_tooltip": null,
       "layout": "IPY_MODEL_78edcc5d95f543eea6c17700b500f6b5",
       "placeholder": "​",
       "style": "IPY_MODEL_6d8316ac93974ba08db9cbde1fafbfa9",
       "value": "Downloading: 100%"
      }
     },
     "405d6ea1d930420c8c8a0448291d1386": {
      "model_module": "@jupyter-widgets/controls",
      "model_module_version": "1.5.0",
      "model_name": "HTMLModel",
      "state": {
       "_dom_classes": [],
       "_model_module": "@jupyter-widgets/controls",
       "_model_module_version": "1.5.0",
       "_model_name": "HTMLModel",
       "_view_count": null,
       "_view_module": "@jupyter-widgets/controls",
       "_view_module_version": "1.5.0",
       "_view_name": "HTMLView",
       "description": "",
       "description_tooltip": null,
       "layout": "IPY_MODEL_b41ad468401f43feb3165b3fb6526e8f",
       "placeholder": "​",
       "style": "IPY_MODEL_cc5dac67a7b940c4804ce4a0a21504e7",
       "value": " 1.71k/1.71k [00:00&lt;00:00, 62.7kB/s]"
      }
     },
     "4148ab80540748078f6ee704a77fde49": {
      "model_module": "@jupyter-widgets/controls",
      "model_module_version": "1.5.0",
      "model_name": "FloatProgressModel",
      "state": {
       "_dom_classes": [],
       "_model_module": "@jupyter-widgets/controls",
       "_model_module_version": "1.5.0",
       "_model_name": "FloatProgressModel",
       "_view_count": null,
       "_view_module": "@jupyter-widgets/controls",
       "_view_module_version": "1.5.0",
       "_view_name": "ProgressView",
       "bar_style": "success",
       "description": "",
       "description_tooltip": null,
       "layout": "IPY_MODEL_1f12b961413a4036a8483c61eaec595e",
       "max": 231508.0,
       "min": 0.0,
       "orientation": "horizontal",
       "style": "IPY_MODEL_573bbb0e7bf94f709a8d49849ddee5b3",
       "value": 231508.0
      }
     },
     "4440fbcfe88a44c4aeeffd64a3fb20e0": {
      "model_module": "@jupyter-widgets/controls",
      "model_module_version": "1.5.0",
      "model_name": "HTMLModel",
      "state": {
       "_dom_classes": [],
       "_model_module": "@jupyter-widgets/controls",
       "_model_module_version": "1.5.0",
       "_model_name": "HTMLModel",
       "_view_count": null,
       "_view_module": "@jupyter-widgets/controls",
       "_view_module_version": "1.5.0",
       "_view_name": "HTMLView",
       "description": "",
       "description_tooltip": null,
       "layout": "IPY_MODEL_c94e4cbc2f404479b2c7c4a9d19fa43a",
       "placeholder": "​",
       "style": "IPY_MODEL_8df0c50b68a04732b242e4445dda5691",
       "value": " 112/112 [00:00&lt;00:00, 4.42kB/s]"
      }
     },
     "4a3fbeb17b664b2c9c85d7648ba24a53": {
      "model_module": "@jupyter-widgets/controls",
      "model_module_version": "1.5.0",
      "model_name": "FloatProgressModel",
      "state": {
       "_dom_classes": [],
       "_model_module": "@jupyter-widgets/controls",
       "_model_module_version": "1.5.0",
       "_model_name": "FloatProgressModel",
       "_view_count": null,
       "_view_module": "@jupyter-widgets/controls",
       "_view_module_version": "1.5.0",
       "_view_name": "ProgressView",
       "bar_style": "success",
       "description": "",
       "description_tooltip": null,
       "layout": "IPY_MODEL_53016a64a15140488532feceab8f8f6a",
       "max": 629.0,
       "min": 0.0,
       "orientation": "horizontal",
       "style": "IPY_MODEL_a23b3f78018a440ab436d74c741aecfe",
       "value": 629.0
      }
     },
     "4ceeeb87066642f09e1626500a8e7a33": {
      "model_module": "@jupyter-widgets/base",
      "model_module_version": "1.2.0",
      "model_name": "LayoutModel",
      "state": {
       "_model_module": "@jupyter-widgets/base",
       "_model_module_version": "1.2.0",
       "_model_name": "LayoutModel",
       "_view_count": null,
       "_view_module": "@jupyter-widgets/base",
       "_view_module_version": "1.2.0",
       "_view_name": "LayoutView",
       "align_content": null,
       "align_items": null,
       "align_self": null,
       "border": null,
       "bottom": null,
       "display": null,
       "flex": null,
       "flex_flow": null,
       "grid_area": null,
       "grid_auto_columns": null,
       "grid_auto_flow": null,
       "grid_auto_rows": null,
       "grid_column": null,
       "grid_gap": null,
       "grid_row": null,
       "grid_template_areas": null,
       "grid_template_columns": null,
       "grid_template_rows": null,
       "height": null,
       "justify_content": null,
       "justify_items": null,
       "left": null,
       "margin": null,
       "max_height": null,
       "max_width": null,
       "min_height": null,
       "min_width": null,
       "object_fit": null,
       "object_position": null,
       "order": null,
       "overflow": null,
       "overflow_x": null,
       "overflow_y": null,
       "padding": null,
       "right": null,
       "top": null,
       "visibility": null,
       "width": null
      }
     },
     "4cfe8bb8a2634e99b62b6403eb5fd1b9": {
      "model_module": "@jupyter-widgets/controls",
      "model_module_version": "1.5.0",
      "model_name": "FloatProgressModel",
      "state": {
       "_dom_classes": [],
       "_model_module": "@jupyter-widgets/controls",
       "_model_module_version": "1.5.0",
       "_model_name": "FloatProgressModel",
       "_view_count": null,
       "_view_module": "@jupyter-widgets/controls",
       "_view_module_version": "1.5.0",
       "_view_name": "ProgressView",
       "bar_style": "success",
       "description": "",
       "description_tooltip": null,
       "layout": "IPY_MODEL_351f7e917e1444ada63d15a4280fea85",
       "max": 231508.0,
       "min": 0.0,
       "orientation": "horizontal",
       "style": "IPY_MODEL_fec4d0684ab24cc687d11ee8b2d3e968",
       "value": 231508.0
      }
     },
     "4de004567c54455294a8ea96a4963d7b": {
      "model_module": "@jupyter-widgets/controls",
      "model_module_version": "1.5.0",
      "model_name": "HBoxModel",
      "state": {
       "_dom_classes": [],
       "_model_module": "@jupyter-widgets/controls",
       "_model_module_version": "1.5.0",
       "_model_name": "HBoxModel",
       "_view_count": null,
       "_view_module": "@jupyter-widgets/controls",
       "_view_module_version": "1.5.0",
       "_view_name": "HBoxView",
       "box_style": "",
       "children": [
        "IPY_MODEL_a677fab58dc14e39bc834b8cef0ee8bc",
        "IPY_MODEL_650f94bffbf044be8d4b14fe32398aad",
        "IPY_MODEL_33ee2bd6f79a4380bf69c475135c434f"
       ],
       "layout": "IPY_MODEL_084fc5e8acf5467e8fb8d02d6b008540"
      }
     },
     "4ea9deec291f4d6cb9be24a2b1f39d38": {
      "model_module": "@jupyter-widgets/controls",
      "model_module_version": "1.5.0",
      "model_name": "ProgressStyleModel",
      "state": {
       "_model_module": "@jupyter-widgets/controls",
       "_model_module_version": "1.5.0",
       "_model_name": "ProgressStyleModel",
       "_view_count": null,
       "_view_module": "@jupyter-widgets/base",
       "_view_module_version": "1.2.0",
       "_view_name": "StyleView",
       "bar_color": null,
       "description_width": ""
      }
     },
     "502be0776cca42dc88dd23a46a034e0d": {
      "model_module": "@jupyter-widgets/base",
      "model_module_version": "1.2.0",
      "model_name": "LayoutModel",
      "state": {
       "_model_module": "@jupyter-widgets/base",
       "_model_module_version": "1.2.0",
       "_model_name": "LayoutModel",
       "_view_count": null,
       "_view_module": "@jupyter-widgets/base",
       "_view_module_version": "1.2.0",
       "_view_name": "LayoutView",
       "align_content": null,
       "align_items": null,
       "align_self": null,
       "border": null,
       "bottom": null,
       "display": null,
       "flex": null,
       "flex_flow": null,
       "grid_area": null,
       "grid_auto_columns": null,
       "grid_auto_flow": null,
       "grid_auto_rows": null,
       "grid_column": null,
       "grid_gap": null,
       "grid_row": null,
       "grid_template_areas": null,
       "grid_template_columns": null,
       "grid_template_rows": null,
       "height": null,
       "justify_content": null,
       "justify_items": null,
       "left": null,
       "margin": null,
       "max_height": null,
       "max_width": null,
       "min_height": null,
       "min_width": null,
       "object_fit": null,
       "object_position": null,
       "order": null,
       "overflow": null,
       "overflow_x": null,
       "overflow_y": null,
       "padding": null,
       "right": null,
       "top": null,
       "visibility": null,
       "width": null
      }
     },
     "52218984b22a47f6b75b12da1948bbce": {
      "model_module": "@jupyter-widgets/base",
      "model_module_version": "1.2.0",
      "model_name": "LayoutModel",
      "state": {
       "_model_module": "@jupyter-widgets/base",
       "_model_module_version": "1.2.0",
       "_model_name": "LayoutModel",
       "_view_count": null,
       "_view_module": "@jupyter-widgets/base",
       "_view_module_version": "1.2.0",
       "_view_name": "LayoutView",
       "align_content": null,
       "align_items": null,
       "align_self": null,
       "border": null,
       "bottom": null,
       "display": null,
       "flex": null,
       "flex_flow": null,
       "grid_area": null,
       "grid_auto_columns": null,
       "grid_auto_flow": null,
       "grid_auto_rows": null,
       "grid_column": null,
       "grid_gap": null,
       "grid_row": null,
       "grid_template_areas": null,
       "grid_template_columns": null,
       "grid_template_rows": null,
       "height": null,
       "justify_content": null,
       "justify_items": null,
       "left": null,
       "margin": null,
       "max_height": null,
       "max_width": null,
       "min_height": null,
       "min_width": null,
       "object_fit": null,
       "object_position": null,
       "order": null,
       "overflow": null,
       "overflow_x": null,
       "overflow_y": null,
       "padding": null,
       "right": null,
       "top": null,
       "visibility": null,
       "width": null
      }
     },
     "53016a64a15140488532feceab8f8f6a": {
      "model_module": "@jupyter-widgets/base",
      "model_module_version": "1.2.0",
      "model_name": "LayoutModel",
      "state": {
       "_model_module": "@jupyter-widgets/base",
       "_model_module_version": "1.2.0",
       "_model_name": "LayoutModel",
       "_view_count": null,
       "_view_module": "@jupyter-widgets/base",
       "_view_module_version": "1.2.0",
       "_view_name": "LayoutView",
       "align_content": null,
       "align_items": null,
       "align_self": null,
       "border": null,
       "bottom": null,
       "display": null,
       "flex": null,
       "flex_flow": null,
       "grid_area": null,
       "grid_auto_columns": null,
       "grid_auto_flow": null,
       "grid_auto_rows": null,
       "grid_column": null,
       "grid_gap": null,
       "grid_row": null,
       "grid_template_areas": null,
       "grid_template_columns": null,
       "grid_template_rows": null,
       "height": null,
       "justify_content": null,
       "justify_items": null,
       "left": null,
       "margin": null,
       "max_height": null,
       "max_width": null,
       "min_height": null,
       "min_width": null,
       "object_fit": null,
       "object_position": null,
       "order": null,
       "overflow": null,
       "overflow_x": null,
       "overflow_y": null,
       "padding": null,
       "right": null,
       "top": null,
       "visibility": null,
       "width": null
      }
     },
     "54092e51485e45878d11da99190057ed": {
      "model_module": "@jupyter-widgets/controls",
      "model_module_version": "1.5.0",
      "model_name": "HTMLModel",
      "state": {
       "_dom_classes": [],
       "_model_module": "@jupyter-widgets/controls",
       "_model_module_version": "1.5.0",
       "_model_name": "HTMLModel",
       "_view_count": null,
       "_view_module": "@jupyter-widgets/controls",
       "_view_module_version": "1.5.0",
       "_view_name": "HTMLView",
       "description": "",
       "description_tooltip": null,
       "layout": "IPY_MODEL_a409bdbfd6bc4a87b32dfcc620ed6fdf",
       "placeholder": "​",
       "style": "IPY_MODEL_a815641e50fb473c90e2811af51ee301",
       "value": "Downloading: 100%"
      }
     },
     "551aad488fe747449b7a6249b571d138": {
      "model_module": "@jupyter-widgets/base",
      "model_module_version": "1.2.0",
      "model_name": "LayoutModel",
      "state": {
       "_model_module": "@jupyter-widgets/base",
       "_model_module_version": "1.2.0",
       "_model_name": "LayoutModel",
       "_view_count": null,
       "_view_module": "@jupyter-widgets/base",
       "_view_module_version": "1.2.0",
       "_view_name": "LayoutView",
       "align_content": null,
       "align_items": null,
       "align_self": null,
       "border": null,
       "bottom": null,
       "display": null,
       "flex": null,
       "flex_flow": null,
       "grid_area": null,
       "grid_auto_columns": null,
       "grid_auto_flow": null,
       "grid_auto_rows": null,
       "grid_column": null,
       "grid_gap": null,
       "grid_row": null,
       "grid_template_areas": null,
       "grid_template_columns": null,
       "grid_template_rows": null,
       "height": null,
       "justify_content": null,
       "justify_items": null,
       "left": null,
       "margin": null,
       "max_height": null,
       "max_width": null,
       "min_height": null,
       "min_width": null,
       "object_fit": null,
       "object_position": null,
       "order": null,
       "overflow": null,
       "overflow_x": null,
       "overflow_y": null,
       "padding": null,
       "right": null,
       "top": null,
       "visibility": null,
       "width": null
      }
     },
     "563fa2ed929d40a69f6b3d536dd25db4": {
      "model_module": "@jupyter-widgets/controls",
      "model_module_version": "1.5.0",
      "model_name": "HTMLModel",
      "state": {
       "_dom_classes": [],
       "_model_module": "@jupyter-widgets/controls",
       "_model_module_version": "1.5.0",
       "_model_name": "HTMLModel",
       "_view_count": null,
       "_view_module": "@jupyter-widgets/controls",
       "_view_module_version": "1.5.0",
       "_view_name": "HTMLView",
       "description": "",
       "description_tooltip": null,
       "layout": "IPY_MODEL_08e35376d644471ab8128be284c54fa2",
       "placeholder": "​",
       "style": "IPY_MODEL_5d5eaeb9dacc48f4b385efcf2525ac70",
       "value": "Downloading: 100%"
      }
     },
     "56df136650fc449184472fe8059fb2b0": {
      "model_module": "@jupyter-widgets/controls",
      "model_module_version": "1.5.0",
      "model_name": "DescriptionStyleModel",
      "state": {
       "_model_module": "@jupyter-widgets/controls",
       "_model_module_version": "1.5.0",
       "_model_name": "DescriptionStyleModel",
       "_view_count": null,
       "_view_module": "@jupyter-widgets/base",
       "_view_module_version": "1.2.0",
       "_view_name": "StyleView",
       "description_width": ""
      }
     },
     "573bbb0e7bf94f709a8d49849ddee5b3": {
      "model_module": "@jupyter-widgets/controls",
      "model_module_version": "1.5.0",
      "model_name": "ProgressStyleModel",
      "state": {
       "_model_module": "@jupyter-widgets/controls",
       "_model_module_version": "1.5.0",
       "_model_name": "ProgressStyleModel",
       "_view_count": null,
       "_view_module": "@jupyter-widgets/base",
       "_view_module_version": "1.2.0",
       "_view_name": "StyleView",
       "bar_color": null,
       "description_width": ""
      }
     },
     "57580757127f4023a74da73eb8121a26": {
      "model_module": "@jupyter-widgets/controls",
      "model_module_version": "1.5.0",
      "model_name": "HTMLModel",
      "state": {
       "_dom_classes": [],
       "_model_module": "@jupyter-widgets/controls",
       "_model_module_version": "1.5.0",
       "_model_name": "HTMLModel",
       "_view_count": null,
       "_view_module": "@jupyter-widgets/controls",
       "_view_module_version": "1.5.0",
       "_view_name": "HTMLView",
       "description": "",
       "description_tooltip": null,
       "layout": "IPY_MODEL_6e454dc839584542a873725fa9079fb0",
       "placeholder": "​",
       "style": "IPY_MODEL_a7f0e17f1afb4aeb90f34c6aa465cf51",
       "value": " 629/629 [00:00&lt;00:00, 22.6kB/s]"
      }
     },
     "57bd6f447d974a3cb6ac330ff94f9655": {
      "model_module": "@jupyter-widgets/base",
      "model_module_version": "1.2.0",
      "model_name": "LayoutModel",
      "state": {
       "_model_module": "@jupyter-widgets/base",
       "_model_module_version": "1.2.0",
       "_model_name": "LayoutModel",
       "_view_count": null,
       "_view_module": "@jupyter-widgets/base",
       "_view_module_version": "1.2.0",
       "_view_name": "LayoutView",
       "align_content": null,
       "align_items": null,
       "align_self": null,
       "border": null,
       "bottom": null,
       "display": null,
       "flex": null,
       "flex_flow": null,
       "grid_area": null,
       "grid_auto_columns": null,
       "grid_auto_flow": null,
       "grid_auto_rows": null,
       "grid_column": null,
       "grid_gap": null,
       "grid_row": null,
       "grid_template_areas": null,
       "grid_template_columns": null,
       "grid_template_rows": null,
       "height": null,
       "justify_content": null,
       "justify_items": null,
       "left": null,
       "margin": null,
       "max_height": null,
       "max_width": null,
       "min_height": null,
       "min_width": null,
       "object_fit": null,
       "object_position": null,
       "order": null,
       "overflow": null,
       "overflow_x": null,
       "overflow_y": null,
       "padding": null,
       "right": null,
       "top": null,
       "visibility": null,
       "width": null
      }
     },
     "5854929fa86043f0acc165127b89d66b": {
      "model_module": "@jupyter-widgets/base",
      "model_module_version": "1.2.0",
      "model_name": "LayoutModel",
      "state": {
       "_model_module": "@jupyter-widgets/base",
       "_model_module_version": "1.2.0",
       "_model_name": "LayoutModel",
       "_view_count": null,
       "_view_module": "@jupyter-widgets/base",
       "_view_module_version": "1.2.0",
       "_view_name": "LayoutView",
       "align_content": null,
       "align_items": null,
       "align_self": null,
       "border": null,
       "bottom": null,
       "display": null,
       "flex": null,
       "flex_flow": null,
       "grid_area": null,
       "grid_auto_columns": null,
       "grid_auto_flow": null,
       "grid_auto_rows": null,
       "grid_column": null,
       "grid_gap": null,
       "grid_row": null,
       "grid_template_areas": null,
       "grid_template_columns": null,
       "grid_template_rows": null,
       "height": null,
       "justify_content": null,
       "justify_items": null,
       "left": null,
       "margin": null,
       "max_height": null,
       "max_width": null,
       "min_height": null,
       "min_width": null,
       "object_fit": null,
       "object_position": null,
       "order": null,
       "overflow": null,
       "overflow_x": null,
       "overflow_y": null,
       "padding": null,
       "right": null,
       "top": null,
       "visibility": null,
       "width": null
      }
     },
     "5beb6bef81124c28b240c8df580e3fe1": {
      "model_module": "@jupyter-widgets/controls",
      "model_module_version": "1.5.0",
      "model_name": "DescriptionStyleModel",
      "state": {
       "_model_module": "@jupyter-widgets/controls",
       "_model_module_version": "1.5.0",
       "_model_name": "DescriptionStyleModel",
       "_view_count": null,
       "_view_module": "@jupyter-widgets/base",
       "_view_module_version": "1.2.0",
       "_view_name": "StyleView",
       "description_width": ""
      }
     },
     "5d153001709941689c630db49032dd7f": {
      "model_module": "@jupyter-widgets/controls",
      "model_module_version": "1.5.0",
      "model_name": "FloatProgressModel",
      "state": {
       "_dom_classes": [],
       "_model_module": "@jupyter-widgets/controls",
       "_model_module_version": "1.5.0",
       "_model_name": "FloatProgressModel",
       "_view_count": null,
       "_view_module": "@jupyter-widgets/controls",
       "_view_module_version": "1.5.0",
       "_view_name": "ProgressView",
       "bar_style": "success",
       "description": "",
       "description_tooltip": null,
       "layout": "IPY_MODEL_502be0776cca42dc88dd23a46a034e0d",
       "max": 268032384.0,
       "min": 0.0,
       "orientation": "horizontal",
       "style": "IPY_MODEL_4ea9deec291f4d6cb9be24a2b1f39d38",
       "value": 268032384.0
      }
     },
     "5d5eaeb9dacc48f4b385efcf2525ac70": {
      "model_module": "@jupyter-widgets/controls",
      "model_module_version": "1.5.0",
      "model_name": "DescriptionStyleModel",
      "state": {
       "_model_module": "@jupyter-widgets/controls",
       "_model_module_version": "1.5.0",
       "_model_name": "DescriptionStyleModel",
       "_view_count": null,
       "_view_module": "@jupyter-widgets/base",
       "_view_module_version": "1.2.0",
       "_view_name": "StyleView",
       "description_width": ""
      }
     },
     "5e830499b43a4b89bde595de0c991ba6": {
      "model_module": "@jupyter-widgets/controls",
      "model_module_version": "1.5.0",
      "model_name": "FloatProgressModel",
      "state": {
       "_dom_classes": [],
       "_model_module": "@jupyter-widgets/controls",
       "_model_module_version": "1.5.0",
       "_model_name": "FloatProgressModel",
       "_view_count": null,
       "_view_module": "@jupyter-widgets/controls",
       "_view_module_version": "1.5.0",
       "_view_name": "ProgressView",
       "bar_style": "success",
       "description": "",
       "description_tooltip": null,
       "layout": "IPY_MODEL_fd121886056a4df89d5b1240e5274524",
       "max": 421.0,
       "min": 0.0,
       "orientation": "horizontal",
       "style": "IPY_MODEL_2d38a48861ec44d1b2fc90bfeded6908",
       "value": 421.0
      }
     },
     "6226fc1649624480868814273388cca3": {
      "model_module": "@jupyter-widgets/controls",
      "model_module_version": "1.5.0",
      "model_name": "ProgressStyleModel",
      "state": {
       "_model_module": "@jupyter-widgets/controls",
       "_model_module_version": "1.5.0",
       "_model_name": "ProgressStyleModel",
       "_view_count": null,
       "_view_module": "@jupyter-widgets/base",
       "_view_module_version": "1.2.0",
       "_view_name": "StyleView",
       "bar_color": null,
       "description_width": ""
      }
     },
     "650f94bffbf044be8d4b14fe32398aad": {
      "model_module": "@jupyter-widgets/controls",
      "model_module_version": "1.5.0",
      "model_name": "FloatProgressModel",
      "state": {
       "_dom_classes": [],
       "_model_module": "@jupyter-widgets/controls",
       "_model_module_version": "1.5.0",
       "_model_name": "FloatProgressModel",
       "_view_count": null,
       "_view_module": "@jupyter-widgets/controls",
       "_view_module_version": "1.5.0",
       "_view_name": "ProgressView",
       "bar_style": "success",
       "description": "",
       "description_tooltip": null,
       "layout": "IPY_MODEL_352d359c8a4f4fe488eab6ca33b14922",
       "max": 48.0,
       "min": 0.0,
       "orientation": "horizontal",
       "style": "IPY_MODEL_11d20852946f43339a6e49543aacfd99",
       "value": 48.0
      }
     },
     "6d8316ac93974ba08db9cbde1fafbfa9": {
      "model_module": "@jupyter-widgets/controls",
      "model_module_version": "1.5.0",
      "model_name": "DescriptionStyleModel",
      "state": {
       "_model_module": "@jupyter-widgets/controls",
       "_model_module_version": "1.5.0",
       "_model_name": "DescriptionStyleModel",
       "_view_count": null,
       "_view_module": "@jupyter-widgets/base",
       "_view_module_version": "1.2.0",
       "_view_name": "StyleView",
       "description_width": ""
      }
     },
     "6e454dc839584542a873725fa9079fb0": {
      "model_module": "@jupyter-widgets/base",
      "model_module_version": "1.2.0",
      "model_name": "LayoutModel",
      "state": {
       "_model_module": "@jupyter-widgets/base",
       "_model_module_version": "1.2.0",
       "_model_name": "LayoutModel",
       "_view_count": null,
       "_view_module": "@jupyter-widgets/base",
       "_view_module_version": "1.2.0",
       "_view_name": "LayoutView",
       "align_content": null,
       "align_items": null,
       "align_self": null,
       "border": null,
       "bottom": null,
       "display": null,
       "flex": null,
       "flex_flow": null,
       "grid_area": null,
       "grid_auto_columns": null,
       "grid_auto_flow": null,
       "grid_auto_rows": null,
       "grid_column": null,
       "grid_gap": null,
       "grid_row": null,
       "grid_template_areas": null,
       "grid_template_columns": null,
       "grid_template_rows": null,
       "height": null,
       "justify_content": null,
       "justify_items": null,
       "left": null,
       "margin": null,
       "max_height": null,
       "max_width": null,
       "min_height": null,
       "min_width": null,
       "object_fit": null,
       "object_position": null,
       "order": null,
       "overflow": null,
       "overflow_x": null,
       "overflow_y": null,
       "padding": null,
       "right": null,
       "top": null,
       "visibility": null,
       "width": null
      }
     },
     "701327af797c49eaaf9af82ea3046506": {
      "model_module": "@jupyter-widgets/controls",
      "model_module_version": "1.5.0",
      "model_name": "HBoxModel",
      "state": {
       "_dom_classes": [],
       "_model_module": "@jupyter-widgets/controls",
       "_model_module_version": "1.5.0",
       "_model_name": "HBoxModel",
       "_view_count": null,
       "_view_module": "@jupyter-widgets/controls",
       "_view_module_version": "1.5.0",
       "_view_name": "HBoxView",
       "box_style": "",
       "children": [
        "IPY_MODEL_54092e51485e45878d11da99190057ed",
        "IPY_MODEL_4cfe8bb8a2634e99b62b6403eb5fd1b9",
        "IPY_MODEL_93d5281ae39c498ea02fe7ba8f6fb549"
       ],
       "layout": "IPY_MODEL_306cb557e557404c9075c27e5b33f51c"
      }
     },
     "71b90cceddce4fbebeb18b0d6d3c5504": {
      "model_module": "@jupyter-widgets/controls",
      "model_module_version": "1.5.0",
      "model_name": "DescriptionStyleModel",
      "state": {
       "_model_module": "@jupyter-widgets/controls",
       "_model_module_version": "1.5.0",
       "_model_name": "DescriptionStyleModel",
       "_view_count": null,
       "_view_module": "@jupyter-widgets/base",
       "_view_module_version": "1.2.0",
       "_view_name": "StyleView",
       "description_width": ""
      }
     },
     "752ecd4c46c443ac8328d1fbee4626bd": {
      "model_module": "@jupyter-widgets/controls",
      "model_module_version": "1.5.0",
      "model_name": "DescriptionStyleModel",
      "state": {
       "_model_module": "@jupyter-widgets/controls",
       "_model_module_version": "1.5.0",
       "_model_name": "DescriptionStyleModel",
       "_view_count": null,
       "_view_module": "@jupyter-widgets/base",
       "_view_module_version": "1.2.0",
       "_view_name": "StyleView",
       "description_width": ""
      }
     },
     "76ff78d832ab457db3adc8610f78f083": {
      "model_module": "@jupyter-widgets/controls",
      "model_module_version": "1.5.0",
      "model_name": "HTMLModel",
      "state": {
       "_dom_classes": [],
       "_model_module": "@jupyter-widgets/controls",
       "_model_module_version": "1.5.0",
       "_model_name": "HTMLModel",
       "_view_count": null,
       "_view_module": "@jupyter-widgets/controls",
       "_view_module_version": "1.5.0",
       "_view_name": "HTMLView",
       "description": "",
       "description_tooltip": null,
       "layout": "IPY_MODEL_7cc2ffe296194543b39c4b1fa15cc730",
       "placeholder": "​",
       "style": "IPY_MODEL_752ecd4c46c443ac8328d1fbee4626bd",
       "value": "Downloading: 100%"
      }
     },
     "78edcc5d95f543eea6c17700b500f6b5": {
      "model_module": "@jupyter-widgets/base",
      "model_module_version": "1.2.0",
      "model_name": "LayoutModel",
      "state": {
       "_model_module": "@jupyter-widgets/base",
       "_model_module_version": "1.2.0",
       "_model_name": "LayoutModel",
       "_view_count": null,
       "_view_module": "@jupyter-widgets/base",
       "_view_module_version": "1.2.0",
       "_view_name": "LayoutView",
       "align_content": null,
       "align_items": null,
       "align_self": null,
       "border": null,
       "bottom": null,
       "display": null,
       "flex": null,
       "flex_flow": null,
       "grid_area": null,
       "grid_auto_columns": null,
       "grid_auto_flow": null,
       "grid_auto_rows": null,
       "grid_column": null,
       "grid_gap": null,
       "grid_row": null,
       "grid_template_areas": null,
       "grid_template_columns": null,
       "grid_template_rows": null,
       "height": null,
       "justify_content": null,
       "justify_items": null,
       "left": null,
       "margin": null,
       "max_height": null,
       "max_width": null,
       "min_height": null,
       "min_width": null,
       "object_fit": null,
       "object_position": null,
       "order": null,
       "overflow": null,
       "overflow_x": null,
       "overflow_y": null,
       "padding": null,
       "right": null,
       "top": null,
       "visibility": null,
       "width": null
      }
     },
     "7a18955e96a4481f92b5ff3b5ce66bd9": {
      "model_module": "@jupyter-widgets/base",
      "model_module_version": "1.2.0",
      "model_name": "LayoutModel",
      "state": {
       "_model_module": "@jupyter-widgets/base",
       "_model_module_version": "1.2.0",
       "_model_name": "LayoutModel",
       "_view_count": null,
       "_view_module": "@jupyter-widgets/base",
       "_view_module_version": "1.2.0",
       "_view_name": "LayoutView",
       "align_content": null,
       "align_items": null,
       "align_self": null,
       "border": null,
       "bottom": null,
       "display": null,
       "flex": null,
       "flex_flow": null,
       "grid_area": null,
       "grid_auto_columns": null,
       "grid_auto_flow": null,
       "grid_auto_rows": null,
       "grid_column": null,
       "grid_gap": null,
       "grid_row": null,
       "grid_template_areas": null,
       "grid_template_columns": null,
       "grid_template_rows": null,
       "height": null,
       "justify_content": null,
       "justify_items": null,
       "left": null,
       "margin": null,
       "max_height": null,
       "max_width": null,
       "min_height": null,
       "min_width": null,
       "object_fit": null,
       "object_position": null,
       "order": null,
       "overflow": null,
       "overflow_x": null,
       "overflow_y": null,
       "padding": null,
       "right": null,
       "top": null,
       "visibility": null,
       "width": null
      }
     },
     "7a67287928e04e338db42d1a3063005e": {
      "model_module": "@jupyter-widgets/base",
      "model_module_version": "1.2.0",
      "model_name": "LayoutModel",
      "state": {
       "_model_module": "@jupyter-widgets/base",
       "_model_module_version": "1.2.0",
       "_model_name": "LayoutModel",
       "_view_count": null,
       "_view_module": "@jupyter-widgets/base",
       "_view_module_version": "1.2.0",
       "_view_name": "LayoutView",
       "align_content": null,
       "align_items": null,
       "align_self": null,
       "border": null,
       "bottom": null,
       "display": null,
       "flex": null,
       "flex_flow": null,
       "grid_area": null,
       "grid_auto_columns": null,
       "grid_auto_flow": null,
       "grid_auto_rows": null,
       "grid_column": null,
       "grid_gap": null,
       "grid_row": null,
       "grid_template_areas": null,
       "grid_template_columns": null,
       "grid_template_rows": null,
       "height": null,
       "justify_content": null,
       "justify_items": null,
       "left": null,
       "margin": null,
       "max_height": null,
       "max_width": null,
       "min_height": null,
       "min_width": null,
       "object_fit": null,
       "object_position": null,
       "order": null,
       "overflow": null,
       "overflow_x": null,
       "overflow_y": null,
       "padding": null,
       "right": null,
       "top": null,
       "visibility": null,
       "width": null
      }
     },
     "7cc2ffe296194543b39c4b1fa15cc730": {
      "model_module": "@jupyter-widgets/base",
      "model_module_version": "1.2.0",
      "model_name": "LayoutModel",
      "state": {
       "_model_module": "@jupyter-widgets/base",
       "_model_module_version": "1.2.0",
       "_model_name": "LayoutModel",
       "_view_count": null,
       "_view_module": "@jupyter-widgets/base",
       "_view_module_version": "1.2.0",
       "_view_name": "LayoutView",
       "align_content": null,
       "align_items": null,
       "align_self": null,
       "border": null,
       "bottom": null,
       "display": null,
       "flex": null,
       "flex_flow": null,
       "grid_area": null,
       "grid_auto_columns": null,
       "grid_auto_flow": null,
       "grid_auto_rows": null,
       "grid_column": null,
       "grid_gap": null,
       "grid_row": null,
       "grid_template_areas": null,
       "grid_template_columns": null,
       "grid_template_rows": null,
       "height": null,
       "justify_content": null,
       "justify_items": null,
       "left": null,
       "margin": null,
       "max_height": null,
       "max_width": null,
       "min_height": null,
       "min_width": null,
       "object_fit": null,
       "object_position": null,
       "order": null,
       "overflow": null,
       "overflow_x": null,
       "overflow_y": null,
       "padding": null,
       "right": null,
       "top": null,
       "visibility": null,
       "width": null
      }
     },
     "7d8768630973408588c3cbc068dc9f24": {
      "model_module": "@jupyter-widgets/controls",
      "model_module_version": "1.5.0",
      "model_name": "DescriptionStyleModel",
      "state": {
       "_model_module": "@jupyter-widgets/controls",
       "_model_module_version": "1.5.0",
       "_model_name": "DescriptionStyleModel",
       "_view_count": null,
       "_view_module": "@jupyter-widgets/base",
       "_view_module_version": "1.2.0",
       "_view_name": "StyleView",
       "description_width": ""
      }
     },
     "7f015a2261d845e7b89193f36282da23": {
      "model_module": "@jupyter-widgets/base",
      "model_module_version": "1.2.0",
      "model_name": "LayoutModel",
      "state": {
       "_model_module": "@jupyter-widgets/base",
       "_model_module_version": "1.2.0",
       "_model_name": "LayoutModel",
       "_view_count": null,
       "_view_module": "@jupyter-widgets/base",
       "_view_module_version": "1.2.0",
       "_view_name": "LayoutView",
       "align_content": null,
       "align_items": null,
       "align_self": null,
       "border": null,
       "bottom": null,
       "display": null,
       "flex": null,
       "flex_flow": null,
       "grid_area": null,
       "grid_auto_columns": null,
       "grid_auto_flow": null,
       "grid_auto_rows": null,
       "grid_column": null,
       "grid_gap": null,
       "grid_row": null,
       "grid_template_areas": null,
       "grid_template_columns": null,
       "grid_template_rows": null,
       "height": null,
       "justify_content": null,
       "justify_items": null,
       "left": null,
       "margin": null,
       "max_height": null,
       "max_width": null,
       "min_height": null,
       "min_width": null,
       "object_fit": null,
       "object_position": null,
       "order": null,
       "overflow": null,
       "overflow_x": null,
       "overflow_y": null,
       "padding": null,
       "right": null,
       "top": null,
       "visibility": null,
       "width": null
      }
     },
     "805811dfe2024c039cb3a2956d39fb0c": {
      "model_module": "@jupyter-widgets/controls",
      "model_module_version": "1.5.0",
      "model_name": "ProgressStyleModel",
      "state": {
       "_model_module": "@jupyter-widgets/controls",
       "_model_module_version": "1.5.0",
       "_model_name": "ProgressStyleModel",
       "_view_count": null,
       "_view_module": "@jupyter-widgets/base",
       "_view_module_version": "1.2.0",
       "_view_name": "StyleView",
       "bar_color": null,
       "description_width": ""
      }
     },
     "8c6243aaddd5497595bbfb2be3f08e52": {
      "model_module": "@jupyter-widgets/controls",
      "model_module_version": "1.5.0",
      "model_name": "FloatProgressModel",
      "state": {
       "_dom_classes": [],
       "_model_module": "@jupyter-widgets/controls",
       "_model_module_version": "1.5.0",
       "_model_name": "FloatProgressModel",
       "_view_count": null,
       "_view_module": "@jupyter-widgets/controls",
       "_view_module_version": "1.5.0",
       "_view_name": "ProgressView",
       "bar_style": "success",
       "description": "",
       "description_tooltip": null,
       "layout": "IPY_MODEL_52218984b22a47f6b75b12da1948bbce",
       "max": 112.0,
       "min": 0.0,
       "orientation": "horizontal",
       "style": "IPY_MODEL_38b5e96f71b343c187ef00a443952b76",
       "value": 112.0
      }
     },
     "8df0c50b68a04732b242e4445dda5691": {
      "model_module": "@jupyter-widgets/controls",
      "model_module_version": "1.5.0",
      "model_name": "DescriptionStyleModel",
      "state": {
       "_model_module": "@jupyter-widgets/controls",
       "_model_module_version": "1.5.0",
       "_model_name": "DescriptionStyleModel",
       "_view_count": null,
       "_view_module": "@jupyter-widgets/base",
       "_view_module_version": "1.2.0",
       "_view_name": "StyleView",
       "description_width": ""
      }
     },
     "9255008a6409414d9e1a6a904fe6d906": {
      "model_module": "@jupyter-widgets/controls",
      "model_module_version": "1.5.0",
      "model_name": "FloatProgressModel",
      "state": {
       "_dom_classes": [],
       "_model_module": "@jupyter-widgets/controls",
       "_model_module_version": "1.5.0",
       "_model_name": "FloatProgressModel",
       "_view_count": null,
       "_view_module": "@jupyter-widgets/controls",
       "_view_module_version": "1.5.0",
       "_view_name": "ProgressView",
       "bar_style": "success",
       "description": "",
       "description_tooltip": null,
       "layout": "IPY_MODEL_3be617597af24e0daca068ba22ecb92c",
       "max": 267844284.0,
       "min": 0.0,
       "orientation": "horizontal",
       "style": "IPY_MODEL_6226fc1649624480868814273388cca3",
       "value": 267844284.0
      }
     },
     "93d5281ae39c498ea02fe7ba8f6fb549": {
      "model_module": "@jupyter-widgets/controls",
      "model_module_version": "1.5.0",
      "model_name": "HTMLModel",
      "state": {
       "_dom_classes": [],
       "_model_module": "@jupyter-widgets/controls",
       "_model_module_version": "1.5.0",
       "_model_name": "HTMLModel",
       "_view_count": null,
       "_view_module": "@jupyter-widgets/controls",
       "_view_module_version": "1.5.0",
       "_view_name": "HTMLView",
       "description": "",
       "description_tooltip": null,
       "layout": "IPY_MODEL_7f015a2261d845e7b89193f36282da23",
       "placeholder": "​",
       "style": "IPY_MODEL_2f5a024c0f814e23bbcd963ec262b016",
       "value": " 226k/226k [00:00&lt;00:00, 312kB/s]"
      }
     },
     "9a07648b881c4f799973a8e2093c91db": {
      "model_module": "@jupyter-widgets/controls",
      "model_module_version": "1.5.0",
      "model_name": "DescriptionStyleModel",
      "state": {
       "_model_module": "@jupyter-widgets/controls",
       "_model_module_version": "1.5.0",
       "_model_name": "DescriptionStyleModel",
       "_view_count": null,
       "_view_module": "@jupyter-widgets/base",
       "_view_module_version": "1.2.0",
       "_view_name": "StyleView",
       "description_width": ""
      }
     },
     "9ef3df6471f5497cb7ea434a1b6cd891": {
      "model_module": "@jupyter-widgets/base",
      "model_module_version": "1.2.0",
      "model_name": "LayoutModel",
      "state": {
       "_model_module": "@jupyter-widgets/base",
       "_model_module_version": "1.2.0",
       "_model_name": "LayoutModel",
       "_view_count": null,
       "_view_module": "@jupyter-widgets/base",
       "_view_module_version": "1.2.0",
       "_view_name": "LayoutView",
       "align_content": null,
       "align_items": null,
       "align_self": null,
       "border": null,
       "bottom": null,
       "display": null,
       "flex": null,
       "flex_flow": null,
       "grid_area": null,
       "grid_auto_columns": null,
       "grid_auto_flow": null,
       "grid_auto_rows": null,
       "grid_column": null,
       "grid_gap": null,
       "grid_row": null,
       "grid_template_areas": null,
       "grid_template_columns": null,
       "grid_template_rows": null,
       "height": null,
       "justify_content": null,
       "justify_items": null,
       "left": null,
       "margin": null,
       "max_height": null,
       "max_width": null,
       "min_height": null,
       "min_width": null,
       "object_fit": null,
       "object_position": null,
       "order": null,
       "overflow": null,
       "overflow_x": null,
       "overflow_y": null,
       "padding": null,
       "right": null,
       "top": null,
       "visibility": null,
       "width": null
      }
     },
     "a05296dcd4f54ce0aae2d6786fc0378f": {
      "model_module": "@jupyter-widgets/base",
      "model_module_version": "1.2.0",
      "model_name": "LayoutModel",
      "state": {
       "_model_module": "@jupyter-widgets/base",
       "_model_module_version": "1.2.0",
       "_model_name": "LayoutModel",
       "_view_count": null,
       "_view_module": "@jupyter-widgets/base",
       "_view_module_version": "1.2.0",
       "_view_name": "LayoutView",
       "align_content": null,
       "align_items": null,
       "align_self": null,
       "border": null,
       "bottom": null,
       "display": null,
       "flex": null,
       "flex_flow": null,
       "grid_area": null,
       "grid_auto_columns": null,
       "grid_auto_flow": null,
       "grid_auto_rows": null,
       "grid_column": null,
       "grid_gap": null,
       "grid_row": null,
       "grid_template_areas": null,
       "grid_template_columns": null,
       "grid_template_rows": null,
       "height": null,
       "justify_content": null,
       "justify_items": null,
       "left": null,
       "margin": null,
       "max_height": null,
       "max_width": null,
       "min_height": null,
       "min_width": null,
       "object_fit": null,
       "object_position": null,
       "order": null,
       "overflow": null,
       "overflow_x": null,
       "overflow_y": null,
       "padding": null,
       "right": null,
       "top": null,
       "visibility": null,
       "width": null
      }
     },
     "a14800cf2a8f4d09a2d2f8c507255d70": {
      "model_module": "@jupyter-widgets/base",
      "model_module_version": "1.2.0",
      "model_name": "LayoutModel",
      "state": {
       "_model_module": "@jupyter-widgets/base",
       "_model_module_version": "1.2.0",
       "_model_name": "LayoutModel",
       "_view_count": null,
       "_view_module": "@jupyter-widgets/base",
       "_view_module_version": "1.2.0",
       "_view_name": "LayoutView",
       "align_content": null,
       "align_items": null,
       "align_self": null,
       "border": null,
       "bottom": null,
       "display": null,
       "flex": null,
       "flex_flow": null,
       "grid_area": null,
       "grid_auto_columns": null,
       "grid_auto_flow": null,
       "grid_auto_rows": null,
       "grid_column": null,
       "grid_gap": null,
       "grid_row": null,
       "grid_template_areas": null,
       "grid_template_columns": null,
       "grid_template_rows": null,
       "height": null,
       "justify_content": null,
       "justify_items": null,
       "left": null,
       "margin": null,
       "max_height": null,
       "max_width": null,
       "min_height": null,
       "min_width": null,
       "object_fit": null,
       "object_position": null,
       "order": null,
       "overflow": null,
       "overflow_x": null,
       "overflow_y": null,
       "padding": null,
       "right": null,
       "top": null,
       "visibility": null,
       "width": null
      }
     },
     "a23b3f78018a440ab436d74c741aecfe": {
      "model_module": "@jupyter-widgets/controls",
      "model_module_version": "1.5.0",
      "model_name": "ProgressStyleModel",
      "state": {
       "_model_module": "@jupyter-widgets/controls",
       "_model_module_version": "1.5.0",
       "_model_name": "ProgressStyleModel",
       "_view_count": null,
       "_view_module": "@jupyter-widgets/base",
       "_view_module_version": "1.2.0",
       "_view_name": "StyleView",
       "bar_color": null,
       "description_width": ""
      }
     },
     "a409bdbfd6bc4a87b32dfcc620ed6fdf": {
      "model_module": "@jupyter-widgets/base",
      "model_module_version": "1.2.0",
      "model_name": "LayoutModel",
      "state": {
       "_model_module": "@jupyter-widgets/base",
       "_model_module_version": "1.2.0",
       "_model_name": "LayoutModel",
       "_view_count": null,
       "_view_module": "@jupyter-widgets/base",
       "_view_module_version": "1.2.0",
       "_view_name": "LayoutView",
       "align_content": null,
       "align_items": null,
       "align_self": null,
       "border": null,
       "bottom": null,
       "display": null,
       "flex": null,
       "flex_flow": null,
       "grid_area": null,
       "grid_auto_columns": null,
       "grid_auto_flow": null,
       "grid_auto_rows": null,
       "grid_column": null,
       "grid_gap": null,
       "grid_row": null,
       "grid_template_areas": null,
       "grid_template_columns": null,
       "grid_template_rows": null,
       "height": null,
       "justify_content": null,
       "justify_items": null,
       "left": null,
       "margin": null,
       "max_height": null,
       "max_width": null,
       "min_height": null,
       "min_width": null,
       "object_fit": null,
       "object_position": null,
       "order": null,
       "overflow": null,
       "overflow_x": null,
       "overflow_y": null,
       "padding": null,
       "right": null,
       "top": null,
       "visibility": null,
       "width": null
      }
     },
     "a585016c5bfe404d9a5a4dd6174db443": {
      "model_module": "@jupyter-widgets/controls",
      "model_module_version": "1.5.0",
      "model_name": "HTMLModel",
      "state": {
       "_dom_classes": [],
       "_model_module": "@jupyter-widgets/controls",
       "_model_module_version": "1.5.0",
       "_model_name": "HTMLModel",
       "_view_count": null,
       "_view_module": "@jupyter-widgets/controls",
       "_view_module_version": "1.5.0",
       "_view_name": "HTMLView",
       "description": "",
       "description_tooltip": null,
       "layout": "IPY_MODEL_a05296dcd4f54ce0aae2d6786fc0378f",
       "placeholder": "​",
       "style": "IPY_MODEL_175edd4a12b84e03b77a8991f6cc52e7",
       "value": " 421/421 [00:00&lt;00:00, 16.9kB/s]"
      }
     },
     "a677fab58dc14e39bc834b8cef0ee8bc": {
      "model_module": "@jupyter-widgets/controls",
      "model_module_version": "1.5.0",
      "model_name": "HTMLModel",
      "state": {
       "_dom_classes": [],
       "_model_module": "@jupyter-widgets/controls",
       "_model_module_version": "1.5.0",
       "_model_name": "HTMLModel",
       "_view_count": null,
       "_view_module": "@jupyter-widgets/controls",
       "_view_module_version": "1.5.0",
       "_view_name": "HTMLView",
       "description": "",
       "description_tooltip": null,
       "layout": "IPY_MODEL_7a18955e96a4481f92b5ff3b5ce66bd9",
       "placeholder": "​",
       "style": "IPY_MODEL_5beb6bef81124c28b240c8df580e3fe1",
       "value": "Downloading: 100%"
      }
     },
     "a7f0e17f1afb4aeb90f34c6aa465cf51": {
      "model_module": "@jupyter-widgets/controls",
      "model_module_version": "1.5.0",
      "model_name": "DescriptionStyleModel",
      "state": {
       "_model_module": "@jupyter-widgets/controls",
       "_model_module_version": "1.5.0",
       "_model_name": "DescriptionStyleModel",
       "_view_count": null,
       "_view_module": "@jupyter-widgets/base",
       "_view_module_version": "1.2.0",
       "_view_name": "StyleView",
       "description_width": ""
      }
     },
     "a815641e50fb473c90e2811af51ee301": {
      "model_module": "@jupyter-widgets/controls",
      "model_module_version": "1.5.0",
      "model_name": "DescriptionStyleModel",
      "state": {
       "_model_module": "@jupyter-widgets/controls",
       "_model_module_version": "1.5.0",
       "_model_name": "DescriptionStyleModel",
       "_view_count": null,
       "_view_module": "@jupyter-widgets/base",
       "_view_module_version": "1.2.0",
       "_view_name": "StyleView",
       "description_width": ""
      }
     },
     "ac2040953c444c9e8325465dfd94c0cc": {
      "model_module": "@jupyter-widgets/base",
      "model_module_version": "1.2.0",
      "model_name": "LayoutModel",
      "state": {
       "_model_module": "@jupyter-widgets/base",
       "_model_module_version": "1.2.0",
       "_model_name": "LayoutModel",
       "_view_count": null,
       "_view_module": "@jupyter-widgets/base",
       "_view_module_version": "1.2.0",
       "_view_name": "LayoutView",
       "align_content": null,
       "align_items": null,
       "align_self": null,
       "border": null,
       "bottom": null,
       "display": null,
       "flex": null,
       "flex_flow": null,
       "grid_area": null,
       "grid_auto_columns": null,
       "grid_auto_flow": null,
       "grid_auto_rows": null,
       "grid_column": null,
       "grid_gap": null,
       "grid_row": null,
       "grid_template_areas": null,
       "grid_template_columns": null,
       "grid_template_rows": null,
       "height": null,
       "justify_content": null,
       "justify_items": null,
       "left": null,
       "margin": null,
       "max_height": null,
       "max_width": null,
       "min_height": null,
       "min_width": null,
       "object_fit": null,
       "object_position": null,
       "order": null,
       "overflow": null,
       "overflow_x": null,
       "overflow_y": null,
       "padding": null,
       "right": null,
       "top": null,
       "visibility": null,
       "width": null
      }
     },
     "af3b5ca0aefa4f6d8de02a6b2a0671f9": {
      "model_module": "@jupyter-widgets/controls",
      "model_module_version": "1.5.0",
      "model_name": "HBoxModel",
      "state": {
       "_dom_classes": [],
       "_model_module": "@jupyter-widgets/controls",
       "_model_module_version": "1.5.0",
       "_model_name": "HBoxModel",
       "_view_count": null,
       "_view_module": "@jupyter-widgets/controls",
       "_view_module_version": "1.5.0",
       "_view_name": "HBoxView",
       "box_style": "",
       "children": [
        "IPY_MODEL_76ff78d832ab457db3adc8610f78f083",
        "IPY_MODEL_ebea6432e5864296a136910237738713",
        "IPY_MODEL_405d6ea1d930420c8c8a0448291d1386"
       ],
       "layout": "IPY_MODEL_a14800cf2a8f4d09a2d2f8c507255d70"
      }
     },
     "af448bf52eec494ea057d03569efcc34": {
      "model_module": "@jupyter-widgets/base",
      "model_module_version": "1.2.0",
      "model_name": "LayoutModel",
      "state": {
       "_model_module": "@jupyter-widgets/base",
       "_model_module_version": "1.2.0",
       "_model_name": "LayoutModel",
       "_view_count": null,
       "_view_module": "@jupyter-widgets/base",
       "_view_module_version": "1.2.0",
       "_view_name": "LayoutView",
       "align_content": null,
       "align_items": null,
       "align_self": null,
       "border": null,
       "bottom": null,
       "display": null,
       "flex": null,
       "flex_flow": null,
       "grid_area": null,
       "grid_auto_columns": null,
       "grid_auto_flow": null,
       "grid_auto_rows": null,
       "grid_column": null,
       "grid_gap": null,
       "grid_row": null,
       "grid_template_areas": null,
       "grid_template_columns": null,
       "grid_template_rows": null,
       "height": null,
       "justify_content": null,
       "justify_items": null,
       "left": null,
       "margin": null,
       "max_height": null,
       "max_width": null,
       "min_height": null,
       "min_width": null,
       "object_fit": null,
       "object_position": null,
       "order": null,
       "overflow": null,
       "overflow_x": null,
       "overflow_y": null,
       "padding": null,
       "right": null,
       "top": null,
       "visibility": null,
       "width": null
      }
     },
     "b0d09f622f654fe49c2392be94192e22": {
      "model_module": "@jupyter-widgets/base",
      "model_module_version": "1.2.0",
      "model_name": "LayoutModel",
      "state": {
       "_model_module": "@jupyter-widgets/base",
       "_model_module_version": "1.2.0",
       "_model_name": "LayoutModel",
       "_view_count": null,
       "_view_module": "@jupyter-widgets/base",
       "_view_module_version": "1.2.0",
       "_view_name": "LayoutView",
       "align_content": null,
       "align_items": null,
       "align_self": null,
       "border": null,
       "bottom": null,
       "display": null,
       "flex": null,
       "flex_flow": null,
       "grid_area": null,
       "grid_auto_columns": null,
       "grid_auto_flow": null,
       "grid_auto_rows": null,
       "grid_column": null,
       "grid_gap": null,
       "grid_row": null,
       "grid_template_areas": null,
       "grid_template_columns": null,
       "grid_template_rows": null,
       "height": null,
       "justify_content": null,
       "justify_items": null,
       "left": null,
       "margin": null,
       "max_height": null,
       "max_width": null,
       "min_height": null,
       "min_width": null,
       "object_fit": null,
       "object_position": null,
       "order": null,
       "overflow": null,
       "overflow_x": null,
       "overflow_y": null,
       "padding": null,
       "right": null,
       "top": null,
       "visibility": null,
       "width": null
      }
     },
     "b41ad468401f43feb3165b3fb6526e8f": {
      "model_module": "@jupyter-widgets/base",
      "model_module_version": "1.2.0",
      "model_name": "LayoutModel",
      "state": {
       "_model_module": "@jupyter-widgets/base",
       "_model_module_version": "1.2.0",
       "_model_name": "LayoutModel",
       "_view_count": null,
       "_view_module": "@jupyter-widgets/base",
       "_view_module_version": "1.2.0",
       "_view_name": "LayoutView",
       "align_content": null,
       "align_items": null,
       "align_self": null,
       "border": null,
       "bottom": null,
       "display": null,
       "flex": null,
       "flex_flow": null,
       "grid_area": null,
       "grid_auto_columns": null,
       "grid_auto_flow": null,
       "grid_auto_rows": null,
       "grid_column": null,
       "grid_gap": null,
       "grid_row": null,
       "grid_template_areas": null,
       "grid_template_columns": null,
       "grid_template_rows": null,
       "height": null,
       "justify_content": null,
       "justify_items": null,
       "left": null,
       "margin": null,
       "max_height": null,
       "max_width": null,
       "min_height": null,
       "min_width": null,
       "object_fit": null,
       "object_position": null,
       "order": null,
       "overflow": null,
       "overflow_x": null,
       "overflow_y": null,
       "padding": null,
       "right": null,
       "top": null,
       "visibility": null,
       "width": null
      }
     },
     "c210c9a027674df48062c08dee13fc59": {
      "model_module": "@jupyter-widgets/controls",
      "model_module_version": "1.5.0",
      "model_name": "HBoxModel",
      "state": {
       "_dom_classes": [],
       "_model_module": "@jupyter-widgets/controls",
       "_model_module_version": "1.5.0",
       "_model_name": "HBoxModel",
       "_view_count": null,
       "_view_module": "@jupyter-widgets/controls",
       "_view_module_version": "1.5.0",
       "_view_name": "HBoxView",
       "box_style": "",
       "children": [
        "IPY_MODEL_cd4bc35777bc4105b555c2536e377da0",
        "IPY_MODEL_9255008a6409414d9e1a6a904fe6d906",
        "IPY_MODEL_261be4dc0c474da2b6f6a82b771f6770"
       ],
       "layout": "IPY_MODEL_551aad488fe747449b7a6249b571d138"
      }
     },
     "c2f12f82136a426f9322dc361e9b4a49": {
      "model_module": "@jupyter-widgets/base",
      "model_module_version": "1.2.0",
      "model_name": "LayoutModel",
      "state": {
       "_model_module": "@jupyter-widgets/base",
       "_model_module_version": "1.2.0",
       "_model_name": "LayoutModel",
       "_view_count": null,
       "_view_module": "@jupyter-widgets/base",
       "_view_module_version": "1.2.0",
       "_view_name": "LayoutView",
       "align_content": null,
       "align_items": null,
       "align_self": null,
       "border": null,
       "bottom": null,
       "display": null,
       "flex": null,
       "flex_flow": null,
       "grid_area": null,
       "grid_auto_columns": null,
       "grid_auto_flow": null,
       "grid_auto_rows": null,
       "grid_column": null,
       "grid_gap": null,
       "grid_row": null,
       "grid_template_areas": null,
       "grid_template_columns": null,
       "grid_template_rows": null,
       "height": null,
       "justify_content": null,
       "justify_items": null,
       "left": null,
       "margin": null,
       "max_height": null,
       "max_width": null,
       "min_height": null,
       "min_width": null,
       "object_fit": null,
       "object_position": null,
       "order": null,
       "overflow": null,
       "overflow_x": null,
       "overflow_y": null,
       "padding": null,
       "right": null,
       "top": null,
       "visibility": null,
       "width": null
      }
     },
     "c94e4cbc2f404479b2c7c4a9d19fa43a": {
      "model_module": "@jupyter-widgets/base",
      "model_module_version": "1.2.0",
      "model_name": "LayoutModel",
      "state": {
       "_model_module": "@jupyter-widgets/base",
       "_model_module_version": "1.2.0",
       "_model_name": "LayoutModel",
       "_view_count": null,
       "_view_module": "@jupyter-widgets/base",
       "_view_module_version": "1.2.0",
       "_view_name": "LayoutView",
       "align_content": null,
       "align_items": null,
       "align_self": null,
       "border": null,
       "bottom": null,
       "display": null,
       "flex": null,
       "flex_flow": null,
       "grid_area": null,
       "grid_auto_columns": null,
       "grid_auto_flow": null,
       "grid_auto_rows": null,
       "grid_column": null,
       "grid_gap": null,
       "grid_row": null,
       "grid_template_areas": null,
       "grid_template_columns": null,
       "grid_template_rows": null,
       "height": null,
       "justify_content": null,
       "justify_items": null,
       "left": null,
       "margin": null,
       "max_height": null,
       "max_width": null,
       "min_height": null,
       "min_width": null,
       "object_fit": null,
       "object_position": null,
       "order": null,
       "overflow": null,
       "overflow_x": null,
       "overflow_y": null,
       "padding": null,
       "right": null,
       "top": null,
       "visibility": null,
       "width": null
      }
     },
     "cc5dac67a7b940c4804ce4a0a21504e7": {
      "model_module": "@jupyter-widgets/controls",
      "model_module_version": "1.5.0",
      "model_name": "DescriptionStyleModel",
      "state": {
       "_model_module": "@jupyter-widgets/controls",
       "_model_module_version": "1.5.0",
       "_model_name": "DescriptionStyleModel",
       "_view_count": null,
       "_view_module": "@jupyter-widgets/base",
       "_view_module_version": "1.2.0",
       "_view_name": "StyleView",
       "description_width": ""
      }
     },
     "cce952e1d7944e0cac3d17d9793aa0f7": {
      "model_module": "@jupyter-widgets/base",
      "model_module_version": "1.2.0",
      "model_name": "LayoutModel",
      "state": {
       "_model_module": "@jupyter-widgets/base",
       "_model_module_version": "1.2.0",
       "_model_name": "LayoutModel",
       "_view_count": null,
       "_view_module": "@jupyter-widgets/base",
       "_view_module_version": "1.2.0",
       "_view_name": "LayoutView",
       "align_content": null,
       "align_items": null,
       "align_self": null,
       "border": null,
       "bottom": null,
       "display": null,
       "flex": null,
       "flex_flow": null,
       "grid_area": null,
       "grid_auto_columns": null,
       "grid_auto_flow": null,
       "grid_auto_rows": null,
       "grid_column": null,
       "grid_gap": null,
       "grid_row": null,
       "grid_template_areas": null,
       "grid_template_columns": null,
       "grid_template_rows": null,
       "height": null,
       "justify_content": null,
       "justify_items": null,
       "left": null,
       "margin": null,
       "max_height": null,
       "max_width": null,
       "min_height": null,
       "min_width": null,
       "object_fit": null,
       "object_position": null,
       "order": null,
       "overflow": null,
       "overflow_x": null,
       "overflow_y": null,
       "padding": null,
       "right": null,
       "top": null,
       "visibility": null,
       "width": null
      }
     },
     "cd4bc35777bc4105b555c2536e377da0": {
      "model_module": "@jupyter-widgets/controls",
      "model_module_version": "1.5.0",
      "model_name": "HTMLModel",
      "state": {
       "_dom_classes": [],
       "_model_module": "@jupyter-widgets/controls",
       "_model_module_version": "1.5.0",
       "_model_name": "HTMLModel",
       "_view_count": null,
       "_view_module": "@jupyter-widgets/controls",
       "_view_module_version": "1.5.0",
       "_view_name": "HTMLView",
       "description": "",
       "description_tooltip": null,
       "layout": "IPY_MODEL_4ceeeb87066642f09e1626500a8e7a33",
       "placeholder": "​",
       "style": "IPY_MODEL_0092bdb4fea24844ae619c1b53bb1342",
       "value": "Downloading: 100%"
      }
     },
     "ce6c3fa3db074a38ab1b1a987021f250": {
      "model_module": "@jupyter-widgets/base",
      "model_module_version": "1.2.0",
      "model_name": "LayoutModel",
      "state": {
       "_model_module": "@jupyter-widgets/base",
       "_model_module_version": "1.2.0",
       "_model_name": "LayoutModel",
       "_view_count": null,
       "_view_module": "@jupyter-widgets/base",
       "_view_module_version": "1.2.0",
       "_view_name": "LayoutView",
       "align_content": null,
       "align_items": null,
       "align_self": null,
       "border": null,
       "bottom": null,
       "display": null,
       "flex": null,
       "flex_flow": null,
       "grid_area": null,
       "grid_auto_columns": null,
       "grid_auto_flow": null,
       "grid_auto_rows": null,
       "grid_column": null,
       "grid_gap": null,
       "grid_row": null,
       "grid_template_areas": null,
       "grid_template_columns": null,
       "grid_template_rows": null,
       "height": null,
       "justify_content": null,
       "justify_items": null,
       "left": null,
       "margin": null,
       "max_height": null,
       "max_width": null,
       "min_height": null,
       "min_width": null,
       "object_fit": null,
       "object_position": null,
       "order": null,
       "overflow": null,
       "overflow_x": null,
       "overflow_y": null,
       "padding": null,
       "right": null,
       "top": null,
       "visibility": null,
       "width": null
      }
     },
     "d0891b6d79aa4c77b3d3d3f475b0da74": {
      "model_module": "@jupyter-widgets/controls",
      "model_module_version": "1.5.0",
      "model_name": "HBoxModel",
      "state": {
       "_dom_classes": [],
       "_model_module": "@jupyter-widgets/controls",
       "_model_module_version": "1.5.0",
       "_model_name": "HBoxModel",
       "_view_count": null,
       "_view_module": "@jupyter-widgets/controls",
       "_view_module_version": "1.5.0",
       "_view_name": "HBoxView",
       "box_style": "",
       "children": [
        "IPY_MODEL_563fa2ed929d40a69f6b3d536dd25db4",
        "IPY_MODEL_5d153001709941689c630db49032dd7f",
        "IPY_MODEL_3771e07a7c2c441da20c4bc42944c35b"
       ],
       "layout": "IPY_MODEL_ac2040953c444c9e8325465dfd94c0cc"
      }
     },
     "d31851bc7525442893c6e0170c2ad7ac": {
      "model_module": "@jupyter-widgets/controls",
      "model_module_version": "1.5.0",
      "model_name": "HTMLModel",
      "state": {
       "_dom_classes": [],
       "_model_module": "@jupyter-widgets/controls",
       "_model_module_version": "1.5.0",
       "_model_name": "HTMLModel",
       "_view_count": null,
       "_view_module": "@jupyter-widgets/controls",
       "_view_module_version": "1.5.0",
       "_view_name": "HTMLView",
       "description": "",
       "description_tooltip": null,
       "layout": "IPY_MODEL_7a67287928e04e338db42d1a3063005e",
       "placeholder": "​",
       "style": "IPY_MODEL_9a07648b881c4f799973a8e2093c91db",
       "value": " 226k/226k [00:00&lt;00:00, 352kB/s]"
      }
     },
     "defb3c2f94044a568f7fe82f3f1aefad": {
      "model_module": "@jupyter-widgets/base",
      "model_module_version": "1.2.0",
      "model_name": "LayoutModel",
      "state": {
       "_model_module": "@jupyter-widgets/base",
       "_model_module_version": "1.2.0",
       "_model_name": "LayoutModel",
       "_view_count": null,
       "_view_module": "@jupyter-widgets/base",
       "_view_module_version": "1.2.0",
       "_view_name": "LayoutView",
       "align_content": null,
       "align_items": null,
       "align_self": null,
       "border": null,
       "bottom": null,
       "display": null,
       "flex": null,
       "flex_flow": null,
       "grid_area": null,
       "grid_auto_columns": null,
       "grid_auto_flow": null,
       "grid_auto_rows": null,
       "grid_column": null,
       "grid_gap": null,
       "grid_row": null,
       "grid_template_areas": null,
       "grid_template_columns": null,
       "grid_template_rows": null,
       "height": null,
       "justify_content": null,
       "justify_items": null,
       "left": null,
       "margin": null,
       "max_height": null,
       "max_width": null,
       "min_height": null,
       "min_width": null,
       "object_fit": null,
       "object_position": null,
       "order": null,
       "overflow": null,
       "overflow_x": null,
       "overflow_y": null,
       "padding": null,
       "right": null,
       "top": null,
       "visibility": null,
       "width": null
      }
     },
     "e290dcebc9264cd0b35a771787c872b2": {
      "model_module": "@jupyter-widgets/controls",
      "model_module_version": "1.5.0",
      "model_name": "HTMLModel",
      "state": {
       "_dom_classes": [],
       "_model_module": "@jupyter-widgets/controls",
       "_model_module_version": "1.5.0",
       "_model_name": "HTMLModel",
       "_view_count": null,
       "_view_module": "@jupyter-widgets/controls",
       "_view_module_version": "1.5.0",
       "_view_name": "HTMLView",
       "description": "",
       "description_tooltip": null,
       "layout": "IPY_MODEL_defb3c2f94044a568f7fe82f3f1aefad",
       "placeholder": "​",
       "style": "IPY_MODEL_7d8768630973408588c3cbc068dc9f24",
       "value": "Downloading: 100%"
      }
     },
     "ebea6432e5864296a136910237738713": {
      "model_module": "@jupyter-widgets/controls",
      "model_module_version": "1.5.0",
      "model_name": "FloatProgressModel",
      "state": {
       "_dom_classes": [],
       "_model_module": "@jupyter-widgets/controls",
       "_model_module_version": "1.5.0",
       "_model_name": "FloatProgressModel",
       "_view_count": null,
       "_view_module": "@jupyter-widgets/controls",
       "_view_module_version": "1.5.0",
       "_view_name": "ProgressView",
       "bar_style": "success",
       "description": "",
       "description_tooltip": null,
       "layout": "IPY_MODEL_5854929fa86043f0acc165127b89d66b",
       "max": 1755.0,
       "min": 0.0,
       "orientation": "horizontal",
       "style": "IPY_MODEL_805811dfe2024c039cb3a2956d39fb0c",
       "value": 1755.0
      }
     },
     "ec052b7270ca4ca889fa90746b79b941": {
      "model_module": "@jupyter-widgets/controls",
      "model_module_version": "1.5.0",
      "model_name": "HTMLModel",
      "state": {
       "_dom_classes": [],
       "_model_module": "@jupyter-widgets/controls",
       "_model_module_version": "1.5.0",
       "_model_name": "HTMLModel",
       "_view_count": null,
       "_view_module": "@jupyter-widgets/controls",
       "_view_module_version": "1.5.0",
       "_view_name": "HTMLView",
       "description": "",
       "description_tooltip": null,
       "layout": "IPY_MODEL_cce952e1d7944e0cac3d17d9793aa0f7",
       "placeholder": "​",
       "style": "IPY_MODEL_56df136650fc449184472fe8059fb2b0",
       "value": "Downloading: 100%"
      }
     },
     "f87f7c5551c640cdbf1d5ef460285c1b": {
      "model_module": "@jupyter-widgets/controls",
      "model_module_version": "1.5.0",
      "model_name": "HBoxModel",
      "state": {
       "_dom_classes": [],
       "_model_module": "@jupyter-widgets/controls",
       "_model_module_version": "1.5.0",
       "_model_name": "HBoxModel",
       "_view_count": null,
       "_view_module": "@jupyter-widgets/controls",
       "_view_module_version": "1.5.0",
       "_view_name": "HBoxView",
       "box_style": "",
       "children": [
        "IPY_MODEL_3e1f966bf2694e73a60a681c1f2e6dc0",
        "IPY_MODEL_8c6243aaddd5497595bbfb2be3f08e52",
        "IPY_MODEL_4440fbcfe88a44c4aeeffd64a3fb20e0"
       ],
       "layout": "IPY_MODEL_0b715b9f6317428489a6b5fe7ee8de89"
      }
     },
     "fd121886056a4df89d5b1240e5274524": {
      "model_module": "@jupyter-widgets/base",
      "model_module_version": "1.2.0",
      "model_name": "LayoutModel",
      "state": {
       "_model_module": "@jupyter-widgets/base",
       "_model_module_version": "1.2.0",
       "_model_name": "LayoutModel",
       "_view_count": null,
       "_view_module": "@jupyter-widgets/base",
       "_view_module_version": "1.2.0",
       "_view_name": "LayoutView",
       "align_content": null,
       "align_items": null,
       "align_self": null,
       "border": null,
       "bottom": null,
       "display": null,
       "flex": null,
       "flex_flow": null,
       "grid_area": null,
       "grid_auto_columns": null,
       "grid_auto_flow": null,
       "grid_auto_rows": null,
       "grid_column": null,
       "grid_gap": null,
       "grid_row": null,
       "grid_template_areas": null,
       "grid_template_columns": null,
       "grid_template_rows": null,
       "height": null,
       "justify_content": null,
       "justify_items": null,
       "left": null,
       "margin": null,
       "max_height": null,
       "max_width": null,
       "min_height": null,
       "min_width": null,
       "object_fit": null,
       "object_position": null,
       "order": null,
       "overflow": null,
       "overflow_x": null,
       "overflow_y": null,
       "padding": null,
       "right": null,
       "top": null,
       "visibility": null,
       "width": null
      }
     },
     "fec4d0684ab24cc687d11ee8b2d3e968": {
      "model_module": "@jupyter-widgets/controls",
      "model_module_version": "1.5.0",
      "model_name": "ProgressStyleModel",
      "state": {
       "_model_module": "@jupyter-widgets/controls",
       "_model_module_version": "1.5.0",
       "_model_name": "ProgressStyleModel",
       "_view_count": null,
       "_view_module": "@jupyter-widgets/base",
       "_view_module_version": "1.2.0",
       "_view_name": "StyleView",
       "bar_color": null,
       "description_width": ""
      }
     }
    },
    "version_major": 2,
    "version_minor": 0
   }
  }
 },
 "nbformat": 4,
 "nbformat_minor": 5
}
